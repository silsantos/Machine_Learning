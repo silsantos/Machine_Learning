{
 "cells": [
  {
   "cell_type": "markdown",
   "id": "a383d1e7-9fb1-46c4-bdae-f3c45e9d48db",
   "metadata": {},
   "source": [
    "### Credit Scoring\n",
    "***"
   ]
  },
  {
   "cell_type": "markdown",
   "id": "d1fb2b9d-41b7-449a-8be9-6d6dcf92fbd0",
   "metadata": {},
   "source": [
    "### Pilares da Cadeia de Crédito:\n",
    "\n",
    "* Prospecção\n",
    "* Concessão\n",
    "\n",
    "> Toda concessão de crédito está relacionada ao risco de inadimplência.\n",
    "\n",
    "* Gestão de Risco\n",
    "* Recuperação"
   ]
  },
  {
   "cell_type": "markdown",
   "id": "4b4bf830-b1ae-4447-8faa-63586c8f063f",
   "metadata": {},
   "source": [
    "### Bibliotecas"
   ]
  },
  {
   "cell_type": "code",
   "execution_count": 108,
   "id": "9b30ae28-ab3d-444d-9544-1d014c3b241a",
   "metadata": {},
   "outputs": [],
   "source": [
    "import pandas as pd\n",
    "import numpy as np\n",
    "\n",
    "# Formatação:\n",
    "pd.options.display.float_format = '{:.2f}'.format\n",
    "pd.set_option('max_columns', None)\n",
    "pd.set_option('max_rows', 500)"
   ]
  },
  {
   "cell_type": "markdown",
   "id": "858b6f24-7d60-4ade-bd74-99cb39608a62",
   "metadata": {},
   "source": [
    "### Dados"
   ]
  },
  {
   "cell_type": "code",
   "execution_count": 109,
   "id": "67ed8231-e232-4c5c-8b3d-6ea1ef977d02",
   "metadata": {},
   "outputs": [
    {
     "data": {
      "text/html": [
       "<div>\n",
       "<style scoped>\n",
       "    .dataframe tbody tr th:only-of-type {\n",
       "        vertical-align: middle;\n",
       "    }\n",
       "\n",
       "    .dataframe tbody tr th {\n",
       "        vertical-align: top;\n",
       "    }\n",
       "\n",
       "    .dataframe thead th {\n",
       "        text-align: right;\n",
       "    }\n",
       "</style>\n",
       "<table border=\"1\" class=\"dataframe\">\n",
       "  <thead>\n",
       "    <tr style=\"text-align: right;\">\n",
       "      <th></th>\n",
       "      <th>default</th>\n",
       "      <th>conta_corrente</th>\n",
       "      <th>prazo_emprestimo_meses</th>\n",
       "      <th>historico_credito</th>\n",
       "      <th>proposito_emprestimo</th>\n",
       "      <th>valor_emprestimo</th>\n",
       "      <th>reserva_cc</th>\n",
       "      <th>tempo_emprego_atual</th>\n",
       "      <th>taxa_comp_salario</th>\n",
       "      <th>sexo_est_civil</th>\n",
       "      <th>outros_fiadores</th>\n",
       "      <th>anos_residencia_atual</th>\n",
       "      <th>propriedade</th>\n",
       "      <th>idade</th>\n",
       "      <th>outros_planos_financiamento</th>\n",
       "      <th>tipo_residencia</th>\n",
       "      <th>n_creditos_banco</th>\n",
       "      <th>status_emprego</th>\n",
       "      <th>n_dependentes</th>\n",
       "      <th>telefone</th>\n",
       "      <th>trabalhador_estrangeiro</th>\n",
       "    </tr>\n",
       "  </thead>\n",
       "  <tbody>\n",
       "    <tr>\n",
       "      <th>0</th>\n",
       "      <td>0</td>\n",
       "      <td>&lt; 0 DM</td>\n",
       "      <td>6</td>\n",
       "      <td>critical account/ other credits existing (not ...</td>\n",
       "      <td>domestic appliances</td>\n",
       "      <td>1169</td>\n",
       "      <td>unknown/ no savings account</td>\n",
       "      <td>.. &gt;= 7 years</td>\n",
       "      <td>4</td>\n",
       "      <td>male : single</td>\n",
       "      <td>none</td>\n",
       "      <td>4</td>\n",
       "      <td>real estate</td>\n",
       "      <td>67</td>\n",
       "      <td>none</td>\n",
       "      <td>own</td>\n",
       "      <td>2</td>\n",
       "      <td>skilled employee / official</td>\n",
       "      <td>1</td>\n",
       "      <td>yes, registered under the customers name</td>\n",
       "      <td>yes</td>\n",
       "    </tr>\n",
       "    <tr>\n",
       "      <th>1</th>\n",
       "      <td>1</td>\n",
       "      <td>0 &lt;= ... &lt; 200 DM</td>\n",
       "      <td>48</td>\n",
       "      <td>existing credits paid back duly till now</td>\n",
       "      <td>domestic appliances</td>\n",
       "      <td>5951</td>\n",
       "      <td>... &lt; 100 DM</td>\n",
       "      <td>1 &lt;= ... &lt; 4 years</td>\n",
       "      <td>2</td>\n",
       "      <td>female : divorced/separated/married</td>\n",
       "      <td>none</td>\n",
       "      <td>2</td>\n",
       "      <td>real estate</td>\n",
       "      <td>22</td>\n",
       "      <td>none</td>\n",
       "      <td>own</td>\n",
       "      <td>1</td>\n",
       "      <td>skilled employee / official</td>\n",
       "      <td>1</td>\n",
       "      <td>none</td>\n",
       "      <td>yes</td>\n",
       "    </tr>\n",
       "    <tr>\n",
       "      <th>2</th>\n",
       "      <td>0</td>\n",
       "      <td>no checking account</td>\n",
       "      <td>12</td>\n",
       "      <td>critical account/ other credits existing (not ...</td>\n",
       "      <td>(vacation - does not exist?)</td>\n",
       "      <td>2096</td>\n",
       "      <td>... &lt; 100 DM</td>\n",
       "      <td>4 &lt;= ... &lt; 7 years</td>\n",
       "      <td>2</td>\n",
       "      <td>male : single</td>\n",
       "      <td>none</td>\n",
       "      <td>3</td>\n",
       "      <td>real estate</td>\n",
       "      <td>49</td>\n",
       "      <td>none</td>\n",
       "      <td>own</td>\n",
       "      <td>1</td>\n",
       "      <td>unskilled - resident</td>\n",
       "      <td>2</td>\n",
       "      <td>none</td>\n",
       "      <td>yes</td>\n",
       "    </tr>\n",
       "    <tr>\n",
       "      <th>3</th>\n",
       "      <td>0</td>\n",
       "      <td>&lt; 0 DM</td>\n",
       "      <td>42</td>\n",
       "      <td>existing credits paid back duly till now</td>\n",
       "      <td>radio/television</td>\n",
       "      <td>7882</td>\n",
       "      <td>... &lt; 100 DM</td>\n",
       "      <td>4 &lt;= ... &lt; 7 years</td>\n",
       "      <td>2</td>\n",
       "      <td>male : single</td>\n",
       "      <td>guarantor</td>\n",
       "      <td>4</td>\n",
       "      <td>if not A121 : building society savings agreeme...</td>\n",
       "      <td>45</td>\n",
       "      <td>none</td>\n",
       "      <td>for free</td>\n",
       "      <td>1</td>\n",
       "      <td>skilled employee / official</td>\n",
       "      <td>2</td>\n",
       "      <td>none</td>\n",
       "      <td>yes</td>\n",
       "    </tr>\n",
       "    <tr>\n",
       "      <th>4</th>\n",
       "      <td>1</td>\n",
       "      <td>&lt; 0 DM</td>\n",
       "      <td>24</td>\n",
       "      <td>delay in paying off in the past</td>\n",
       "      <td>car (new)</td>\n",
       "      <td>4870</td>\n",
       "      <td>... &lt; 100 DM</td>\n",
       "      <td>1 &lt;= ... &lt; 4 years</td>\n",
       "      <td>3</td>\n",
       "      <td>male : single</td>\n",
       "      <td>none</td>\n",
       "      <td>4</td>\n",
       "      <td>unknown / no property</td>\n",
       "      <td>53</td>\n",
       "      <td>none</td>\n",
       "      <td>for free</td>\n",
       "      <td>2</td>\n",
       "      <td>skilled employee / official</td>\n",
       "      <td>2</td>\n",
       "      <td>none</td>\n",
       "      <td>yes</td>\n",
       "    </tr>\n",
       "  </tbody>\n",
       "</table>\n",
       "</div>"
      ],
      "text/plain": [
       "   default       conta_corrente  prazo_emprestimo_meses  \\\n",
       "0        0               < 0 DM                       6   \n",
       "1        1    0 <= ... < 200 DM                      48   \n",
       "2        0  no checking account                      12   \n",
       "3        0               < 0 DM                      42   \n",
       "4        1               < 0 DM                      24   \n",
       "\n",
       "                                   historico_credito  \\\n",
       "0  critical account/ other credits existing (not ...   \n",
       "1           existing credits paid back duly till now   \n",
       "2  critical account/ other credits existing (not ...   \n",
       "3           existing credits paid back duly till now   \n",
       "4                    delay in paying off in the past   \n",
       "\n",
       "           proposito_emprestimo  valor_emprestimo  \\\n",
       "0           domestic appliances              1169   \n",
       "1           domestic appliances              5951   \n",
       "2  (vacation - does not exist?)              2096   \n",
       "3              radio/television              7882   \n",
       "4                     car (new)              4870   \n",
       "\n",
       "                    reserva_cc tempo_emprego_atual  taxa_comp_salario  \\\n",
       "0  unknown/ no savings account       .. >= 7 years                  4   \n",
       "1                 ... < 100 DM  1 <= ... < 4 years                  2   \n",
       "2                 ... < 100 DM  4 <= ... < 7 years                  2   \n",
       "3                 ... < 100 DM  4 <= ... < 7 years                  2   \n",
       "4                 ... < 100 DM  1 <= ... < 4 years                  3   \n",
       "\n",
       "                        sexo_est_civil outros_fiadores  anos_residencia_atual  \\\n",
       "0                        male : single            none                      4   \n",
       "1  female : divorced/separated/married            none                      2   \n",
       "2                        male : single            none                      3   \n",
       "3                        male : single       guarantor                      4   \n",
       "4                        male : single            none                      4   \n",
       "\n",
       "                                         propriedade  idade  \\\n",
       "0                                        real estate     67   \n",
       "1                                        real estate     22   \n",
       "2                                        real estate     49   \n",
       "3  if not A121 : building society savings agreeme...     45   \n",
       "4                              unknown / no property     53   \n",
       "\n",
       "  outros_planos_financiamento tipo_residencia  n_creditos_banco  \\\n",
       "0                        none             own                 2   \n",
       "1                        none             own                 1   \n",
       "2                        none             own                 1   \n",
       "3                        none        for free                 1   \n",
       "4                        none        for free                 2   \n",
       "\n",
       "                status_emprego  n_dependentes  \\\n",
       "0  skilled employee / official              1   \n",
       "1  skilled employee / official              1   \n",
       "2         unskilled - resident              2   \n",
       "3  skilled employee / official              2   \n",
       "4  skilled employee / official              2   \n",
       "\n",
       "                                    telefone trabalhador_estrangeiro  \n",
       "0  yes, registered under the customers name                      yes  \n",
       "1                                       none                     yes  \n",
       "2                                       none                     yes  \n",
       "3                                       none                     yes  \n",
       "4                                       none                     yes  "
      ]
     },
     "execution_count": 109,
     "metadata": {},
     "output_type": "execute_result"
    }
   ],
   "source": [
    "url = 'https://raw.githubusercontent.com/alura-cursos/credit_scoring/main/base_dados_traduzida.csv'\n",
    "dados = pd.read_csv(url)\n",
    "dados.head()"
   ]
  },
  {
   "cell_type": "markdown",
   "id": "29bedf09-0903-43bb-85a6-a7cfae09c70c",
   "metadata": {},
   "source": [
    "### Verificação preliminar"
   ]
  },
  {
   "cell_type": "code",
   "execution_count": 110,
   "id": "79a31bcb-b362-4756-9cce-964518dd203f",
   "metadata": {},
   "outputs": [
    {
     "data": {
      "text/plain": [
       "0"
      ]
     },
     "execution_count": 110,
     "metadata": {},
     "output_type": "execute_result"
    }
   ],
   "source": [
    "# Verificando se a base tem dados duplicados:\n",
    "\n",
    "dados.duplicated().sum()"
   ]
  },
  {
   "cell_type": "code",
   "execution_count": 111,
   "id": "7802e40a-a2a8-477f-bf77-60cfad7f8577",
   "metadata": {},
   "outputs": [
    {
     "data": {
      "text/plain": [
       "default                        0\n",
       "conta_corrente                 0\n",
       "prazo_emprestimo_meses         0\n",
       "historico_credito              0\n",
       "proposito_emprestimo           0\n",
       "valor_emprestimo               0\n",
       "reserva_cc                     0\n",
       "tempo_emprego_atual            0\n",
       "taxa_comp_salario              0\n",
       "sexo_est_civil                 0\n",
       "outros_fiadores                0\n",
       "anos_residencia_atual          0\n",
       "propriedade                    0\n",
       "idade                          0\n",
       "outros_planos_financiamento    0\n",
       "tipo_residencia                0\n",
       "n_creditos_banco               0\n",
       "status_emprego                 0\n",
       "n_dependentes                  0\n",
       "telefone                       0\n",
       "trabalhador_estrangeiro        0\n",
       "dtype: int64"
      ]
     },
     "execution_count": 111,
     "metadata": {},
     "output_type": "execute_result"
    }
   ],
   "source": [
    "# Verificando se há dados nulos:\n",
    "\n",
    "dados.isnull().sum()"
   ]
  },
  {
   "cell_type": "markdown",
   "id": "893efef2-4181-468f-8c02-f997f8d2e7c9",
   "metadata": {},
   "source": [
    "***\n",
    "### Credit Scoring\n",
    "***"
   ]
  },
  {
   "cell_type": "markdown",
   "id": "27eca663-12db-4f6d-b7d7-c7a62f2b69a2",
   "metadata": {},
   "source": [
    "### Quando iniciou-se  a análise de credit scoring, os analistas de crédito se baseavam na técnica dos 5Cs:\n",
    "\n",
    "1. The Character of the person — do you know the person or their family?\n",
    "2. The Capital — how much is being asked for?\n",
    "3. The Collateral — what is the applicant willing to put up from their own resources?\n",
    "4. The Capacity — what is their repaying ability. How much free income do they have?\n",
    "5. The Condition — what are the conditions in the market? "
   ]
  },
  {
   "cell_type": "markdown",
   "id": "7e465e94-3169-410e-8db4-650b55269ddd",
   "metadata": {},
   "source": [
    "Modelos tradicionais de credit score aplicam técnicas de classificação de período único (por exemplo, logit, probit) para\n",
    "classificar os clientes de crédito em diferentes grupos de risco e estimar a probabilidade de inadimplência. Modelos clássicos de score, como o logístico e de regressão só podem fornecer uma estimativa da probabilidade de inadimplência para um empréstimo, mas não o cenário como um todo.\n",
    "\n",
    "Atualmente, com a revolução do big data, as instituições bancárias se utilizam de técnicas de machine learning para lidar com reconhecimento de padrões em conjuntos de dados extremamente grandes. Estão sendo amplamente utilizados: Bagging (Leo Breiman, 1996), Boosting (Schapire, Freund, Bartlett, & Lee, 1998), e recentemente o Stacking (Wolpert, 1992). Estes são chamados de métodos Ensemble (Dumitrescu et al. 2018)."
   ]
  },
  {
   "cell_type": "markdown",
   "id": "7ad1d3d1-0f11-4bde-8c5c-315eaefdb597",
   "metadata": {},
   "source": [
    "##### Mais em [Machine Learning Approach for credit score analysis](https://run.unl.pt/bitstream/10362/62427/4/TEGI0439.pdf)"
   ]
  },
  {
   "cell_type": "markdown",
   "id": "f4d83c3a-9d4c-4c9c-9c1b-18471dc918e4",
   "metadata": {},
   "source": [
    "***\n",
    "### How the regular process works\n",
    "\n",
    "Loan applications are usually assessed through a credit score model, which is most often based on a logistic regression (LR). It is trained on historical data, such as credit history. The model assesses the importance of every attribute provided and translates them into a prediction.\n",
    "\n",
    "The main limitation of such a model is that it can take into account only linear dependencies between input variables and the predicted variable. On the other hand, it is this very property that makes logistic regression so interpretable.  LR is in widespread used in credit risk modelling.\n",
    "\n",
    "<img src = 'assets/credit_scoring.jpeg'>"
   ]
  },
  {
   "cell_type": "markdown",
   "id": "d6db15cc-5ce3-4fc6-86f1-8f0736ea4db7",
   "metadata": {},
   "source": [
    "### What machine learning brings to the table\n",
    "\n",
    "Machine learning enables the utilization of more advanced modeling techniques, such as decision trees and neural networks. This introduces non-linearities to the model and allows to detect more complex dependencies between the attributes.\n",
    "\n",
    "### Combining the models\n",
    "\n",
    "Using two scoring engines – logistic regression and the ML based one – to assess all of the loan applications\n",
    "\n",
    "With a clear correlation between the two assessment approaches, a high score in one model would likely mean a high score in the other.\n",
    "\n",
    "<img src = 'assets/Loan-applications-assessed-by-2-models.jpeg'>"
   ]
  },
  {
   "cell_type": "markdown",
   "id": "8f216eb5-8632-4fb5-8c5a-c2f9c3e5ce69",
   "metadata": {},
   "source": [
    "#### [See more here](https://deepsense.ai/using-machine-learning-in-credit-risk-modelling-to-reduce-risk-costs/)"
   ]
  },
  {
   "cell_type": "markdown",
   "id": "15bc830c-a01d-4c29-b611-1e2b91b01532",
   "metadata": {},
   "source": [
    "***\n",
    "### Regressão Logística\n",
    "***"
   ]
  },
  {
   "cell_type": "markdown",
   "id": "1c882935-48a4-4bf6-b9a8-49d78606fb3d",
   "metadata": {},
   "source": [
    "### Transformação das variáveis categóricas em variáveis numéricas"
   ]
  },
  {
   "cell_type": "markdown",
   "id": "2c16a592-8e93-40f2-84e5-51084aebbce0",
   "metadata": {},
   "source": [
    "### Variável `conta_corrente`"
   ]
  },
  {
   "cell_type": "code",
   "execution_count": 112,
   "id": "0c28a04b-62d4-495a-b77e-d0fe8f6ae813",
   "metadata": {},
   "outputs": [
    {
     "data": {
      "text/plain": [
       "array(['< 0 DM', '0 <= ... < 200 DM', 'no checking account',\n",
       "       '>= 200 DM / salary assignments for at least 1 year'], dtype=object)"
      ]
     },
     "execution_count": 112,
     "metadata": {},
     "output_type": "execute_result"
    }
   ],
   "source": [
    "dados['conta_corrente'].unique()"
   ]
  },
  {
   "cell_type": "code",
   "execution_count": 113,
   "id": "55844f14-8e9a-4c58-a46f-de286750a117",
   "metadata": {},
   "outputs": [],
   "source": [
    "dict_cc = {'< 0 DM':1,\n",
    "           '0 <= ... < 200 DM':2,\n",
    "           'no checking account':3, \n",
    "           '>= 200 DM / salary assignments for at least 1 year':4}"
   ]
  },
  {
   "cell_type": "code",
   "execution_count": 114,
   "id": "9ff8d7ac-895b-4d2f-8711-6947380183f0",
   "metadata": {},
   "outputs": [],
   "source": [
    "# Mapeando a coluna `conta_corrente` de acordo com o dicionário `dict_cc`:\n",
    "\n",
    "dados['conta_corrente'] = dados['conta_corrente'].map(dict_cc)"
   ]
  },
  {
   "cell_type": "markdown",
   "id": "a6c7d209-a50b-431a-8460-e70cb3ebca6b",
   "metadata": {},
   "source": [
    "### Variável `historico_credito`"
   ]
  },
  {
   "cell_type": "markdown",
   "id": "e7db8e37-4fd1-4055-af7c-3f065ed7c6f6",
   "metadata": {},
   "source": [
    "#### Definindo uma função para transformar listas em dicionários e, posteriormente, mapear as variáveis categóricas"
   ]
  },
  {
   "cell_type": "code",
   "execution_count": 115,
   "id": "412edb07-b829-4d65-ac9c-f126cfdd4477",
   "metadata": {},
   "outputs": [],
   "source": [
    "def list_to_dict(dataframe, nome_da_coluna):\n",
    "        \n",
    "    # Criação do dicionário\n",
    "    lista = dataframe[nome_da_coluna].unique().tolist()\n",
    "    dict_map = {lista[i] : i for i in range(len(lista))}\n",
    "    \n",
    "    # Mapeamento da coluna:\n",
    "    dataframe[nome_da_coluna] = dataframe[nome_da_coluna].map(dict_map)\n",
    "     \n",
    "    return dataframe[nome_da_coluna]"
   ]
  },
  {
   "cell_type": "code",
   "execution_count": 116,
   "id": "ee06d2a1-fa72-4d51-a209-c86146b78574",
   "metadata": {},
   "outputs": [],
   "source": [
    "dados['historico_credito'] = list_to_dict(dados, 'historico_credito')"
   ]
  },
  {
   "cell_type": "markdown",
   "id": "9019c84c-a95c-4d5d-ba96-eacee5240bb8",
   "metadata": {},
   "source": [
    "### Variável `proposito_emprestimo`"
   ]
  },
  {
   "cell_type": "code",
   "execution_count": 117,
   "id": "347e7373-1071-4c5f-8888-7668cbf922c5",
   "metadata": {
    "tags": []
   },
   "outputs": [],
   "source": [
    "# Mapeando a coluna `conta_corrente` de acordo com o dicionário `dict_cc`:\n",
    "\n",
    "dados['proposito_emprestimo'] = list_to_dict(dados, 'proposito_emprestimo')"
   ]
  },
  {
   "cell_type": "markdown",
   "id": "0b3cbfe4-ba97-4ae0-9ab2-5a3006f8ecd4",
   "metadata": {},
   "source": [
    "### Variável `reserva_cc`"
   ]
  },
  {
   "cell_type": "code",
   "execution_count": 118,
   "id": "e3ebb348-9e6a-436a-9654-32155c35f8e8",
   "metadata": {},
   "outputs": [],
   "source": [
    "# Mapeando a coluna `conta_corrente` de acordo com o dicionário `dict_cc`:\n",
    "\n",
    "dados['reserva_cc'] = list_to_dict(dados, 'reserva_cc')"
   ]
  },
  {
   "cell_type": "markdown",
   "id": "fb55a759-33ab-4182-a100-b068fffa487f",
   "metadata": {},
   "source": [
    "### Variável `tempo_emprego_atual`"
   ]
  },
  {
   "cell_type": "code",
   "execution_count": 119,
   "id": "23bbc097-45bd-43f5-9daa-ee8c74e600f7",
   "metadata": {},
   "outputs": [],
   "source": [
    "dados['tempo_emprego_atual'] = list_to_dict(dados, 'tempo_emprego_atual')"
   ]
  },
  {
   "cell_type": "markdown",
   "id": "a4769e82-bbce-40ac-9308-76174d354f60",
   "metadata": {},
   "source": [
    "### Variável `sexo_est_civil`"
   ]
  },
  {
   "cell_type": "code",
   "execution_count": 120,
   "id": "bebac11c-49e1-4c18-b2f6-fd51912b4ab3",
   "metadata": {},
   "outputs": [],
   "source": [
    "dados['sexo_est_civil'] = list_to_dict(dados, 'sexo_est_civil')"
   ]
  },
  {
   "cell_type": "markdown",
   "id": "932bf077-e010-4199-b073-c4965ea0bc6d",
   "metadata": {},
   "source": [
    "### Variável `outros_fiadores`"
   ]
  },
  {
   "cell_type": "code",
   "execution_count": 121,
   "id": "ce87410a-3b34-46fd-9be8-7e5a46514a1d",
   "metadata": {},
   "outputs": [],
   "source": [
    "dados['outros_fiadores'] = list_to_dict(dados, 'outros_fiadores')"
   ]
  },
  {
   "cell_type": "markdown",
   "id": "108aea9e-1b08-4920-a30d-b0dd647e69a3",
   "metadata": {},
   "source": [
    "### Variável `propriedade`"
   ]
  },
  {
   "cell_type": "code",
   "execution_count": 122,
   "id": "bc46e6fb-5f47-4403-8fc5-6b052da32f37",
   "metadata": {},
   "outputs": [],
   "source": [
    "dados['propriedade'] = list_to_dict(dados, 'propriedade')"
   ]
  },
  {
   "cell_type": "markdown",
   "id": "ce79a921-37a4-474c-9077-3cc06b3a2a3a",
   "metadata": {},
   "source": [
    "### Variável `outros_planos_financiamento`"
   ]
  },
  {
   "cell_type": "code",
   "execution_count": 123,
   "id": "9988b239-8e8c-432a-8cdc-be19d38935d5",
   "metadata": {},
   "outputs": [],
   "source": [
    "dados['outros_planos_financiamento'] = list_to_dict(dados, 'outros_planos_financiamento')"
   ]
  },
  {
   "cell_type": "markdown",
   "id": "13a31658-3867-4ecd-97f7-dbd5acc1cd28",
   "metadata": {},
   "source": [
    "### Variável `tipo_residencia`"
   ]
  },
  {
   "cell_type": "code",
   "execution_count": 124,
   "id": "2be0e88d-72ac-4d6c-9ec8-878330214fe0",
   "metadata": {},
   "outputs": [],
   "source": [
    "dados['tipo_residencia'] = list_to_dict(dados, 'tipo_residencia')"
   ]
  },
  {
   "cell_type": "markdown",
   "id": "71a1b89a-b99a-4330-b979-b8414873e2f4",
   "metadata": {},
   "source": [
    "### Variável `status_emprego`"
   ]
  },
  {
   "cell_type": "code",
   "execution_count": 125,
   "id": "bd7a0dbc-6411-49d7-a839-5531e43737e9",
   "metadata": {},
   "outputs": [],
   "source": [
    "dados['status_emprego'] = list_to_dict(dados, 'status_emprego')"
   ]
  },
  {
   "cell_type": "markdown",
   "id": "1373b19e-c5a5-4707-b95d-fe47cc15874b",
   "metadata": {},
   "source": [
    "### Variável `telefone`"
   ]
  },
  {
   "cell_type": "code",
   "execution_count": 126,
   "id": "fdbc719c-50fd-4fba-85db-3575765110bd",
   "metadata": {},
   "outputs": [],
   "source": [
    "dados['telefone'] = list_to_dict(dados, 'telefone')"
   ]
  },
  {
   "cell_type": "markdown",
   "id": "e6feebed-74c0-4736-8e7b-968bd99d2269",
   "metadata": {},
   "source": [
    "### Variável `trabalhador_estrangeiro`"
   ]
  },
  {
   "cell_type": "code",
   "execution_count": 127,
   "id": "d934d79c-b058-4e80-8ae7-20e661e57f61",
   "metadata": {},
   "outputs": [],
   "source": [
    "dados['trabalhador_estrangeiro'] = list_to_dict(dados, 'trabalhador_estrangeiro')"
   ]
  },
  {
   "cell_type": "code",
   "execution_count": 128,
   "id": "80d715be-107d-4ad4-8bc4-f9fec63486a8",
   "metadata": {},
   "outputs": [
    {
     "data": {
      "text/html": [
       "<div>\n",
       "<style scoped>\n",
       "    .dataframe tbody tr th:only-of-type {\n",
       "        vertical-align: middle;\n",
       "    }\n",
       "\n",
       "    .dataframe tbody tr th {\n",
       "        vertical-align: top;\n",
       "    }\n",
       "\n",
       "    .dataframe thead th {\n",
       "        text-align: right;\n",
       "    }\n",
       "</style>\n",
       "<table border=\"1\" class=\"dataframe\">\n",
       "  <thead>\n",
       "    <tr style=\"text-align: right;\">\n",
       "      <th></th>\n",
       "      <th>default</th>\n",
       "      <th>conta_corrente</th>\n",
       "      <th>prazo_emprestimo_meses</th>\n",
       "      <th>historico_credito</th>\n",
       "      <th>proposito_emprestimo</th>\n",
       "      <th>valor_emprestimo</th>\n",
       "      <th>reserva_cc</th>\n",
       "      <th>tempo_emprego_atual</th>\n",
       "      <th>taxa_comp_salario</th>\n",
       "      <th>sexo_est_civil</th>\n",
       "      <th>outros_fiadores</th>\n",
       "      <th>anos_residencia_atual</th>\n",
       "      <th>propriedade</th>\n",
       "      <th>idade</th>\n",
       "      <th>outros_planos_financiamento</th>\n",
       "      <th>tipo_residencia</th>\n",
       "      <th>n_creditos_banco</th>\n",
       "      <th>status_emprego</th>\n",
       "      <th>n_dependentes</th>\n",
       "      <th>telefone</th>\n",
       "      <th>trabalhador_estrangeiro</th>\n",
       "    </tr>\n",
       "  </thead>\n",
       "  <tbody>\n",
       "    <tr>\n",
       "      <th>0</th>\n",
       "      <td>0</td>\n",
       "      <td>1</td>\n",
       "      <td>6</td>\n",
       "      <td>0</td>\n",
       "      <td>0</td>\n",
       "      <td>1169</td>\n",
       "      <td>0</td>\n",
       "      <td>0</td>\n",
       "      <td>4</td>\n",
       "      <td>0</td>\n",
       "      <td>0</td>\n",
       "      <td>4</td>\n",
       "      <td>0</td>\n",
       "      <td>67</td>\n",
       "      <td>0</td>\n",
       "      <td>0</td>\n",
       "      <td>2</td>\n",
       "      <td>0</td>\n",
       "      <td>1</td>\n",
       "      <td>0</td>\n",
       "      <td>0</td>\n",
       "    </tr>\n",
       "    <tr>\n",
       "      <th>1</th>\n",
       "      <td>1</td>\n",
       "      <td>2</td>\n",
       "      <td>48</td>\n",
       "      <td>1</td>\n",
       "      <td>0</td>\n",
       "      <td>5951</td>\n",
       "      <td>1</td>\n",
       "      <td>1</td>\n",
       "      <td>2</td>\n",
       "      <td>1</td>\n",
       "      <td>0</td>\n",
       "      <td>2</td>\n",
       "      <td>0</td>\n",
       "      <td>22</td>\n",
       "      <td>0</td>\n",
       "      <td>0</td>\n",
       "      <td>1</td>\n",
       "      <td>0</td>\n",
       "      <td>1</td>\n",
       "      <td>1</td>\n",
       "      <td>0</td>\n",
       "    </tr>\n",
       "    <tr>\n",
       "      <th>2</th>\n",
       "      <td>0</td>\n",
       "      <td>3</td>\n",
       "      <td>12</td>\n",
       "      <td>0</td>\n",
       "      <td>1</td>\n",
       "      <td>2096</td>\n",
       "      <td>1</td>\n",
       "      <td>2</td>\n",
       "      <td>2</td>\n",
       "      <td>0</td>\n",
       "      <td>0</td>\n",
       "      <td>3</td>\n",
       "      <td>0</td>\n",
       "      <td>49</td>\n",
       "      <td>0</td>\n",
       "      <td>0</td>\n",
       "      <td>1</td>\n",
       "      <td>1</td>\n",
       "      <td>2</td>\n",
       "      <td>1</td>\n",
       "      <td>0</td>\n",
       "    </tr>\n",
       "    <tr>\n",
       "      <th>3</th>\n",
       "      <td>0</td>\n",
       "      <td>1</td>\n",
       "      <td>42</td>\n",
       "      <td>1</td>\n",
       "      <td>2</td>\n",
       "      <td>7882</td>\n",
       "      <td>1</td>\n",
       "      <td>2</td>\n",
       "      <td>2</td>\n",
       "      <td>0</td>\n",
       "      <td>1</td>\n",
       "      <td>4</td>\n",
       "      <td>1</td>\n",
       "      <td>45</td>\n",
       "      <td>0</td>\n",
       "      <td>1</td>\n",
       "      <td>1</td>\n",
       "      <td>0</td>\n",
       "      <td>2</td>\n",
       "      <td>1</td>\n",
       "      <td>0</td>\n",
       "    </tr>\n",
       "    <tr>\n",
       "      <th>4</th>\n",
       "      <td>1</td>\n",
       "      <td>1</td>\n",
       "      <td>24</td>\n",
       "      <td>2</td>\n",
       "      <td>3</td>\n",
       "      <td>4870</td>\n",
       "      <td>1</td>\n",
       "      <td>1</td>\n",
       "      <td>3</td>\n",
       "      <td>0</td>\n",
       "      <td>0</td>\n",
       "      <td>4</td>\n",
       "      <td>2</td>\n",
       "      <td>53</td>\n",
       "      <td>0</td>\n",
       "      <td>1</td>\n",
       "      <td>2</td>\n",
       "      <td>0</td>\n",
       "      <td>2</td>\n",
       "      <td>1</td>\n",
       "      <td>0</td>\n",
       "    </tr>\n",
       "  </tbody>\n",
       "</table>\n",
       "</div>"
      ],
      "text/plain": [
       "   default  conta_corrente  prazo_emprestimo_meses  historico_credito  \\\n",
       "0        0               1                       6                  0   \n",
       "1        1               2                      48                  1   \n",
       "2        0               3                      12                  0   \n",
       "3        0               1                      42                  1   \n",
       "4        1               1                      24                  2   \n",
       "\n",
       "   proposito_emprestimo  valor_emprestimo  reserva_cc  tempo_emprego_atual  \\\n",
       "0                     0              1169           0                    0   \n",
       "1                     0              5951           1                    1   \n",
       "2                     1              2096           1                    2   \n",
       "3                     2              7882           1                    2   \n",
       "4                     3              4870           1                    1   \n",
       "\n",
       "   taxa_comp_salario  sexo_est_civil  outros_fiadores  anos_residencia_atual  \\\n",
       "0                  4               0                0                      4   \n",
       "1                  2               1                0                      2   \n",
       "2                  2               0                0                      3   \n",
       "3                  2               0                1                      4   \n",
       "4                  3               0                0                      4   \n",
       "\n",
       "   propriedade  idade  outros_planos_financiamento  tipo_residencia  \\\n",
       "0            0     67                            0                0   \n",
       "1            0     22                            0                0   \n",
       "2            0     49                            0                0   \n",
       "3            1     45                            0                1   \n",
       "4            2     53                            0                1   \n",
       "\n",
       "   n_creditos_banco  status_emprego  n_dependentes  telefone  \\\n",
       "0                 2               0              1         0   \n",
       "1                 1               0              1         1   \n",
       "2                 1               1              2         1   \n",
       "3                 1               0              2         1   \n",
       "4                 2               0              2         1   \n",
       "\n",
       "   trabalhador_estrangeiro  \n",
       "0                        0  \n",
       "1                        0  \n",
       "2                        0  \n",
       "3                        0  \n",
       "4                        0  "
      ]
     },
     "execution_count": 128,
     "metadata": {},
     "output_type": "execute_result"
    }
   ],
   "source": [
    "dados.head()"
   ]
  },
  {
   "cell_type": "markdown",
   "id": "52e2dfe5-6c43-4724-b6d3-c344541a8d2e",
   "metadata": {},
   "source": [
    "#### Variável dependente (Y): Binária. \n",
    "\n",
    "> Neste problema, a variável Y é a `default`\n",
    "\n",
    "#### Variáveis independentes (X): Categóricas ou não. \n",
    "\n",
    "> Neste problema, temos variáveis categóricas e discretas."
   ]
  },
  {
   "cell_type": "code",
   "execution_count": 129,
   "id": "84555908-2010-4e52-bf54-6f8cb8f3932d",
   "metadata": {},
   "outputs": [
    {
     "data": {
      "text/plain": [
       "0    0\n",
       "1    1\n",
       "2    0\n",
       "3    0\n",
       "4    1\n",
       "Name: default, dtype: int64"
      ]
     },
     "execution_count": 129,
     "metadata": {},
     "output_type": "execute_result"
    }
   ],
   "source": [
    "# Separando o Y\n",
    "\n",
    "y = dados['default']\n",
    "y.head()"
   ]
  },
  {
   "cell_type": "code",
   "execution_count": 130,
   "id": "6b71de83-2b0d-436a-928a-e304fed8de59",
   "metadata": {},
   "outputs": [
    {
     "data": {
      "text/html": [
       "<div>\n",
       "<style scoped>\n",
       "    .dataframe tbody tr th:only-of-type {\n",
       "        vertical-align: middle;\n",
       "    }\n",
       "\n",
       "    .dataframe tbody tr th {\n",
       "        vertical-align: top;\n",
       "    }\n",
       "\n",
       "    .dataframe thead th {\n",
       "        text-align: right;\n",
       "    }\n",
       "</style>\n",
       "<table border=\"1\" class=\"dataframe\">\n",
       "  <thead>\n",
       "    <tr style=\"text-align: right;\">\n",
       "      <th></th>\n",
       "      <th>conta_corrente</th>\n",
       "      <th>prazo_emprestimo_meses</th>\n",
       "      <th>historico_credito</th>\n",
       "      <th>proposito_emprestimo</th>\n",
       "      <th>valor_emprestimo</th>\n",
       "      <th>reserva_cc</th>\n",
       "      <th>tempo_emprego_atual</th>\n",
       "      <th>taxa_comp_salario</th>\n",
       "      <th>sexo_est_civil</th>\n",
       "      <th>outros_fiadores</th>\n",
       "      <th>anos_residencia_atual</th>\n",
       "      <th>propriedade</th>\n",
       "      <th>idade</th>\n",
       "      <th>outros_planos_financiamento</th>\n",
       "      <th>tipo_residencia</th>\n",
       "      <th>n_creditos_banco</th>\n",
       "      <th>status_emprego</th>\n",
       "      <th>n_dependentes</th>\n",
       "      <th>telefone</th>\n",
       "      <th>trabalhador_estrangeiro</th>\n",
       "    </tr>\n",
       "  </thead>\n",
       "  <tbody>\n",
       "    <tr>\n",
       "      <th>0</th>\n",
       "      <td>1</td>\n",
       "      <td>6</td>\n",
       "      <td>0</td>\n",
       "      <td>0</td>\n",
       "      <td>1169</td>\n",
       "      <td>0</td>\n",
       "      <td>0</td>\n",
       "      <td>4</td>\n",
       "      <td>0</td>\n",
       "      <td>0</td>\n",
       "      <td>4</td>\n",
       "      <td>0</td>\n",
       "      <td>67</td>\n",
       "      <td>0</td>\n",
       "      <td>0</td>\n",
       "      <td>2</td>\n",
       "      <td>0</td>\n",
       "      <td>1</td>\n",
       "      <td>0</td>\n",
       "      <td>0</td>\n",
       "    </tr>\n",
       "    <tr>\n",
       "      <th>1</th>\n",
       "      <td>2</td>\n",
       "      <td>48</td>\n",
       "      <td>1</td>\n",
       "      <td>0</td>\n",
       "      <td>5951</td>\n",
       "      <td>1</td>\n",
       "      <td>1</td>\n",
       "      <td>2</td>\n",
       "      <td>1</td>\n",
       "      <td>0</td>\n",
       "      <td>2</td>\n",
       "      <td>0</td>\n",
       "      <td>22</td>\n",
       "      <td>0</td>\n",
       "      <td>0</td>\n",
       "      <td>1</td>\n",
       "      <td>0</td>\n",
       "      <td>1</td>\n",
       "      <td>1</td>\n",
       "      <td>0</td>\n",
       "    </tr>\n",
       "    <tr>\n",
       "      <th>2</th>\n",
       "      <td>3</td>\n",
       "      <td>12</td>\n",
       "      <td>0</td>\n",
       "      <td>1</td>\n",
       "      <td>2096</td>\n",
       "      <td>1</td>\n",
       "      <td>2</td>\n",
       "      <td>2</td>\n",
       "      <td>0</td>\n",
       "      <td>0</td>\n",
       "      <td>3</td>\n",
       "      <td>0</td>\n",
       "      <td>49</td>\n",
       "      <td>0</td>\n",
       "      <td>0</td>\n",
       "      <td>1</td>\n",
       "      <td>1</td>\n",
       "      <td>2</td>\n",
       "      <td>1</td>\n",
       "      <td>0</td>\n",
       "    </tr>\n",
       "    <tr>\n",
       "      <th>3</th>\n",
       "      <td>1</td>\n",
       "      <td>42</td>\n",
       "      <td>1</td>\n",
       "      <td>2</td>\n",
       "      <td>7882</td>\n",
       "      <td>1</td>\n",
       "      <td>2</td>\n",
       "      <td>2</td>\n",
       "      <td>0</td>\n",
       "      <td>1</td>\n",
       "      <td>4</td>\n",
       "      <td>1</td>\n",
       "      <td>45</td>\n",
       "      <td>0</td>\n",
       "      <td>1</td>\n",
       "      <td>1</td>\n",
       "      <td>0</td>\n",
       "      <td>2</td>\n",
       "      <td>1</td>\n",
       "      <td>0</td>\n",
       "    </tr>\n",
       "    <tr>\n",
       "      <th>4</th>\n",
       "      <td>1</td>\n",
       "      <td>24</td>\n",
       "      <td>2</td>\n",
       "      <td>3</td>\n",
       "      <td>4870</td>\n",
       "      <td>1</td>\n",
       "      <td>1</td>\n",
       "      <td>3</td>\n",
       "      <td>0</td>\n",
       "      <td>0</td>\n",
       "      <td>4</td>\n",
       "      <td>2</td>\n",
       "      <td>53</td>\n",
       "      <td>0</td>\n",
       "      <td>1</td>\n",
       "      <td>2</td>\n",
       "      <td>0</td>\n",
       "      <td>2</td>\n",
       "      <td>1</td>\n",
       "      <td>0</td>\n",
       "    </tr>\n",
       "  </tbody>\n",
       "</table>\n",
       "</div>"
      ],
      "text/plain": [
       "   conta_corrente  prazo_emprestimo_meses  historico_credito  \\\n",
       "0               1                       6                  0   \n",
       "1               2                      48                  1   \n",
       "2               3                      12                  0   \n",
       "3               1                      42                  1   \n",
       "4               1                      24                  2   \n",
       "\n",
       "   proposito_emprestimo  valor_emprestimo  reserva_cc  tempo_emprego_atual  \\\n",
       "0                     0              1169           0                    0   \n",
       "1                     0              5951           1                    1   \n",
       "2                     1              2096           1                    2   \n",
       "3                     2              7882           1                    2   \n",
       "4                     3              4870           1                    1   \n",
       "\n",
       "   taxa_comp_salario  sexo_est_civil  outros_fiadores  anos_residencia_atual  \\\n",
       "0                  4               0                0                      4   \n",
       "1                  2               1                0                      2   \n",
       "2                  2               0                0                      3   \n",
       "3                  2               0                1                      4   \n",
       "4                  3               0                0                      4   \n",
       "\n",
       "   propriedade  idade  outros_planos_financiamento  tipo_residencia  \\\n",
       "0            0     67                            0                0   \n",
       "1            0     22                            0                0   \n",
       "2            0     49                            0                0   \n",
       "3            1     45                            0                1   \n",
       "4            2     53                            0                1   \n",
       "\n",
       "   n_creditos_banco  status_emprego  n_dependentes  telefone  \\\n",
       "0                 2               0              1         0   \n",
       "1                 1               0              1         1   \n",
       "2                 1               1              2         1   \n",
       "3                 1               0              2         1   \n",
       "4                 2               0              2         1   \n",
       "\n",
       "   trabalhador_estrangeiro  \n",
       "0                        0  \n",
       "1                        0  \n",
       "2                        0  \n",
       "3                        0  \n",
       "4                        0  "
      ]
     },
     "execution_count": 130,
     "metadata": {},
     "output_type": "execute_result"
    }
   ],
   "source": [
    "# Separando os X\n",
    "\n",
    "x = dados.drop(['default'], axis = 1)\n",
    "x.head()"
   ]
  },
  {
   "cell_type": "code",
   "execution_count": 131,
   "id": "15839c2b-0b1d-4a3b-93d9-86a88a64ff22",
   "metadata": {},
   "outputs": [],
   "source": [
    "# Separando em dados de treino e dados de teste:\n",
    "\n",
    "from sklearn.model_selection import train_test_split\n",
    "\n",
    "seed = 77\n",
    "\n",
    "treino_x, teste_x, treino_y, teste_y = train_test_split(x, y, test_size=0.3, random_state=seed)"
   ]
  },
  {
   "cell_type": "code",
   "execution_count": 132,
   "id": "070f3ed9-45ef-4507-b17a-13f011d356c4",
   "metadata": {},
   "outputs": [
    {
     "data": {
      "text/plain": [
       "LogisticRegression(max_iter=1000)"
      ]
     },
     "execution_count": 132,
     "metadata": {},
     "output_type": "execute_result"
    }
   ],
   "source": [
    "from sklearn.linear_model import LogisticRegression\n",
    "\n",
    "modelo = LogisticRegression(max_iter=1000)\n",
    "modelo.fit(treino_x, treino_y)"
   ]
  },
  {
   "cell_type": "markdown",
   "id": "ace99d1b-b9aa-4b02-9bb3-4e6e1206c822",
   "metadata": {},
   "source": [
    "### Acurácia de treino"
   ]
  },
  {
   "cell_type": "code",
   "execution_count": 133,
   "id": "cd3e7b20-ef6a-4ede-a809-a1a37c2886e6",
   "metadata": {},
   "outputs": [
    {
     "name": "stdout",
     "output_type": "stream",
     "text": [
      "0.7442857142857143\n"
     ]
    }
   ],
   "source": [
    "print(modelo.score(treino_x, treino_y))"
   ]
  },
  {
   "cell_type": "markdown",
   "id": "500cc947-3bec-4eae-9ee7-f8586778ea19",
   "metadata": {},
   "source": [
    "### Matriz de confusão"
   ]
  },
  {
   "cell_type": "markdown",
   "id": "2c59123d-f3b1-454b-8609-83deb49d2924",
   "metadata": {},
   "source": [
    "Muito utilizada em modelos de classificação.\n",
    "\n",
    "O que é uma matriz de confusão?\n",
    "É um tabela que mostra as frequências de classificação para cada classe do modelo."
   ]
  },
  {
   "cell_type": "markdown",
   "id": "406199d3-c0c6-4344-8cd1-68ea01d51a6d",
   "metadata": {},
   "source": [
    "A matriz de confusão é, portanto, uma tabela comparativa dos valores que um algoritmo trouxe como predição em relação aos valores reais ocorridos.\n",
    "\n",
    "Ou seja, depois de treinar um modelo binário de machine learning e aplicar as predições sobre o conjunto de dados separado para teste, o resultado obtido será expresso em uma coluna com as predições.\n",
    "\n",
    "Dado que os dados separados para teste em um modelo de aprendizado de máquina são também dados passados — sobre os quais sabemos o valor real da variável resposta —, é possível comparar a coluna de predições (já com valores de 0 ou 1) é com a coluna de valores reais ocorridos por meio de uma tabela de contingência 2×2.\n",
    "\n",
    "E assim temos a tabela (ou matriz) de confusão (confusion matrix):\n",
    "\n",
    "<img src = 'assets/confusion_matrix.png'>"
   ]
  },
  {
   "cell_type": "markdown",
   "id": "882b740e-0f26-4a64-b66d-f73f968029f4",
   "metadata": {},
   "source": [
    "### Métricas Extraídas da Matriz Confusão\n",
    "\n",
    "* Taxa de Verdadeiro Positivo (TVP): percentual que foi predito positivo corretamente sobre o total que de fato era positivo.\n",
    "\n",
    "* Taxa de Falso Positivo (TFP): percentual que foi predito positivo sobre o total que de fato era negativo.\n",
    "\n",
    "* Taxa de Verdadeiro Negativo (TVN): percentual que foi predito negativo corretamente sobre o total que de fato era negativo.\n",
    "\n",
    "* Taxa de Falso Negativo (TFN): percentual que foi predito negativo sobre o total que de fato era positivo.\n",
    "\n",
    "* Acurácia: Verdadeiros / Total"
   ]
  },
  {
   "cell_type": "code",
   "execution_count": 134,
   "id": "bff3537b-1001-44da-8008-b8174db7a805",
   "metadata": {},
   "outputs": [
    {
     "data": {
      "text/plain": [
       "array([0, 0, 0, 1, 0, 0, 1, 0, 0, 0, 0, 0, 0, 0, 1, 0, 0, 0, 0, 1, 0, 0,\n",
       "       0, 0, 0, 0, 0, 0, 0, 0, 0, 0, 0, 0, 0, 0, 0, 1, 0, 0, 1, 0, 0, 1,\n",
       "       1, 0, 0, 0, 0, 0, 0, 0, 1, 0, 0, 1, 0, 0, 1, 1, 0, 0, 0, 0, 0, 0,\n",
       "       1, 0, 1, 0, 0, 0, 1, 0, 0, 1, 1, 0, 1, 0, 1, 1, 1, 0, 0, 0, 0, 0,\n",
       "       0, 0, 0, 1, 0, 0, 0, 0, 1, 0, 0, 1, 0, 0, 1, 0, 0, 0, 0, 0, 0, 0,\n",
       "       0, 1, 0, 0, 0, 0, 0, 0, 0, 0, 0, 1, 0, 1, 0, 0, 0, 1, 0, 0, 0, 1,\n",
       "       0, 1, 1, 0, 0, 0, 0, 0, 0, 0, 0, 0, 1, 1, 1, 0, 0, 0, 0, 1, 0, 0,\n",
       "       0, 1, 0, 0, 0, 0, 0, 0, 0, 0, 1, 0, 1, 1, 0, 0, 0, 0, 0, 0, 0, 0,\n",
       "       0, 0, 0, 1, 1, 0, 1, 0, 0, 0, 0, 0, 0, 0, 0, 0, 0, 1, 0, 0, 0, 0,\n",
       "       1, 0, 0, 0, 0, 0, 0, 1, 0, 0, 0, 0, 0, 0, 0, 0, 0, 0, 0, 0, 0, 0,\n",
       "       0, 0, 0, 0, 0, 0, 0, 1, 0, 1, 0, 0, 0, 1, 1, 0, 0, 0, 0, 1, 0, 0,\n",
       "       0, 0, 0, 1, 0, 1, 0, 1, 0, 0, 0, 1, 0, 0, 0, 1, 0, 0, 0, 0, 0, 0,\n",
       "       0, 0, 0, 1, 0, 0, 1, 0, 0, 0, 0, 1, 0, 0, 0, 0, 0, 0, 0, 0, 0, 0,\n",
       "       0, 0, 0, 0, 1, 0, 0, 0, 1, 0, 0, 0, 1, 0])"
      ]
     },
     "execution_count": 134,
     "metadata": {},
     "output_type": "execute_result"
    }
   ],
   "source": [
    "previsoes = modelo.predict(teste_x)\n",
    "previsoes"
   ]
  },
  {
   "cell_type": "markdown",
   "id": "bb188f23-4f77-48d8-aac2-26c7fa9e663c",
   "metadata": {},
   "source": [
    "### Acurácia dos dados de teste"
   ]
  },
  {
   "cell_type": "code",
   "execution_count": 135,
   "id": "1b21d5e9-2b79-455e-9b0d-865ca67bf83c",
   "metadata": {},
   "outputs": [
    {
     "data": {
      "text/plain": [
       "0.7733333333333333"
      ]
     },
     "execution_count": 135,
     "metadata": {},
     "output_type": "execute_result"
    }
   ],
   "source": [
    "from sklearn.metrics import accuracy_score\n",
    "\n",
    "acuracia = accuracy_score(teste_y, previsoes)\n",
    "acuracia"
   ]
  },
  {
   "cell_type": "code",
   "execution_count": 136,
   "id": "5a5c81df-eab7-49be-a92b-4cb84825e97c",
   "metadata": {},
   "outputs": [
    {
     "data": {
      "text/plain": [
       "array([[192,  22],\n",
       "       [ 46,  40]])"
      ]
     },
     "execution_count": 136,
     "metadata": {},
     "output_type": "execute_result"
    }
   ],
   "source": [
    "import matplotlib.pyplot as plt\n",
    "from sklearn.metrics import confusion_matrix\n",
    "from sklearn.metrics import ConfusionMatrixDisplay\n",
    "\n",
    "matriz_confusao = confusion_matrix(teste_y, previsoes)\n",
    "matriz_confusao"
   ]
  },
  {
   "cell_type": "code",
   "execution_count": 137,
   "id": "61575bb3-f945-4e68-b4bc-72f4624f4c80",
   "metadata": {},
   "outputs": [
    {
     "data": {
      "text/plain": [
       "<sklearn.metrics._plot.confusion_matrix.ConfusionMatrixDisplay at 0x7fd89f1cd340>"
      ]
     },
     "execution_count": 137,
     "metadata": {},
     "output_type": "execute_result"
    },
    {
     "data": {
      "image/png": "[encoded data removed]",
      "text/plain": [
       "<Figure size 432x288 with 2 Axes>"
      ]
     },
     "metadata": {
      "needs_background": "light"
     },
     "output_type": "display_data"
    }
   ],
   "source": [
    "ConfusionMatrixDisplay(matriz_confusao).plot(cmap='Blues')"
   ]
  },
  {
   "cell_type": "markdown",
   "id": "ad8b1114-2a1e-46ae-b60f-6f6082380214",
   "metadata": {},
   "source": [
    "### Da matriz de confusão, temos\n",
    "\n",
    "* 192 + 40 : Acertos\n",
    "\n",
    "* 46 + 22 : Erros"
   ]
  },
  {
   "cell_type": "markdown",
   "id": "19b3f544-9165-4da8-b3c6-5ca32739671f",
   "metadata": {},
   "source": [
    "### Classification report: Organiza e compila resultados derivados da matriz de confusão"
   ]
  },
  {
   "cell_type": "code",
   "execution_count": 138,
   "id": "20000866-088e-4877-b2ce-6469da50029a",
   "metadata": {},
   "outputs": [
    {
     "name": "stdout",
     "output_type": "stream",
     "text": [
      "              precision    recall  f1-score   support\n",
      "\n",
      "           0       0.81      0.90      0.85       214\n",
      "           1       0.65      0.47      0.54        86\n",
      "\n",
      "    accuracy                           0.77       300\n",
      "   macro avg       0.73      0.68      0.70       300\n",
      "weighted avg       0.76      0.77      0.76       300\n",
      "\n"
     ]
    }
   ],
   "source": [
    "from sklearn.metrics import classification_report\n",
    "\n",
    "print(classification_report(teste_y, previsoes))"
   ]
  },
  {
   "cell_type": "markdown",
   "id": "bbaa9861-a644-458e-9214-cfd6d1cd80ac",
   "metadata": {},
   "source": [
    "### Acurácia do modelo: 0.77"
   ]
  },
  {
   "cell_type": "markdown",
   "id": "cc11c7b4-6503-4c9c-8c35-6e53936ab54b",
   "metadata": {},
   "source": [
    "### Precisão: Proporção de predições corretas de uma categoria em relação a todas as predições dessa categoria\n",
    "\n",
    "<img src = 'assets/precisao.png'>"
   ]
  },
  {
   "cell_type": "markdown",
   "id": "82c7c0cc-2837-4d81-9c52-e5ccce5f2843",
   "metadata": {},
   "source": [
    "### Recall: Proporção de predições corretas da categoria alvo.\n",
    "### F1-Score: Média harmônica entre precisão e recall.\n",
    "### Support: Quantidade absoluta de casos em cada categoria."
   ]
  },
  {
   "cell_type": "markdown",
   "id": "dca4e0f0-89e4-4229-ba88-208cabc21110",
   "metadata": {},
   "source": [
    "### Curva ROC"
   ]
  },
  {
   "cell_type": "code",
   "execution_count": 139,
   "id": "d077ca17-0926-47c3-abc0-a45269e54acc",
   "metadata": {},
   "outputs": [],
   "source": [
    "from sklearn.metrics import roc_curve, roc_auc_score\n",
    "\n",
    "# Pares com as probabilidades de o evento ser previsto com 1 ou previsto com 0\n",
    "prob_previsao = modelo.predict_proba(teste_x)[:,1]"
   ]
  },
  {
   "cell_type": "markdown",
   "id": "50e81361-61c6-4230-8def-3da306616b62",
   "metadata": {},
   "source": [
    "* tfp: Taxa de falsos positivos\n",
    "* tvp: taxa de verdadeiros positivos"
   ]
  },
  {
   "cell_type": "code",
   "execution_count": 140,
   "id": "04d29278-9134-4aef-8409-0c693bde4d2a",
   "metadata": {},
   "outputs": [
    {
     "name": "stdout",
     "output_type": "stream",
     "text": [
      "roc_auc 0.7552705933492719\n"
     ]
    }
   ],
   "source": [
    "# Desenha a curva\n",
    "tfp, tvp, limite = roc_curve(teste_y, prob_previsao)\n",
    "\n",
    "# Auc calcula a área sob a curva\n",
    "print('roc_auc', roc_auc_score(teste_y, prob_previsao))"
   ]
  },
  {
   "cell_type": "markdown",
   "id": "17419d84-d572-4b34-be3a-f03a33a9f2e4",
   "metadata": {},
   "source": [
    "### Plotando a curva"
   ]
  },
  {
   "cell_type": "code",
   "execution_count": 141,
   "id": "d5289b3b-d544-4e7d-932b-906b5f396927",
   "metadata": {},
   "outputs": [
    {
     "data": {
      "image/png": "[encoded data removed]",
      "text/plain": [
       "<Figure size 360x360 with 1 Axes>"
      ]
     },
     "metadata": {
      "needs_background": "light"
     },
     "output_type": "display_data"
    }
   ],
   "source": [
    "# Curva ROC\n",
    "plt.subplots(1, figsize=(5,5))\n",
    "plt.title('Curva ROC')\n",
    "plt.plot(tfp, tvp)\n",
    "plt.xlabel('Especificidade')\n",
    "plt.ylabel('Sensibilidade')\n",
    "\n",
    "# Plotando linhas guias\n",
    "# Linha vermelha:\n",
    "plt.plot([0,1], ls = '--', c = 'red')\n",
    "# Linha verde:\n",
    "plt.plot([0,0], [1,0], ls = '--', c = 'green'), plt.plot([1,1], ls='--', c = 'green')\n",
    "\n",
    "plt.show()"
   ]
  },
  {
   "cell_type": "markdown",
   "id": "c878dfcc-1e41-4564-8992-60d684520cad",
   "metadata": {},
   "source": [
    "### Etendendo a curva ROC:\n",
    "\n",
    "#### Avalia o desempenho do modelo a partir da relação entre a taxa de verdadeiros positivos (sensibilidade) e a taxa de falsos positivos (especificidade) para diferentes limites.\n",
    "\n",
    "$$Especificidade = \\frac{VN}{VN + FP}$$\n",
    "\n",
    "$$Sensibilidade = \\frac{VP}{VP+ FN}$$"
   ]
  },
  {
   "cell_type": "markdown",
   "id": "37ff6b63-c565-42b2-9edf-2659fbdcda9d",
   "metadata": {},
   "source": [
    "### No gráfico, a linha vermelha representa um modelo aleatório.\n",
    "### A linha verde indica um modelo perfeito, todas as predições serão corretas.\n",
    "\n",
    "### Assim sendo, quanto mais próxima a curva de ROC estiver das linhas verdes, melhor."
   ]
  },
  {
   "cell_type": "markdown",
   "id": "e801c4cb-7f29-4a08-88fa-c04ae80b8b35",
   "metadata": {},
   "source": [
    "***\n",
    "### AUC: Area Under the Curve\n",
    "\n",
    "#### Quantifica a curva ROC através da área.\n",
    "\n",
    "#### Por convenção estatística:\n",
    "\n",
    "* $área < 0.7$ --> Baixa discriminação\n",
    "* $0.7 <= área <0.8$ --> Discriminação Aceitável\n",
    "* $0.8 <= área < 0.9$ --> Discriminação excelente\n",
    "* $área > 0.9$ --> Discriminação Excepcional"
   ]
  },
  {
   "cell_type": "markdown",
   "id": "fd535860-0094-4b0f-b724-f0c96f0b55b2",
   "metadata": {},
   "source": [
    "### No nosso caso, a discriminação é aceitável."
   ]
  },
  {
   "cell_type": "markdown",
   "id": "874706a4-e178-40c9-8fed-dbe2c3e3dd2f",
   "metadata": {},
   "source": [
    "***\n",
    "### Analisando algumas variáveis"
   ]
  },
  {
   "cell_type": "code",
   "execution_count": 142,
   "id": "31ff2c7d-a92a-45c1-a964-de6280968edc",
   "metadata": {},
   "outputs": [
    {
     "data": {
      "text/html": [
       "<div>\n",
       "<style scoped>\n",
       "    .dataframe tbody tr th:only-of-type {\n",
       "        vertical-align: middle;\n",
       "    }\n",
       "\n",
       "    .dataframe tbody tr th {\n",
       "        vertical-align: top;\n",
       "    }\n",
       "\n",
       "    .dataframe thead th {\n",
       "        text-align: right;\n",
       "    }\n",
       "</style>\n",
       "<table border=\"1\" class=\"dataframe\">\n",
       "  <thead>\n",
       "    <tr style=\"text-align: right;\">\n",
       "      <th></th>\n",
       "      <th>sexo_est_civil</th>\n",
       "      <th>idade</th>\n",
       "      <th>prazo_emprestimo_meses</th>\n",
       "      <th>valor_emprestimo</th>\n",
       "      <th>default</th>\n",
       "    </tr>\n",
       "  </thead>\n",
       "  <tbody>\n",
       "    <tr>\n",
       "      <th>count</th>\n",
       "      <td>1000.00</td>\n",
       "      <td>1000.00</td>\n",
       "      <td>1000.00</td>\n",
       "      <td>1000.00</td>\n",
       "      <td>1000.00</td>\n",
       "    </tr>\n",
       "    <tr>\n",
       "      <th>mean</th>\n",
       "      <td>0.69</td>\n",
       "      <td>35.55</td>\n",
       "      <td>20.90</td>\n",
       "      <td>3271.26</td>\n",
       "      <td>0.30</td>\n",
       "    </tr>\n",
       "    <tr>\n",
       "      <th>std</th>\n",
       "      <td>0.93</td>\n",
       "      <td>11.38</td>\n",
       "      <td>12.06</td>\n",
       "      <td>2822.74</td>\n",
       "      <td>0.46</td>\n",
       "    </tr>\n",
       "    <tr>\n",
       "      <th>min</th>\n",
       "      <td>0.00</td>\n",
       "      <td>19.00</td>\n",
       "      <td>4.00</td>\n",
       "      <td>250.00</td>\n",
       "      <td>0.00</td>\n",
       "    </tr>\n",
       "    <tr>\n",
       "      <th>25%</th>\n",
       "      <td>0.00</td>\n",
       "      <td>27.00</td>\n",
       "      <td>12.00</td>\n",
       "      <td>1365.50</td>\n",
       "      <td>0.00</td>\n",
       "    </tr>\n",
       "    <tr>\n",
       "      <th>50%</th>\n",
       "      <td>0.00</td>\n",
       "      <td>33.00</td>\n",
       "      <td>18.00</td>\n",
       "      <td>2319.50</td>\n",
       "      <td>0.00</td>\n",
       "    </tr>\n",
       "    <tr>\n",
       "      <th>75%</th>\n",
       "      <td>1.00</td>\n",
       "      <td>42.00</td>\n",
       "      <td>24.00</td>\n",
       "      <td>3972.25</td>\n",
       "      <td>1.00</td>\n",
       "    </tr>\n",
       "    <tr>\n",
       "      <th>max</th>\n",
       "      <td>3.00</td>\n",
       "      <td>75.00</td>\n",
       "      <td>72.00</td>\n",
       "      <td>18424.00</td>\n",
       "      <td>1.00</td>\n",
       "    </tr>\n",
       "  </tbody>\n",
       "</table>\n",
       "</div>"
      ],
      "text/plain": [
       "       sexo_est_civil   idade  prazo_emprestimo_meses  valor_emprestimo  \\\n",
       "count         1000.00 1000.00                 1000.00           1000.00   \n",
       "mean             0.69   35.55                   20.90           3271.26   \n",
       "std              0.93   11.38                   12.06           2822.74   \n",
       "min              0.00   19.00                    4.00            250.00   \n",
       "25%              0.00   27.00                   12.00           1365.50   \n",
       "50%              0.00   33.00                   18.00           2319.50   \n",
       "75%              1.00   42.00                   24.00           3972.25   \n",
       "max              3.00   75.00                   72.00          18424.00   \n",
       "\n",
       "       default  \n",
       "count  1000.00  \n",
       "mean      0.30  \n",
       "std       0.46  \n",
       "min       0.00  \n",
       "25%       0.00  \n",
       "50%       0.00  \n",
       "75%       1.00  \n",
       "max       1.00  "
      ]
     },
     "execution_count": 142,
     "metadata": {},
     "output_type": "execute_result"
    }
   ],
   "source": [
    "variaveis = ['sexo_est_civil', 'idade', 'prazo_emprestimo_meses', 'valor_emprestimo', 'default']\n",
    "\n",
    "dados[variaveis].describe()"
   ]
  },
  {
   "cell_type": "code",
   "execution_count": 143,
   "id": "d935c60e-0c0f-4e9b-9653-6b9c55f16543",
   "metadata": {},
   "outputs": [
    {
     "data": {
      "text/plain": [
       "0    548\n",
       "1    310\n",
       "3     92\n",
       "2     50\n",
       "Name: sexo_est_civil, dtype: int64"
      ]
     },
     "execution_count": 143,
     "metadata": {},
     "output_type": "execute_result"
    }
   ],
   "source": [
    "# Variáveis associadas aos homens: categorias 1,3,4\n",
    "# Variáveis associadas às mulheres: categorias 2,5\n",
    "\n",
    "dados['sexo_est_civil'].value_counts()\n"
   ]
  },
  {
   "cell_type": "code",
   "execution_count": 144,
   "id": "00ad1f0f-16a2-47a9-8071-7dc7004bdba2",
   "metadata": {},
   "outputs": [
    {
     "data": {
      "text/plain": [
       "0    700\n",
       "1    300\n",
       "Name: default, dtype: int64"
      ]
     },
     "execution_count": 144,
     "metadata": {},
     "output_type": "execute_result"
    }
   ],
   "source": [
    "dados['default'].value_counts()"
   ]
  },
  {
   "cell_type": "markdown",
   "id": "2999b8d2-66d7-47ee-9d00-13ff0934992b",
   "metadata": {},
   "source": [
    "### A base é desbalanceada. São negados mais casos (300) do que aceitos (700)"
   ]
  },
  {
   "cell_type": "markdown",
   "id": "049b5b1f-a50a-44d2-9cbe-c418d4362813",
   "metadata": {},
   "source": [
    "### Visualizando algumas informações"
   ]
  },
  {
   "cell_type": "markdown",
   "id": "2699fc3f-f595-4c16-8707-6a90355b103e",
   "metadata": {},
   "source": [
    "### Histogramas"
   ]
  },
  {
   "cell_type": "code",
   "execution_count": 145,
   "id": "dcdc61dc-09a6-4b14-bf14-efe82234c91c",
   "metadata": {},
   "outputs": [],
   "source": [
    "import seaborn as sns\n",
    "\n",
    "histogramas = ['sexo_est_civil', 'prazo_emprestimo_meses', 'default']\n",
    "\n",
    "# Enumerate começa a contar do 1\n",
    "lista_histogramas = list(enumerate(histogramas))"
   ]
  },
  {
   "cell_type": "code",
   "execution_count": 146,
   "id": "a3796e7b-eb63-4468-95f5-ce1055a64064",
   "metadata": {},
   "outputs": [
    {
     "data": {
      "image/png": "[encoded data removed]",
      "text/plain": [
       "<Figure size 2160x1440 with 3 Axes>"
      ]
     },
     "metadata": {
      "needs_background": "light"
     },
     "output_type": "display_data"
    }
   ],
   "source": [
    "plt.figure(figsize=(30,20))\n",
    "\n",
    "for i in lista_histogramas:\n",
    "    \n",
    "    # Formato da grade\n",
    "    plt.subplot(2, 2, i[0]+1)\n",
    "    sns.countplot(x = i[1], data = dados)"
   ]
  },
  {
   "cell_type": "markdown",
   "id": "6feda3cc-9963-4ad5-bf55-42f3876087f7",
   "metadata": {},
   "source": [
    "### Boxplots"
   ]
  },
  {
   "cell_type": "code",
   "execution_count": 147,
   "id": "74974591-0e42-46ea-93ef-6fdb2e1680a7",
   "metadata": {},
   "outputs": [
    {
     "data": {
      "image/png": "[encoded data removed]",
      "text/plain": [
       "<Figure size 1440x720 with 1 Axes>"
      ]
     },
     "metadata": {
      "needs_background": "light"
     },
     "output_type": "display_data"
    }
   ],
   "source": [
    "plt.figure(figsize = (20,10))\n",
    "sns.boxenplot(x = 'sexo_est_civil', y='idade', data = dados)\n",
    "plt.title('Distribuição de idade por sexo e estado civil')\n",
    "plt.show()"
   ]
  },
  {
   "cell_type": "markdown",
   "id": "6730693f-981a-45b1-9a33-ef1ae245262c",
   "metadata": {},
   "source": [
    "### Barras"
   ]
  },
  {
   "cell_type": "code",
   "execution_count": 148,
   "id": "b8ac9140-6587-4bc9-948b-46db6b633180",
   "metadata": {},
   "outputs": [
    {
     "data": {
      "text/plain": [
       "Text(0.5, 1.0, 'Valor x Prazo')"
      ]
     },
     "execution_count": 148,
     "metadata": {},
     "output_type": "execute_result"
    },
    {
     "data": {
      "image/png": "[encoded data removed]",
      "text/plain": [
       "<Figure size 1440x720 with 1 Axes>"
      ]
     },
     "metadata": {
      "needs_background": "light"
     },
     "output_type": "display_data"
    }
   ],
   "source": [
    "plt.figure(figsize=(20,10))\n",
    "plt.bar(dados['prazo_emprestimo_meses'], dados['valor_emprestimo'])\n",
    "plt.xlabel('Prazo dos Empréstimos - meses')\n",
    "plt.ylabel('Valor do empréstimo')\n",
    "plt.title('Valor x Prazo')"
   ]
  },
  {
   "cell_type": "markdown",
   "id": "6ce8a3f3-a340-4615-a777-04b764152d93",
   "metadata": {},
   "source": [
    "### Modelos de crédito no Brasil são regulados pelo Banco Central.\n",
    "\n",
    "#### No país, os modelos não podem ser associados à informações sensíveis, tais como:\n",
    "\n",
    "* Origem social e etnica;\n",
    "* Condições de saúde;\n",
    "* Informação genética;\n",
    "* Orientação sexual;\n",
    "* Convicções políticas, religiosas e filosóficas.\n",
    "\n",
    "#### Assim sendo, o sexo é uma informação sensível. Estado civil não é."
   ]
  },
  {
   "cell_type": "markdown",
   "id": "5b211751-e647-4788-87d2-5d9cbf06fd65",
   "metadata": {},
   "source": [
    "### No noss caso, precisamos desvincular o sexo do estado civil."
   ]
  },
  {
   "cell_type": "code",
   "execution_count": 149,
   "id": "1475bd93-ec8e-4b8c-9f7f-cb4c89bea08e",
   "metadata": {},
   "outputs": [],
   "source": [
    "#categorias da variavel 'sexo_est_civil'\n",
    "\n",
    "#male : divorced/separated = 1\n",
    "#female : divorced/separated/married = 2\n",
    "#male : single = 3\n",
    "#male : married/widowed = 4\n",
    "#female : single = 5\n",
    "\n",
    "#criando a variavel 'sexo'\n",
    "\n",
    "## 1 = mulher\n",
    "## 0 = homem\n",
    "\n",
    "#criando a variavel 'estado_civil'\n",
    "## 1 = solteiro(a)\n",
    "## 0 = casado(a)/divorciado(a)/viúvo(a)\n",
    "\n",
    "# dic_sexo = {1:2, 1:5, 0:1, 0:3, 0:4}\n",
    "# dic_est_civil = {1:3, 1:5, 0:1, 0:2, 0:4}\n",
    "\n",
    "# dados['sexo'] = dados['sexo_est_civil'].map(dic_sexo)\n",
    "# dados['estado_civil'] = dados['sexo_est_civil'].map(dic_est_civil)\n",
    "\n",
    "# dados.head()\n"
   ]
  },
  {
   "cell_type": "markdown",
   "id": "7afb447b-6d7f-4ce9-9fb7-23071c4f6a2f",
   "metadata": {},
   "source": [
    "### Reunindo todos os passos em uma função"
   ]
  },
  {
   "cell_type": "code",
   "execution_count": 150,
   "id": "8578ff93-fc2e-4d54-8860-c6124ad7eda8",
   "metadata": {},
   "outputs": [],
   "source": [
    "def roda_modelo(base_dados, classificador):\n",
    "    \n",
    "    y = base_dados['default']\n",
    "    x = base_dados.drop(columns = ['default'], axis = 1)\n",
    "    \n",
    "    SEED = 77\n",
    "    treino_x, teste_x, treino_y, teste_y = train_test_split(x, y, test_size=0.3, random_state=SEED)\n",
    "    \n",
    "    # Generalizar para poder rodar qualquer modelo\n",
    "    modelo = classificador\n",
    "    modelo.fit(treino_x, treino_y)\n",
    "    \n",
    "    # Validação\n",
    "    previsoes = modelo.predict(teste_x)\n",
    "    matriz_confusao = confusion_matrix(teste_y, previsoes)\n",
    "    ConfusionMatrixDisplay(matriz_confusao).plot(cmap='Blues')\n",
    "    \n",
    "    # Classification report\n",
    "    \n",
    "    print(classification_report(teste_y, previsoes))\n",
    "    \n",
    "    # Curva ROC\n",
    "    prob_previsao = modelo.predict_proba(teste_x)[:,1]\n",
    "    # Desenha a curva\n",
    "    tfp, tvp, limite = roc_curve(teste_y, prob_previsao)\n",
    "\n",
    "    # Auc calcula a área sob a curva\n",
    "    print('roc_auc', roc_auc_score(teste_y, prob_previsao))\n",
    "    \n",
    "    # Plotando o gráfico\n",
    "    # Curva ROC\n",
    "    plt.subplots(1, figsize=(5,5))\n",
    "    plt.title('Curva ROC')\n",
    "    plt.plot(tfp, tvp)\n",
    "    plt.xlabel('Especificidade')\n",
    "    plt.ylabel('Sensibilidade')\n",
    "\n",
    "    # Plotando linhas guias\n",
    "    # Linha vermelha:\n",
    "    plt.plot([0,1], ls = '--', c = 'red')\n",
    "    # Linha verde:\n",
    "    plt.plot([0,0], [1,0], ls = '--', c = 'green'), plt.plot([1,1], ls='--', c = 'green')\n",
    "\n",
    "    plt.show()\n",
    "    \n",
    "    return modelo, matriz_confusao    "
   ]
  },
  {
   "cell_type": "code",
   "execution_count": 151,
   "id": "97da673d-9b4d-4763-bc80-0567409e5b01",
   "metadata": {
    "tags": []
   },
   "outputs": [
    {
     "name": "stdout",
     "output_type": "stream",
     "text": [
      "              precision    recall  f1-score   support\n",
      "\n",
      "           0       0.81      0.90      0.85       214\n",
      "           1       0.65      0.47      0.54        86\n",
      "\n",
      "    accuracy                           0.77       300\n",
      "   macro avg       0.73      0.68      0.70       300\n",
      "weighted avg       0.76      0.77      0.76       300\n",
      "\n",
      "roc_auc 0.7552705933492719\n"
     ]
    },
    {
     "data": {
      "image/png": "[encoded data removed]",
      "text/plain": [
       "<Figure size 432x288 with 2 Axes>"
      ]
     },
     "metadata": {
      "needs_background": "light"
     },
     "output_type": "display_data"
    },
    {
     "data": {
      "image/png": "[encoded data removed]",
      "text/plain": [
       "<Figure size 360x360 with 1 Axes>"
      ]
     },
     "metadata": {
      "needs_background": "light"
     },
     "output_type": "display_data"
    },
    {
     "data": {
      "text/plain": [
       "(LogisticRegression(max_iter=1000),\n",
       " array([[192,  22],\n",
       "        [ 46,  40]]))"
      ]
     },
     "execution_count": 151,
     "metadata": {},
     "output_type": "execute_result"
    }
   ],
   "source": [
    "roda_modelo(dados, LogisticRegression(max_iter=1000))"
   ]
  },
  {
   "cell_type": "markdown",
   "id": "cbf16740-0eeb-4c29-a8c4-4e50be039862",
   "metadata": {},
   "source": [
    "### Faixas de Classificação"
   ]
  },
  {
   "cell_type": "markdown",
   "id": "de5e0f69-fb40-4290-a26b-a107bf626a42",
   "metadata": {},
   "source": [
    "### Faixas de idade"
   ]
  },
  {
   "cell_type": "code",
   "execution_count": 152,
   "id": "14cc787e-45c3-400d-b123-b0ebc2831d7c",
   "metadata": {},
   "outputs": [
    {
     "data": {
      "text/html": [
       "<div>\n",
       "<style scoped>\n",
       "    .dataframe tbody tr th:only-of-type {\n",
       "        vertical-align: middle;\n",
       "    }\n",
       "\n",
       "    .dataframe tbody tr th {\n",
       "        vertical-align: top;\n",
       "    }\n",
       "\n",
       "    .dataframe thead th {\n",
       "        text-align: right;\n",
       "    }\n",
       "</style>\n",
       "<table border=\"1\" class=\"dataframe\">\n",
       "  <thead>\n",
       "    <tr style=\"text-align: right;\">\n",
       "      <th></th>\n",
       "      <th>default</th>\n",
       "      <th>conta_corrente</th>\n",
       "      <th>prazo_emprestimo_meses</th>\n",
       "      <th>historico_credito</th>\n",
       "      <th>proposito_emprestimo</th>\n",
       "      <th>valor_emprestimo</th>\n",
       "      <th>reserva_cc</th>\n",
       "      <th>tempo_emprego_atual</th>\n",
       "      <th>taxa_comp_salario</th>\n",
       "      <th>sexo_est_civil</th>\n",
       "      <th>outros_fiadores</th>\n",
       "      <th>anos_residencia_atual</th>\n",
       "      <th>propriedade</th>\n",
       "      <th>idade</th>\n",
       "      <th>outros_planos_financiamento</th>\n",
       "      <th>tipo_residencia</th>\n",
       "      <th>n_creditos_banco</th>\n",
       "      <th>status_emprego</th>\n",
       "      <th>n_dependentes</th>\n",
       "      <th>telefone</th>\n",
       "      <th>trabalhador_estrangeiro</th>\n",
       "      <th>faixa_idade</th>\n",
       "    </tr>\n",
       "  </thead>\n",
       "  <tbody>\n",
       "    <tr>\n",
       "      <th>0</th>\n",
       "      <td>0</td>\n",
       "      <td>1</td>\n",
       "      <td>6</td>\n",
       "      <td>0</td>\n",
       "      <td>0</td>\n",
       "      <td>1169</td>\n",
       "      <td>0</td>\n",
       "      <td>0</td>\n",
       "      <td>4</td>\n",
       "      <td>0</td>\n",
       "      <td>0</td>\n",
       "      <td>4</td>\n",
       "      <td>0</td>\n",
       "      <td>67</td>\n",
       "      <td>0</td>\n",
       "      <td>0</td>\n",
       "      <td>2</td>\n",
       "      <td>0</td>\n",
       "      <td>1</td>\n",
       "      <td>0</td>\n",
       "      <td>0</td>\n",
       "      <td>5</td>\n",
       "    </tr>\n",
       "    <tr>\n",
       "      <th>1</th>\n",
       "      <td>1</td>\n",
       "      <td>2</td>\n",
       "      <td>48</td>\n",
       "      <td>1</td>\n",
       "      <td>0</td>\n",
       "      <td>5951</td>\n",
       "      <td>1</td>\n",
       "      <td>1</td>\n",
       "      <td>2</td>\n",
       "      <td>1</td>\n",
       "      <td>0</td>\n",
       "      <td>2</td>\n",
       "      <td>0</td>\n",
       "      <td>22</td>\n",
       "      <td>0</td>\n",
       "      <td>0</td>\n",
       "      <td>1</td>\n",
       "      <td>0</td>\n",
       "      <td>1</td>\n",
       "      <td>1</td>\n",
       "      <td>0</td>\n",
       "      <td>1</td>\n",
       "    </tr>\n",
       "    <tr>\n",
       "      <th>2</th>\n",
       "      <td>0</td>\n",
       "      <td>3</td>\n",
       "      <td>12</td>\n",
       "      <td>0</td>\n",
       "      <td>1</td>\n",
       "      <td>2096</td>\n",
       "      <td>1</td>\n",
       "      <td>2</td>\n",
       "      <td>2</td>\n",
       "      <td>0</td>\n",
       "      <td>0</td>\n",
       "      <td>3</td>\n",
       "      <td>0</td>\n",
       "      <td>49</td>\n",
       "      <td>0</td>\n",
       "      <td>0</td>\n",
       "      <td>1</td>\n",
       "      <td>1</td>\n",
       "      <td>2</td>\n",
       "      <td>1</td>\n",
       "      <td>0</td>\n",
       "      <td>3</td>\n",
       "    </tr>\n",
       "    <tr>\n",
       "      <th>3</th>\n",
       "      <td>0</td>\n",
       "      <td>1</td>\n",
       "      <td>42</td>\n",
       "      <td>1</td>\n",
       "      <td>2</td>\n",
       "      <td>7882</td>\n",
       "      <td>1</td>\n",
       "      <td>2</td>\n",
       "      <td>2</td>\n",
       "      <td>0</td>\n",
       "      <td>1</td>\n",
       "      <td>4</td>\n",
       "      <td>1</td>\n",
       "      <td>45</td>\n",
       "      <td>0</td>\n",
       "      <td>1</td>\n",
       "      <td>1</td>\n",
       "      <td>0</td>\n",
       "      <td>2</td>\n",
       "      <td>1</td>\n",
       "      <td>0</td>\n",
       "      <td>3</td>\n",
       "    </tr>\n",
       "    <tr>\n",
       "      <th>4</th>\n",
       "      <td>1</td>\n",
       "      <td>1</td>\n",
       "      <td>24</td>\n",
       "      <td>2</td>\n",
       "      <td>3</td>\n",
       "      <td>4870</td>\n",
       "      <td>1</td>\n",
       "      <td>1</td>\n",
       "      <td>3</td>\n",
       "      <td>0</td>\n",
       "      <td>0</td>\n",
       "      <td>4</td>\n",
       "      <td>2</td>\n",
       "      <td>53</td>\n",
       "      <td>0</td>\n",
       "      <td>1</td>\n",
       "      <td>2</td>\n",
       "      <td>0</td>\n",
       "      <td>2</td>\n",
       "      <td>1</td>\n",
       "      <td>0</td>\n",
       "      <td>4</td>\n",
       "    </tr>\n",
       "  </tbody>\n",
       "</table>\n",
       "</div>"
      ],
      "text/plain": [
       "   default  conta_corrente  prazo_emprestimo_meses  historico_credito  \\\n",
       "0        0               1                       6                  0   \n",
       "1        1               2                      48                  1   \n",
       "2        0               3                      12                  0   \n",
       "3        0               1                      42                  1   \n",
       "4        1               1                      24                  2   \n",
       "\n",
       "   proposito_emprestimo  valor_emprestimo  reserva_cc  tempo_emprego_atual  \\\n",
       "0                     0              1169           0                    0   \n",
       "1                     0              5951           1                    1   \n",
       "2                     1              2096           1                    2   \n",
       "3                     2              7882           1                    2   \n",
       "4                     3              4870           1                    1   \n",
       "\n",
       "   taxa_comp_salario  sexo_est_civil  outros_fiadores  anos_residencia_atual  \\\n",
       "0                  4               0                0                      4   \n",
       "1                  2               1                0                      2   \n",
       "2                  2               0                0                      3   \n",
       "3                  2               0                1                      4   \n",
       "4                  3               0                0                      4   \n",
       "\n",
       "   propriedade  idade  outros_planos_financiamento  tipo_residencia  \\\n",
       "0            0     67                            0                0   \n",
       "1            0     22                            0                0   \n",
       "2            0     49                            0                0   \n",
       "3            1     45                            0                1   \n",
       "4            2     53                            0                1   \n",
       "\n",
       "   n_creditos_banco  status_emprego  n_dependentes  telefone  \\\n",
       "0                 2               0              1         0   \n",
       "1                 1               0              1         1   \n",
       "2                 1               1              2         1   \n",
       "3                 1               0              2         1   \n",
       "4                 2               0              2         1   \n",
       "\n",
       "   trabalhador_estrangeiro faixa_idade  \n",
       "0                        0           5  \n",
       "1                        0           1  \n",
       "2                        0           3  \n",
       "3                        0           3  \n",
       "4                        0           4  "
      ]
     },
     "execution_count": 152,
     "metadata": {},
     "output_type": "execute_result"
    }
   ],
   "source": [
    "#criando 'faixa_idade' para variavel 'idade'\n",
    "\n",
    "## 18 - 30 = 1\n",
    "## 31 - 40 = 2\n",
    "## 41 - 50 = 3\n",
    "## 51 - 60 = 4\n",
    "## 61 - 70 = 5\n",
    "## 71 - 80 = 6\n",
    "\n",
    "dados['faixa_idade'] = pd.cut(x = dados['idade'], bins=[18, 30, 40, 50, 60, 70, 80], labels = [1, 2, 3, 4, 5, 6])\n",
    "dados.head()"
   ]
  },
  {
   "cell_type": "markdown",
   "id": "f2efc97b-0be5-4a8a-adfa-54111640dcac",
   "metadata": {},
   "source": [
    "### Faixas de prazo para empréstimo"
   ]
  },
  {
   "cell_type": "code",
   "execution_count": 153,
   "id": "ee1a158f-2634-4f56-867b-509fdba62bcb",
   "metadata": {},
   "outputs": [
    {
     "data": {
      "text/html": [
       "<div>\n",
       "<style scoped>\n",
       "    .dataframe tbody tr th:only-of-type {\n",
       "        vertical-align: middle;\n",
       "    }\n",
       "\n",
       "    .dataframe tbody tr th {\n",
       "        vertical-align: top;\n",
       "    }\n",
       "\n",
       "    .dataframe thead th {\n",
       "        text-align: right;\n",
       "    }\n",
       "</style>\n",
       "<table border=\"1\" class=\"dataframe\">\n",
       "  <thead>\n",
       "    <tr style=\"text-align: right;\">\n",
       "      <th></th>\n",
       "      <th>default</th>\n",
       "      <th>conta_corrente</th>\n",
       "      <th>prazo_emprestimo_meses</th>\n",
       "      <th>historico_credito</th>\n",
       "      <th>proposito_emprestimo</th>\n",
       "      <th>valor_emprestimo</th>\n",
       "      <th>reserva_cc</th>\n",
       "      <th>tempo_emprego_atual</th>\n",
       "      <th>taxa_comp_salario</th>\n",
       "      <th>sexo_est_civil</th>\n",
       "      <th>outros_fiadores</th>\n",
       "      <th>anos_residencia_atual</th>\n",
       "      <th>propriedade</th>\n",
       "      <th>idade</th>\n",
       "      <th>outros_planos_financiamento</th>\n",
       "      <th>tipo_residencia</th>\n",
       "      <th>n_creditos_banco</th>\n",
       "      <th>status_emprego</th>\n",
       "      <th>n_dependentes</th>\n",
       "      <th>telefone</th>\n",
       "      <th>trabalhador_estrangeiro</th>\n",
       "      <th>faixa_idade</th>\n",
       "      <th>faixa_prazo</th>\n",
       "    </tr>\n",
       "  </thead>\n",
       "  <tbody>\n",
       "    <tr>\n",
       "      <th>0</th>\n",
       "      <td>0</td>\n",
       "      <td>1</td>\n",
       "      <td>6</td>\n",
       "      <td>0</td>\n",
       "      <td>0</td>\n",
       "      <td>1169</td>\n",
       "      <td>0</td>\n",
       "      <td>0</td>\n",
       "      <td>4</td>\n",
       "      <td>0</td>\n",
       "      <td>0</td>\n",
       "      <td>4</td>\n",
       "      <td>0</td>\n",
       "      <td>67</td>\n",
       "      <td>0</td>\n",
       "      <td>0</td>\n",
       "      <td>2</td>\n",
       "      <td>0</td>\n",
       "      <td>1</td>\n",
       "      <td>0</td>\n",
       "      <td>0</td>\n",
       "      <td>5</td>\n",
       "      <td>1</td>\n",
       "    </tr>\n",
       "    <tr>\n",
       "      <th>1</th>\n",
       "      <td>1</td>\n",
       "      <td>2</td>\n",
       "      <td>48</td>\n",
       "      <td>1</td>\n",
       "      <td>0</td>\n",
       "      <td>5951</td>\n",
       "      <td>1</td>\n",
       "      <td>1</td>\n",
       "      <td>2</td>\n",
       "      <td>1</td>\n",
       "      <td>0</td>\n",
       "      <td>2</td>\n",
       "      <td>0</td>\n",
       "      <td>22</td>\n",
       "      <td>0</td>\n",
       "      <td>0</td>\n",
       "      <td>1</td>\n",
       "      <td>0</td>\n",
       "      <td>1</td>\n",
       "      <td>1</td>\n",
       "      <td>0</td>\n",
       "      <td>1</td>\n",
       "      <td>4</td>\n",
       "    </tr>\n",
       "    <tr>\n",
       "      <th>2</th>\n",
       "      <td>0</td>\n",
       "      <td>3</td>\n",
       "      <td>12</td>\n",
       "      <td>0</td>\n",
       "      <td>1</td>\n",
       "      <td>2096</td>\n",
       "      <td>1</td>\n",
       "      <td>2</td>\n",
       "      <td>2</td>\n",
       "      <td>0</td>\n",
       "      <td>0</td>\n",
       "      <td>3</td>\n",
       "      <td>0</td>\n",
       "      <td>49</td>\n",
       "      <td>0</td>\n",
       "      <td>0</td>\n",
       "      <td>1</td>\n",
       "      <td>1</td>\n",
       "      <td>2</td>\n",
       "      <td>1</td>\n",
       "      <td>0</td>\n",
       "      <td>3</td>\n",
       "      <td>1</td>\n",
       "    </tr>\n",
       "    <tr>\n",
       "      <th>3</th>\n",
       "      <td>0</td>\n",
       "      <td>1</td>\n",
       "      <td>42</td>\n",
       "      <td>1</td>\n",
       "      <td>2</td>\n",
       "      <td>7882</td>\n",
       "      <td>1</td>\n",
       "      <td>2</td>\n",
       "      <td>2</td>\n",
       "      <td>0</td>\n",
       "      <td>1</td>\n",
       "      <td>4</td>\n",
       "      <td>1</td>\n",
       "      <td>45</td>\n",
       "      <td>0</td>\n",
       "      <td>1</td>\n",
       "      <td>1</td>\n",
       "      <td>0</td>\n",
       "      <td>2</td>\n",
       "      <td>1</td>\n",
       "      <td>0</td>\n",
       "      <td>3</td>\n",
       "      <td>4</td>\n",
       "    </tr>\n",
       "    <tr>\n",
       "      <th>4</th>\n",
       "      <td>1</td>\n",
       "      <td>1</td>\n",
       "      <td>24</td>\n",
       "      <td>2</td>\n",
       "      <td>3</td>\n",
       "      <td>4870</td>\n",
       "      <td>1</td>\n",
       "      <td>1</td>\n",
       "      <td>3</td>\n",
       "      <td>0</td>\n",
       "      <td>0</td>\n",
       "      <td>4</td>\n",
       "      <td>2</td>\n",
       "      <td>53</td>\n",
       "      <td>0</td>\n",
       "      <td>1</td>\n",
       "      <td>2</td>\n",
       "      <td>0</td>\n",
       "      <td>2</td>\n",
       "      <td>1</td>\n",
       "      <td>0</td>\n",
       "      <td>4</td>\n",
       "      <td>2</td>\n",
       "    </tr>\n",
       "  </tbody>\n",
       "</table>\n",
       "</div>"
      ],
      "text/plain": [
       "   default  conta_corrente  prazo_emprestimo_meses  historico_credito  \\\n",
       "0        0               1                       6                  0   \n",
       "1        1               2                      48                  1   \n",
       "2        0               3                      12                  0   \n",
       "3        0               1                      42                  1   \n",
       "4        1               1                      24                  2   \n",
       "\n",
       "   proposito_emprestimo  valor_emprestimo  reserva_cc  tempo_emprego_atual  \\\n",
       "0                     0              1169           0                    0   \n",
       "1                     0              5951           1                    1   \n",
       "2                     1              2096           1                    2   \n",
       "3                     2              7882           1                    2   \n",
       "4                     3              4870           1                    1   \n",
       "\n",
       "   taxa_comp_salario  sexo_est_civil  outros_fiadores  anos_residencia_atual  \\\n",
       "0                  4               0                0                      4   \n",
       "1                  2               1                0                      2   \n",
       "2                  2               0                0                      3   \n",
       "3                  2               0                1                      4   \n",
       "4                  3               0                0                      4   \n",
       "\n",
       "   propriedade  idade  outros_planos_financiamento  tipo_residencia  \\\n",
       "0            0     67                            0                0   \n",
       "1            0     22                            0                0   \n",
       "2            0     49                            0                0   \n",
       "3            1     45                            0                1   \n",
       "4            2     53                            0                1   \n",
       "\n",
       "   n_creditos_banco  status_emprego  n_dependentes  telefone  \\\n",
       "0                 2               0              1         0   \n",
       "1                 1               0              1         1   \n",
       "2                 1               1              2         1   \n",
       "3                 1               0              2         1   \n",
       "4                 2               0              2         1   \n",
       "\n",
       "   trabalhador_estrangeiro faixa_idade faixa_prazo  \n",
       "0                        0           5           1  \n",
       "1                        0           1           4  \n",
       "2                        0           3           1  \n",
       "3                        0           3           4  \n",
       "4                        0           4           2  "
      ]
     },
     "execution_count": 153,
     "metadata": {},
     "output_type": "execute_result"
    }
   ],
   "source": [
    "## 1 - 12 = 1\n",
    "## 13 - 24 = 2\n",
    "## 25 - 36 = 3\n",
    "## 37 - 48 = 4\n",
    "## 49 - 60 = 5\n",
    "## 61 - 72 = 6\n",
    "\n",
    "dados['faixa_prazo'] = pd.cut(x = dados['prazo_emprestimo_meses'], bins=[1, 12, 24, 36, 48, 60, 72], labels = [1, 2, 3, 4, 5, 6])\n",
    "dados.head()"
   ]
  },
  {
   "cell_type": "markdown",
   "id": "2d1ac5a4-aecf-4533-80d9-804395805f7f",
   "metadata": {},
   "source": [
    "#### Seria bom também criar faixas para os valores dos empréstimos"
   ]
  },
  {
   "cell_type": "markdown",
   "id": "3972ae52-e1c0-42d9-98c2-db75a41cdc66",
   "metadata": {},
   "source": [
    "### Retirando os valores absolutos, ficando apenas com as faixas"
   ]
  },
  {
   "cell_type": "code",
   "execution_count": 154,
   "id": "b49deb11-a885-45de-b4f4-eb46eda81fa5",
   "metadata": {},
   "outputs": [],
   "source": [
    "dados = dados.drop(['idade', 'prazo_emprestimo_meses'], axis = 1)"
   ]
  },
  {
   "cell_type": "code",
   "execution_count": 155,
   "id": "7cf367bb-2446-491a-9b21-0539f07418df",
   "metadata": {},
   "outputs": [
    {
     "name": "stdout",
     "output_type": "stream",
     "text": [
      "              precision    recall  f1-score   support\n",
      "\n",
      "           0       0.80      0.90      0.85       214\n",
      "           1       0.64      0.43      0.51        86\n",
      "\n",
      "    accuracy                           0.77       300\n",
      "   macro avg       0.72      0.67      0.68       300\n",
      "weighted avg       0.75      0.77      0.75       300\n",
      "\n",
      "roc_auc 0.7561943055857422\n"
     ]
    },
    {
     "data": {
      "image/png": "[encoded data removed]",
      "text/plain": [
       "<Figure size 432x288 with 2 Axes>"
      ]
     },
     "metadata": {
      "needs_background": "light"
     },
     "output_type": "display_data"
    },
    {
     "data": {
      "image/png": "[encoded data removed]",
      "text/plain": [
       "<Figure size 360x360 with 1 Axes>"
      ]
     },
     "metadata": {
      "needs_background": "light"
     },
     "output_type": "display_data"
    },
    {
     "data": {
      "text/plain": [
       "(LogisticRegression(max_iter=1000),\n",
       " array([[193,  21],\n",
       "        [ 49,  37]]))"
      ]
     },
     "execution_count": 155,
     "metadata": {},
     "output_type": "execute_result"
    }
   ],
   "source": [
    "roda_modelo(dados, LogisticRegression(max_iter=1000))"
   ]
  },
  {
   "cell_type": "markdown",
   "id": "671ac3bf-b958-4808-9c3c-edcfcc1359de",
   "metadata": {},
   "source": [
    "### Treinar o último modelo com a base inteira"
   ]
  },
  {
   "cell_type": "code",
   "execution_count": 156,
   "id": "221ab2eb-0549-4f27-a3a4-7f73a36edb02",
   "metadata": {},
   "outputs": [
    {
     "data": {
      "text/plain": [
       "LogisticRegression(max_iter=1000)"
      ]
     },
     "execution_count": 156,
     "metadata": {},
     "output_type": "execute_result"
    }
   ],
   "source": [
    "modelo = LogisticRegression(max_iter=1000)\n",
    "\n",
    "y = dados['default']\n",
    "x = dados.drop(['default'], axis = 1)\n",
    "\n",
    "modelo.fit(x,y)"
   ]
  },
  {
   "cell_type": "markdown",
   "id": "a73d8e9b-91c0-47d1-88d9-bee3dc3e0602",
   "metadata": {},
   "source": [
    "### Exemplo de utilização"
   ]
  },
  {
   "cell_type": "code",
   "execution_count": 157,
   "id": "7752d423-b19e-4e39-8450-c3c7b914b5e3",
   "metadata": {},
   "outputs": [
    {
     "name": "stderr",
     "output_type": "stream",
     "text": [
      "/home/silsantos/anaconda3/envs/coamo/lib/python3.9/site-packages/sklearn/base.py:445: UserWarning: X does not have valid feature names, but LogisticRegression was fitted with feature names\n",
      "  warnings.warn(\n"
     ]
    },
    {
     "data": {
      "text/plain": [
       "array([1])"
      ]
     },
     "execution_count": 157,
     "metadata": {},
     "output_type": "execute_result"
    }
   ],
   "source": [
    "import numpy as np\n",
    "\n",
    "X = np.array([[1,5,5,1,1,4,1,4,1,3,2,2,3,1,1,1,1,5,1,2]])\n",
    "modelo.predict(X)"
   ]
  },
  {
   "cell_type": "code",
   "execution_count": null,
   "id": "0504145e-b4ac-4a57-826d-4626347358c4",
   "metadata": {},
   "outputs": [],
   "source": []
  }
 ],
 "metadata": {
  "kernelspec": {
   "display_name": "Python 3 (ipykernel)",
   "language": "python",
   "name": "python3"
  },
  "language_info": {
   "codemirror_mode": {
    "name": "ipython",
    "version": 3
   },
   "file_extension": ".py",
   "mimetype": "text/x-python",
   "name": "python",
   "nbconvert_exporter": "python",
   "pygments_lexer": "ipython3",
   "version": "3.9.7"
  }
 },
 "nbformat": 4,
 "nbformat_minor": 5
}
