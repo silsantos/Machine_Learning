{
 "cells": [
  {
   "cell_type": "markdown",
   "metadata": {
    "id": "NYbON1c1ImwA"
   },
   "source": [
    "# Aula 1"
   ]
  },
  {
   "cell_type": "markdown",
   "metadata": {
    "id": "KVZOBoSHJL2_"
   },
   "source": [
    "## Colab e Kaggle"
   ]
  },
  {
   "cell_type": "markdown",
   "metadata": {
    "id": "zegDJZcnInbu"
   },
   "source": [
    "Nós vamos usar uma base de dados do Kaggle chamada [Fraud Detection Example](https://www.kaggle.com/gopalmahadevan/fraud-detection-example) e ela tem uma fração de dados do [PaySim](https://github.com/EdgarLopezPhD/PaySim), um simulador de dados financeiros feito exatamente para detecção de fraude."
   ]
  },
  {
   "cell_type": "markdown",
   "metadata": {
    "id": "CgXdNw8NInyO"
   },
   "source": [
    "**Variáveis do dataset**\n",
    "\n",
    "**step** - mapeia uma unidade de tempo no mundo real. Neste caso, 1 passo é 1 hora de tempo. Total de etapas 744 (simulação de 30 dias).\n",
    "\n",
    "**type** - CASH-IN, CASH-OUT, DEBIT, PAYMENT and TRANSFER. \n",
    "(caixa-de-entrada, caixa-de-saida, débito, pagamento e transferência)\n",
    "\n",
    "**amount** - valor da transação em moeda local.\n",
    "\n",
    "**nameOrig** - cliente que iniciou a transação\n",
    "\n",
    "**oldbalanceOrg** - saldo inicial antes da transação\n",
    "\n",
    "**newbalanceOrig** - novo saldo após a transação\n",
    "\n",
    "**nameDest** - cliente que é o destinatário da transação\n",
    "\n",
    "**oldbalanceDest** - destinatário do saldo inicial antes da transação. \n",
    "Observe que não há informações para clientes que começam com M (Comerciantes).\n",
    "\n",
    "**newbalanceDest** - novo destinatário do saldo após a transação. Observe que não há informações para clientes que começam com M (Comerciantes).\n",
    "\n",
    "**isFraud** - São as transações feitas pelos agentes fraudulentos dentro da simulação. Neste conjunto de dados específico, o comportamento fraudulento dos agentes visa lucrar ao assumir o controle das contas dos clientes e tentar esvaziar os fundos transferindo para outra conta e depois sacando do sistema.\n",
    "\n",
    "**isFlaggedFraud** - O modelo de negócios visa controlar transferências massivas de uma conta para outra e sinaliza tentativas ilegais. Uma tentativa ilegal neste conjunto de dados é uma tentativa de transferir mais de 200.000 em uma única transação.\n"
   ]
  },
  {
   "cell_type": "markdown",
   "metadata": {
    "id": "ZJjM0peYKpoX"
   },
   "source": [
    "# Aula 2"
   ]
  },
  {
   "cell_type": "markdown",
   "metadata": {
    "id": "WvF1j4BXKtPI"
   },
   "source": [
    "## Análise com Pandas"
   ]
  },
  {
   "cell_type": "markdown",
   "metadata": {
    "id": "UkiZK5ecLf-P"
   },
   "source": [
    "### Trazendo as colunas de fraude para o começo do dataset"
   ]
  },
  {
   "cell_type": "markdown",
   "metadata": {
    "id": "aDu_pDqULo2v"
   },
   "source": [
    "### Renomeando as colunas"
   ]
  },
  {
   "cell_type": "markdown",
   "metadata": {
    "id": "veR6FVfPo9hY"
   },
   "source": [
    "Criando um dicionário\n",
    "```\n",
    "colunas = {\n",
    "    'isFraud': 'fraude',\n",
    "    'isFlaggedFraud':'super_fraude',\n",
    "    'step':'tempo',\n",
    "    'type':'tipo',\n",
    "    'amount':'valor',\n",
    "    'nameOrig':'cliente1',\n",
    "    'oldbalanceOrg':'saldo_inicial_c1',\n",
    "    'newbalanceOrig':'novo_saldo_c1',\n",
    "    'nameDest':'cliente2',\n",
    "    'oldbalanceDest':'saldo_inicial_c2',\n",
    "    'newbalanceDest':'novo_saldo_c2',\n",
    "}\n",
    "```"
   ]
  },
  {
   "cell_type": "markdown",
   "metadata": {
    "id": "tVJ4ujv4Ltcf"
   },
   "source": [
    "### Outras informações do dataset"
   ]
  },
  {
   "cell_type": "markdown",
   "metadata": {
    "id": "z-_wceH5MOTv"
   },
   "source": [
    "O método describe() fornece as informações sobre:\n",
    "\n",
    "**count** - Conta a quantidade de número de valores não vazios. Com esses valores podemos entender melhor o tamanho da amostra.\n",
    "\n",
    "**mean** - O valor médio, em média aritmética. Como ele faz uma média aritmética nem sempre mostra a realidade da maior parte dos casos do banco de dados.\n",
    "\n",
    "**std** - O desvio padrão. É a medida de como os dados se dispersam em relação à média, ou seja, o quanto eles estão espalhados.\n",
    "\n",
    "**min** e **max** - Valores que auxiliam a identificar a amplitude da amostra, entre o valor mínimo e máximo.\n",
    "\n",
    "**quartis** - Valores que nos mostram de que forma os dados foram distribuídos, por exemplo em 50% é a mediana e metade dos valores são inferiores a X valor, a outra metade é superior àquele valor.\n",
    "\n",
    "Para saber mais sobre esse método, acesse o artigo [Ampliando a análise com o Describe](https://www.alura.com.br/artigos/ampliando-a-analise-com-describe).\n"
   ]
  },
  {
   "cell_type": "markdown",
   "metadata": {
    "id": "eJazaOp9LFMQ"
   },
   "source": [
    "### Verificando a variável target"
   ]
  },
  {
   "cell_type": "markdown",
   "metadata": {
    "id": "RBpETqBaMizu"
   },
   "source": [
    "## Encoding"
   ]
  },
  {
   "cell_type": "markdown",
   "metadata": {
    "id": "KrCm9qJEisBI"
   },
   "source": [
    "### Pandas Profiling"
   ]
  },
  {
   "cell_type": "markdown",
   "metadata": {
    "id": "Jchv8BEBxojL"
   },
   "source": [
    "Instalando o Pandas Profiling\n",
    "\n",
    "```!pip install -U pandas-profiling```"
   ]
  },
  {
   "cell_type": "code",
   "execution_count": null,
   "metadata": {
    "id": "fHrjk6e4Mlv0"
   },
   "outputs": [],
   "source": []
  },
  {
   "cell_type": "code",
   "execution_count": null,
   "metadata": {
    "id": "NzOgDCuSMnNP"
   },
   "outputs": [],
   "source": []
  },
  {
   "cell_type": "markdown",
   "metadata": {
    "id": "irDrx1CuiuKZ"
   },
   "source": [
    "### Aplicando o Encoding"
   ]
  },
  {
   "cell_type": "markdown",
   "metadata": {
    "id": "nrkpbqfHnfdQ"
   },
   "source": [
    "#### **Tipos de encoding**\n",
    "\n",
    "**Label Encoding** - Renomea as classes com valores numéricos de 1 a **n**, sendo n o número de classes. Pode existir hierarquia entre as classes.\n",
    "\n",
    "**One-Hot Encoding** - Transforma as variáveis em **n** colunas binárias, sendo n o número de classes. Todas as classes são analisadas de forma igual, quando tiver a ocorrência dela a coluna terá o valor 1 e quando não o valor 0, isso acontece para as demais colunas criadas.\n",
    "\n"
   ]
  },
  {
   "cell_type": "code",
   "execution_count": null,
   "metadata": {
    "id": "zXdieOLkNA8O"
   },
   "outputs": [],
   "source": []
  },
  {
   "cell_type": "markdown",
   "metadata": {
    "id": "HwOXYrTCosAQ"
   },
   "source": [
    "#### Removendo variáveis"
   ]
  },
  {
   "cell_type": "code",
   "execution_count": null,
   "metadata": {
    "id": "FMjzuys9NCVn"
   },
   "outputs": [],
   "source": []
  },
  {
   "cell_type": "markdown",
   "metadata": {
    "id": "2dMihrBKNIEF"
   },
   "source": [
    "# Aula 3"
   ]
  },
  {
   "cell_type": "markdown",
   "metadata": {
    "id": "pfWzAWlrhfYR"
   },
   "source": [
    "## Regressão Logística"
   ]
  },
  {
   "cell_type": "code",
   "execution_count": null,
   "metadata": {
    "id": "A1rnkJ59NJ_2"
   },
   "outputs": [],
   "source": []
  },
  {
   "cell_type": "markdown",
   "metadata": {
    "id": "j44GLj2AhilI"
   },
   "source": [
    "## Balanceamento de dados"
   ]
  },
  {
   "cell_type": "code",
   "execution_count": null,
   "metadata": {
    "id": "3s33yYyhhmVn"
   },
   "outputs": [],
   "source": []
  },
  {
   "cell_type": "markdown",
   "metadata": {
    "id": "Kyvew0CchnhR"
   },
   "source": [
    "## Formulando as hipóteses"
   ]
  },
  {
   "cell_type": "code",
   "execution_count": null,
   "metadata": {
    "id": "IbcNWU4vhqGY"
   },
   "outputs": [],
   "source": []
  },
  {
   "cell_type": "markdown",
   "metadata": {
    "id": "9sz-sfx4icAQ"
   },
   "source": [
    "**Inserir as hipóteses aqui!** (dê um duplo clique na célula)"
   ]
  },
  {
   "cell_type": "markdown",
   "metadata": {
    "id": "Lxuitc62hxuB"
   },
   "source": [
    "# Aula 4"
   ]
  },
  {
   "cell_type": "markdown",
   "metadata": {
    "id": "Sxc3b5Qkh2th"
   },
   "source": [
    "## Árvore de Decisão"
   ]
  },
  {
   "cell_type": "code",
   "execution_count": null,
   "metadata": {
    "id": "bgRmKIfahy2q"
   },
   "outputs": [],
   "source": []
  },
  {
   "cell_type": "markdown",
   "metadata": {
    "id": "TVqmiB4yhzbg"
   },
   "source": [
    "## Random Forest"
   ]
  },
  {
   "cell_type": "code",
   "execution_count": null,
   "metadata": {
    "id": "tiZa5pIhh2Vs"
   },
   "outputs": [],
   "source": []
  },
  {
   "cell_type": "markdown",
   "metadata": {
    "id": "-gdlvQUjh6WD"
   },
   "source": [
    "## Análise de Métricas"
   ]
  },
  {
   "cell_type": "code",
   "execution_count": null,
   "metadata": {
    "id": "fshZb8kBh8Z9"
   },
   "outputs": [],
   "source": []
  },
  {
   "cell_type": "markdown",
   "metadata": {
    "id": "8r6EWH_Rh9Y4"
   },
   "source": [
    "# Aula 5"
   ]
  },
  {
   "cell_type": "markdown",
   "metadata": {
    "id": "I6gTbG8hiAR5"
   },
   "source": [
    "## Melhorando o modelo"
   ]
  },
  {
   "cell_type": "code",
   "execution_count": null,
   "metadata": {
    "id": "FWHfVIvxh-SC"
   },
   "outputs": [],
   "source": []
  },
  {
   "cell_type": "markdown",
   "metadata": {
    "id": "yt-E3yVUh_PR"
   },
   "source": [
    "## Resultados Finais"
   ]
  },
  {
   "cell_type": "code",
   "execution_count": null,
   "metadata": {
    "id": "4yJaNnRsiFI5"
   },
   "outputs": [],
   "source": []
  },
  {
   "cell_type": "markdown",
   "metadata": {
    "id": "hmI3dXt5iFf5"
   },
   "source": [
    "## Conclusão"
   ]
  },
  {
   "cell_type": "markdown",
   "metadata": {
    "id": "Ofyqowo8iI8x"
   },
   "source": [
    "**Inserir as soluções para cada hipótese aqui!** (dê um duplo clique na célula)"
   ]
  }
 ],
 "metadata": {
  "colab": {
   "collapsed_sections": [
    "RBpETqBaMizu",
    "nrkpbqfHnfdQ",
    "pfWzAWlrhfYR",
    "j44GLj2AhilI",
    "Kyvew0CchnhR",
    "Lxuitc62hxuB",
    "8r6EWH_Rh9Y4"
   ],
   "name": "Detec_Fraude - Aula 1.3.ipynb",
   "provenance": [
    {
     "file_id": "1j90hrhpQ10l0wdiCpzGW30kYPSQzY_rZ",
     "timestamp": 1650910830804
    }
   ]
  },
  "kernelspec": {
   "display_name": "Python 3 (ipykernel)",
   "language": "python",
   "name": "python3"
  },
  "language_info": {
   "codemirror_mode": {
    "name": "ipython",
    "version": 3
   },
   "file_extension": ".py",
   "mimetype": "text/x-python",
   "name": "python",
   "nbconvert_exporter": "python",
   "pygments_lexer": "ipython3",
   "version": "3.9.7"
  }
 },
 "nbformat": 4,
 "nbformat_minor": 4
}
