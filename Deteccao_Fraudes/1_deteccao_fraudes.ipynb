{
 "cells": [
  {
   "cell_type": "markdown",
   "id": "e38eda61-9a40-44d8-a7e7-52477befd3ba",
   "metadata": {},
   "source": [
    "## Detecção de Fraudes"
   ]
  },
  {
   "cell_type": "markdown",
   "id": "15c65599-dbb5-456a-8d7e-8fe8cb2ea139",
   "metadata": {},
   "source": [
    "### Dados utilizados: \n",
    "\n",
    "#### Serão utilizados dados sintéticos para detecção de fraude, disponibilizados pelo Kaggle e gerados com o [Paysim](https://www.kaggle.com/datasets/ealaxi/paysim1).\n",
    "\n",
    "### Os dados utilizados neste notebook serão uma fração dos dados citados acima, organizados no dataset chamado [Fraud detection example](https://www.kaggle.com/datasets/gopalmahadevan/fraud-detection-example)"
   ]
  },
  {
   "cell_type": "markdown",
   "id": "2645ffb0-4367-486f-948d-81cac9f1f5cd",
   "metadata": {},
   "source": [
    "***\n",
    "### **Variáveis do dataset**\n",
    "\n",
    "**step** - mapeia uma unidade de tempo no mundo real. Neste caso, 1 passo é 1 hora de tempo. Total de etapas 744 (simulação de 30 dias).\n",
    "\n",
    "**type** - CASH-IN, CASH-OUT, DEBIT, PAYMENT and TRANSFER. \n",
    "(caixa-de-entrada, caixa-de-saida, débito, pagamento e transferência)\n",
    "\n",
    "**amount** - valor da transação em moeda local.\n",
    "\n",
    "**nameOrig** - cliente que iniciou a transação\n",
    "\n",
    "**oldbalanceOrg** - saldo inicial antes da transação\n",
    "\n",
    "**newbalanceOrig** - novo saldo após a transação\n",
    "\n",
    "**nameDest** - cliente que é o destinatário da transação\n",
    "\n",
    "**oldbalanceDest** - destinatário do saldo inicial antes da transação. \n",
    "Observe que não há informações para clientes que começam com M (Comerciantes).\n",
    "\n",
    "**newbalanceDest** - novo destinatário do saldo após a transação. Observe que não há informações para clientes que começam com M (Comerciantes).\n",
    "\n",
    "**isFraud** - São as transações feitas pelos agentes fraudulentos dentro da simulação. Neste conjunto de dados específico, o comportamento fraudulento dos agentes visa lucrar ao assumir o controle das contas dos clientes e tentar esvaziar os fundos transferindo para outra conta e depois sacando do sistema.\n",
    "\n",
    "**isFlaggedFraud** - O modelo de negócios visa controlar transferências massivas de uma conta para outra e sinaliza tentativas ilegais. Uma tentativa ilegal neste conjunto de dados é uma tentativa de transferir mais de 200.000 em uma única transação.\n"
   ]
  },
  {
   "cell_type": "code",
   "execution_count": 75,
   "id": "60944776-9871-40e7-af06-d405c4afe92b",
   "metadata": {},
   "outputs": [],
   "source": [
    "import pandas as pd"
   ]
  },
  {
   "cell_type": "code",
   "execution_count": 76,
   "id": "4c5a55f6-b8d1-49ad-9c85-c54774575ce3",
   "metadata": {},
   "outputs": [
    {
     "data": {
      "text/html": [
       "<div>\n",
       "<style scoped>\n",
       "    .dataframe tbody tr th:only-of-type {\n",
       "        vertical-align: middle;\n",
       "    }\n",
       "\n",
       "    .dataframe tbody tr th {\n",
       "        vertical-align: top;\n",
       "    }\n",
       "\n",
       "    .dataframe thead th {\n",
       "        text-align: right;\n",
       "    }\n",
       "</style>\n",
       "<table border=\"1\" class=\"dataframe\">\n",
       "  <thead>\n",
       "    <tr style=\"text-align: right;\">\n",
       "      <th></th>\n",
       "      <th>step</th>\n",
       "      <th>type</th>\n",
       "      <th>amount</th>\n",
       "      <th>nameOrig</th>\n",
       "      <th>oldbalanceOrg</th>\n",
       "      <th>newbalanceOrig</th>\n",
       "      <th>nameDest</th>\n",
       "      <th>oldbalanceDest</th>\n",
       "      <th>newbalanceDest</th>\n",
       "      <th>isFraud</th>\n",
       "      <th>isFlaggedFraud</th>\n",
       "    </tr>\n",
       "  </thead>\n",
       "  <tbody>\n",
       "    <tr>\n",
       "      <th>0</th>\n",
       "      <td>1</td>\n",
       "      <td>PAYMENT</td>\n",
       "      <td>9839.64</td>\n",
       "      <td>C1231006815</td>\n",
       "      <td>170136.00</td>\n",
       "      <td>160296.36</td>\n",
       "      <td>M1979787155</td>\n",
       "      <td>0.00</td>\n",
       "      <td>0.00</td>\n",
       "      <td>0</td>\n",
       "      <td>0</td>\n",
       "    </tr>\n",
       "    <tr>\n",
       "      <th>1</th>\n",
       "      <td>1</td>\n",
       "      <td>PAYMENT</td>\n",
       "      <td>1864.28</td>\n",
       "      <td>C1666544295</td>\n",
       "      <td>21249.00</td>\n",
       "      <td>19384.72</td>\n",
       "      <td>M2044282225</td>\n",
       "      <td>0.00</td>\n",
       "      <td>0.00</td>\n",
       "      <td>0</td>\n",
       "      <td>0</td>\n",
       "    </tr>\n",
       "    <tr>\n",
       "      <th>2</th>\n",
       "      <td>1</td>\n",
       "      <td>TRANSFER</td>\n",
       "      <td>181.00</td>\n",
       "      <td>C1305486145</td>\n",
       "      <td>181.00</td>\n",
       "      <td>0.00</td>\n",
       "      <td>C553264065</td>\n",
       "      <td>0.00</td>\n",
       "      <td>0.00</td>\n",
       "      <td>1</td>\n",
       "      <td>0</td>\n",
       "    </tr>\n",
       "    <tr>\n",
       "      <th>3</th>\n",
       "      <td>1</td>\n",
       "      <td>CASH_OUT</td>\n",
       "      <td>181.00</td>\n",
       "      <td>C840083671</td>\n",
       "      <td>181.00</td>\n",
       "      <td>0.00</td>\n",
       "      <td>C38997010</td>\n",
       "      <td>21182.00</td>\n",
       "      <td>0.00</td>\n",
       "      <td>1</td>\n",
       "      <td>0</td>\n",
       "    </tr>\n",
       "    <tr>\n",
       "      <th>4</th>\n",
       "      <td>1</td>\n",
       "      <td>PAYMENT</td>\n",
       "      <td>11668.14</td>\n",
       "      <td>C2048537720</td>\n",
       "      <td>41554.00</td>\n",
       "      <td>29885.86</td>\n",
       "      <td>M1230701703</td>\n",
       "      <td>0.00</td>\n",
       "      <td>0.00</td>\n",
       "      <td>0</td>\n",
       "      <td>0</td>\n",
       "    </tr>\n",
       "    <tr>\n",
       "      <th>...</th>\n",
       "      <td>...</td>\n",
       "      <td>...</td>\n",
       "      <td>...</td>\n",
       "      <td>...</td>\n",
       "      <td>...</td>\n",
       "      <td>...</td>\n",
       "      <td>...</td>\n",
       "      <td>...</td>\n",
       "      <td>...</td>\n",
       "      <td>...</td>\n",
       "      <td>...</td>\n",
       "    </tr>\n",
       "    <tr>\n",
       "      <th>101608</th>\n",
       "      <td>10</td>\n",
       "      <td>PAYMENT</td>\n",
       "      <td>7477.02</td>\n",
       "      <td>C513257306</td>\n",
       "      <td>785.00</td>\n",
       "      <td>0.00</td>\n",
       "      <td>M524833426</td>\n",
       "      <td>0.00</td>\n",
       "      <td>0.00</td>\n",
       "      <td>0</td>\n",
       "      <td>0</td>\n",
       "    </tr>\n",
       "    <tr>\n",
       "      <th>101609</th>\n",
       "      <td>10</td>\n",
       "      <td>CASH_OUT</td>\n",
       "      <td>282252.35</td>\n",
       "      <td>C210473293</td>\n",
       "      <td>220339.29</td>\n",
       "      <td>0.00</td>\n",
       "      <td>C1172042998</td>\n",
       "      <td>95156.01</td>\n",
       "      <td>91286.97</td>\n",
       "      <td>0</td>\n",
       "      <td>0</td>\n",
       "    </tr>\n",
       "    <tr>\n",
       "      <th>101610</th>\n",
       "      <td>10</td>\n",
       "      <td>PAYMENT</td>\n",
       "      <td>17289.01</td>\n",
       "      <td>C807582280</td>\n",
       "      <td>0.00</td>\n",
       "      <td>0.00</td>\n",
       "      <td>M334249577</td>\n",
       "      <td>0.00</td>\n",
       "      <td>0.00</td>\n",
       "      <td>0</td>\n",
       "      <td>0</td>\n",
       "    </tr>\n",
       "    <tr>\n",
       "      <th>101611</th>\n",
       "      <td>10</td>\n",
       "      <td>TRANSFER</td>\n",
       "      <td>1347146.45</td>\n",
       "      <td>C1315779140</td>\n",
       "      <td>1605.00</td>\n",
       "      <td>0.00</td>\n",
       "      <td>C1631408038</td>\n",
       "      <td>541639.43</td>\n",
       "      <td>2186953.43</td>\n",
       "      <td>0</td>\n",
       "      <td>0</td>\n",
       "    </tr>\n",
       "    <tr>\n",
       "      <th>101612</th>\n",
       "      <td>10</td>\n",
       "      <td>CASH_OUT</td>\n",
       "      <td>469539.21</td>\n",
       "      <td>C515691325</td>\n",
       "      <td>31133.00</td>\n",
       "      <td>0.00</td>\n",
       "      <td>C1383702768</td>\n",
       "      <td>0.00</td>\n",
       "      <td>469539.21</td>\n",
       "      <td>0</td>\n",
       "      <td>0</td>\n",
       "    </tr>\n",
       "  </tbody>\n",
       "</table>\n",
       "<p>101613 rows × 11 columns</p>\n",
       "</div>"
      ],
      "text/plain": [
       "        step      type      amount     nameOrig  oldbalanceOrg  \\\n",
       "0          1   PAYMENT     9839.64  C1231006815      170136.00   \n",
       "1          1   PAYMENT     1864.28  C1666544295       21249.00   \n",
       "2          1  TRANSFER      181.00  C1305486145         181.00   \n",
       "3          1  CASH_OUT      181.00   C840083671         181.00   \n",
       "4          1   PAYMENT    11668.14  C2048537720       41554.00   \n",
       "...      ...       ...         ...          ...            ...   \n",
       "101608    10   PAYMENT     7477.02   C513257306         785.00   \n",
       "101609    10  CASH_OUT   282252.35   C210473293      220339.29   \n",
       "101610    10   PAYMENT    17289.01   C807582280           0.00   \n",
       "101611    10  TRANSFER  1347146.45  C1315779140        1605.00   \n",
       "101612    10  CASH_OUT   469539.21   C515691325       31133.00   \n",
       "\n",
       "        newbalanceOrig     nameDest  oldbalanceDest  newbalanceDest  isFraud  \\\n",
       "0            160296.36  M1979787155            0.00            0.00        0   \n",
       "1             19384.72  M2044282225            0.00            0.00        0   \n",
       "2                 0.00   C553264065            0.00            0.00        1   \n",
       "3                 0.00    C38997010        21182.00            0.00        1   \n",
       "4             29885.86  M1230701703            0.00            0.00        0   \n",
       "...                ...          ...             ...             ...      ...   \n",
       "101608            0.00   M524833426            0.00            0.00        0   \n",
       "101609            0.00  C1172042998        95156.01        91286.97        0   \n",
       "101610            0.00   M334249577            0.00            0.00        0   \n",
       "101611            0.00  C1631408038       541639.43      2186953.43        0   \n",
       "101612            0.00  C1383702768            0.00       469539.21        0   \n",
       "\n",
       "        isFlaggedFraud  \n",
       "0                    0  \n",
       "1                    0  \n",
       "2                    0  \n",
       "3                    0  \n",
       "4                    0  \n",
       "...                ...  \n",
       "101608               0  \n",
       "101609               0  \n",
       "101610               0  \n",
       "101611               0  \n",
       "101612               0  \n",
       "\n",
       "[101613 rows x 11 columns]"
      ]
     },
     "execution_count": 76,
     "metadata": {},
     "output_type": "execute_result"
    }
   ],
   "source": [
    "df = pd.read_csv('data/fraud_dataset_example.csv')\n",
    "df"
   ]
  },
  {
   "cell_type": "code",
   "execution_count": 77,
   "id": "42b059d9-b60d-4dd8-86d5-58443fec9b22",
   "metadata": {},
   "outputs": [
    {
     "data": {
      "text/plain": [
       "Index(['step', 'type', 'amount', 'nameOrig', 'oldbalanceOrg', 'newbalanceOrig',\n",
       "       'nameDest', 'oldbalanceDest', 'newbalanceDest', 'isFraud',\n",
       "       'isFlaggedFraud'],\n",
       "      dtype='object')"
      ]
     },
     "execution_count": 77,
     "metadata": {},
     "output_type": "execute_result"
    }
   ],
   "source": [
    "df.columns"
   ]
  },
  {
   "cell_type": "markdown",
   "id": "b12f2aff-60e6-4d72-bef4-efcade5b037e",
   "metadata": {},
   "source": [
    "### Trazendo para o início as colunas sobre fraude"
   ]
  },
  {
   "cell_type": "code",
   "execution_count": 78,
   "id": "b01b027b-d585-40f5-83ad-5d5b28aad4ce",
   "metadata": {},
   "outputs": [
    {
     "data": {
      "text/html": [
       "<div>\n",
       "<style scoped>\n",
       "    .dataframe tbody tr th:only-of-type {\n",
       "        vertical-align: middle;\n",
       "    }\n",
       "\n",
       "    .dataframe tbody tr th {\n",
       "        vertical-align: top;\n",
       "    }\n",
       "\n",
       "    .dataframe thead th {\n",
       "        text-align: right;\n",
       "    }\n",
       "</style>\n",
       "<table border=\"1\" class=\"dataframe\">\n",
       "  <thead>\n",
       "    <tr style=\"text-align: right;\">\n",
       "      <th></th>\n",
       "      <th>isFraud</th>\n",
       "      <th>isFlaggedFraud</th>\n",
       "      <th>step</th>\n",
       "      <th>type</th>\n",
       "      <th>amount</th>\n",
       "      <th>nameOrig</th>\n",
       "      <th>oldbalanceOrg</th>\n",
       "      <th>newbalanceOrig</th>\n",
       "      <th>nameDest</th>\n",
       "      <th>oldbalanceDest</th>\n",
       "      <th>newbalanceDest</th>\n",
       "    </tr>\n",
       "  </thead>\n",
       "  <tbody>\n",
       "    <tr>\n",
       "      <th>0</th>\n",
       "      <td>0</td>\n",
       "      <td>0</td>\n",
       "      <td>1</td>\n",
       "      <td>PAYMENT</td>\n",
       "      <td>9839.64</td>\n",
       "      <td>C1231006815</td>\n",
       "      <td>170136.0</td>\n",
       "      <td>160296.36</td>\n",
       "      <td>M1979787155</td>\n",
       "      <td>0.0</td>\n",
       "      <td>0.0</td>\n",
       "    </tr>\n",
       "    <tr>\n",
       "      <th>1</th>\n",
       "      <td>0</td>\n",
       "      <td>0</td>\n",
       "      <td>1</td>\n",
       "      <td>PAYMENT</td>\n",
       "      <td>1864.28</td>\n",
       "      <td>C1666544295</td>\n",
       "      <td>21249.0</td>\n",
       "      <td>19384.72</td>\n",
       "      <td>M2044282225</td>\n",
       "      <td>0.0</td>\n",
       "      <td>0.0</td>\n",
       "    </tr>\n",
       "    <tr>\n",
       "      <th>2</th>\n",
       "      <td>1</td>\n",
       "      <td>0</td>\n",
       "      <td>1</td>\n",
       "      <td>TRANSFER</td>\n",
       "      <td>181.00</td>\n",
       "      <td>C1305486145</td>\n",
       "      <td>181.0</td>\n",
       "      <td>0.00</td>\n",
       "      <td>C553264065</td>\n",
       "      <td>0.0</td>\n",
       "      <td>0.0</td>\n",
       "    </tr>\n",
       "    <tr>\n",
       "      <th>3</th>\n",
       "      <td>1</td>\n",
       "      <td>0</td>\n",
       "      <td>1</td>\n",
       "      <td>CASH_OUT</td>\n",
       "      <td>181.00</td>\n",
       "      <td>C840083671</td>\n",
       "      <td>181.0</td>\n",
       "      <td>0.00</td>\n",
       "      <td>C38997010</td>\n",
       "      <td>21182.0</td>\n",
       "      <td>0.0</td>\n",
       "    </tr>\n",
       "    <tr>\n",
       "      <th>4</th>\n",
       "      <td>0</td>\n",
       "      <td>0</td>\n",
       "      <td>1</td>\n",
       "      <td>PAYMENT</td>\n",
       "      <td>11668.14</td>\n",
       "      <td>C2048537720</td>\n",
       "      <td>41554.0</td>\n",
       "      <td>29885.86</td>\n",
       "      <td>M1230701703</td>\n",
       "      <td>0.0</td>\n",
       "      <td>0.0</td>\n",
       "    </tr>\n",
       "  </tbody>\n",
       "</table>\n",
       "</div>"
      ],
      "text/plain": [
       "   isFraud  isFlaggedFraud  step      type    amount     nameOrig  \\\n",
       "0        0               0     1   PAYMENT   9839.64  C1231006815   \n",
       "1        0               0     1   PAYMENT   1864.28  C1666544295   \n",
       "2        1               0     1  TRANSFER    181.00  C1305486145   \n",
       "3        1               0     1  CASH_OUT    181.00   C840083671   \n",
       "4        0               0     1   PAYMENT  11668.14  C2048537720   \n",
       "\n",
       "   oldbalanceOrg  newbalanceOrig     nameDest  oldbalanceDest  newbalanceDest  \n",
       "0       170136.0       160296.36  M1979787155             0.0             0.0  \n",
       "1        21249.0        19384.72  M2044282225             0.0             0.0  \n",
       "2          181.0            0.00   C553264065             0.0             0.0  \n",
       "3          181.0            0.00    C38997010         21182.0             0.0  \n",
       "4        41554.0        29885.86  M1230701703             0.0             0.0  "
      ]
     },
     "execution_count": 78,
     "metadata": {},
     "output_type": "execute_result"
    }
   ],
   "source": [
    "df = df[['isFraud','isFlaggedFraud','step', 'type', 'amount', 'nameOrig',\n",
    "         'oldbalanceOrg', 'newbalanceOrig','nameDest', 'oldbalanceDest',\n",
    "         'newbalanceDest']]\n",
    "df.head()"
   ]
  },
  {
   "cell_type": "markdown",
   "id": "2742381d-99a0-4e63-8d10-95f6b0ff2102",
   "metadata": {},
   "source": [
    "### Renomeando as colunas"
   ]
  },
  {
   "cell_type": "code",
   "execution_count": 79,
   "id": "4e109939-4101-440a-8593-e7342cbb25bb",
   "metadata": {},
   "outputs": [],
   "source": [
    "df.rename(columns = {\n",
    "    'isFraud': 'fraude',\n",
    "    'isFlaggedFraud':'super_fraude',\n",
    "    'step':'tempo',\n",
    "    'type':'tipo',\n",
    "    'amount':'valor',\n",
    "    'nameOrig':'cliente1',\n",
    "    'oldbalanceOrg':'saldo_inicial_c1',\n",
    "    'newbalanceOrig':'novo_saldo_c1',\n",
    "    'nameDest':'cliente2',\n",
    "    'oldbalanceDest':'saldo_inicial_c2',\n",
    "    'newbalanceDest':'novo_saldo_c2',},\n",
    "     inplace = True)"
   ]
  },
  {
   "cell_type": "code",
   "execution_count": 80,
   "id": "7c33f279-da29-4a4d-b6a3-7273f921f44f",
   "metadata": {},
   "outputs": [
    {
     "data": {
      "text/html": [
       "<div>\n",
       "<style scoped>\n",
       "    .dataframe tbody tr th:only-of-type {\n",
       "        vertical-align: middle;\n",
       "    }\n",
       "\n",
       "    .dataframe tbody tr th {\n",
       "        vertical-align: top;\n",
       "    }\n",
       "\n",
       "    .dataframe thead th {\n",
       "        text-align: right;\n",
       "    }\n",
       "</style>\n",
       "<table border=\"1\" class=\"dataframe\">\n",
       "  <thead>\n",
       "    <tr style=\"text-align: right;\">\n",
       "      <th></th>\n",
       "      <th>fraude</th>\n",
       "      <th>super_fraude</th>\n",
       "      <th>tempo</th>\n",
       "      <th>tipo</th>\n",
       "      <th>valor</th>\n",
       "      <th>cliente1</th>\n",
       "      <th>saldo_inicial_c1</th>\n",
       "      <th>novo_saldo_c1</th>\n",
       "      <th>cliente2</th>\n",
       "      <th>saldo_inicial_c2</th>\n",
       "      <th>novo_saldo_c2</th>\n",
       "    </tr>\n",
       "  </thead>\n",
       "  <tbody>\n",
       "    <tr>\n",
       "      <th>0</th>\n",
       "      <td>0</td>\n",
       "      <td>0</td>\n",
       "      <td>1</td>\n",
       "      <td>PAYMENT</td>\n",
       "      <td>9839.64</td>\n",
       "      <td>C1231006815</td>\n",
       "      <td>170136.0</td>\n",
       "      <td>160296.36</td>\n",
       "      <td>M1979787155</td>\n",
       "      <td>0.0</td>\n",
       "      <td>0.0</td>\n",
       "    </tr>\n",
       "    <tr>\n",
       "      <th>1</th>\n",
       "      <td>0</td>\n",
       "      <td>0</td>\n",
       "      <td>1</td>\n",
       "      <td>PAYMENT</td>\n",
       "      <td>1864.28</td>\n",
       "      <td>C1666544295</td>\n",
       "      <td>21249.0</td>\n",
       "      <td>19384.72</td>\n",
       "      <td>M2044282225</td>\n",
       "      <td>0.0</td>\n",
       "      <td>0.0</td>\n",
       "    </tr>\n",
       "    <tr>\n",
       "      <th>2</th>\n",
       "      <td>1</td>\n",
       "      <td>0</td>\n",
       "      <td>1</td>\n",
       "      <td>TRANSFER</td>\n",
       "      <td>181.00</td>\n",
       "      <td>C1305486145</td>\n",
       "      <td>181.0</td>\n",
       "      <td>0.00</td>\n",
       "      <td>C553264065</td>\n",
       "      <td>0.0</td>\n",
       "      <td>0.0</td>\n",
       "    </tr>\n",
       "    <tr>\n",
       "      <th>3</th>\n",
       "      <td>1</td>\n",
       "      <td>0</td>\n",
       "      <td>1</td>\n",
       "      <td>CASH_OUT</td>\n",
       "      <td>181.00</td>\n",
       "      <td>C840083671</td>\n",
       "      <td>181.0</td>\n",
       "      <td>0.00</td>\n",
       "      <td>C38997010</td>\n",
       "      <td>21182.0</td>\n",
       "      <td>0.0</td>\n",
       "    </tr>\n",
       "    <tr>\n",
       "      <th>4</th>\n",
       "      <td>0</td>\n",
       "      <td>0</td>\n",
       "      <td>1</td>\n",
       "      <td>PAYMENT</td>\n",
       "      <td>11668.14</td>\n",
       "      <td>C2048537720</td>\n",
       "      <td>41554.0</td>\n",
       "      <td>29885.86</td>\n",
       "      <td>M1230701703</td>\n",
       "      <td>0.0</td>\n",
       "      <td>0.0</td>\n",
       "    </tr>\n",
       "  </tbody>\n",
       "</table>\n",
       "</div>"
      ],
      "text/plain": [
       "   fraude  super_fraude  tempo      tipo     valor     cliente1  \\\n",
       "0       0             0      1   PAYMENT   9839.64  C1231006815   \n",
       "1       0             0      1   PAYMENT   1864.28  C1666544295   \n",
       "2       1             0      1  TRANSFER    181.00  C1305486145   \n",
       "3       1             0      1  CASH_OUT    181.00   C840083671   \n",
       "4       0             0      1   PAYMENT  11668.14  C2048537720   \n",
       "\n",
       "   saldo_inicial_c1  novo_saldo_c1     cliente2  saldo_inicial_c2  \\\n",
       "0          170136.0      160296.36  M1979787155               0.0   \n",
       "1           21249.0       19384.72  M2044282225               0.0   \n",
       "2             181.0           0.00   C553264065               0.0   \n",
       "3             181.0           0.00    C38997010           21182.0   \n",
       "4           41554.0       29885.86  M1230701703               0.0   \n",
       "\n",
       "   novo_saldo_c2  \n",
       "0            0.0  \n",
       "1            0.0  \n",
       "2            0.0  \n",
       "3            0.0  \n",
       "4            0.0  "
      ]
     },
     "execution_count": 80,
     "metadata": {},
     "output_type": "execute_result"
    }
   ],
   "source": [
    "df.head()"
   ]
  },
  {
   "cell_type": "code",
   "execution_count": 81,
   "id": "4ebca74f-8067-4bf6-a187-8fb4f8a4f529",
   "metadata": {},
   "outputs": [
    {
     "data": {
      "text/html": [
       "<div>\n",
       "<style scoped>\n",
       "    .dataframe tbody tr th:only-of-type {\n",
       "        vertical-align: middle;\n",
       "    }\n",
       "\n",
       "    .dataframe tbody tr th {\n",
       "        vertical-align: top;\n",
       "    }\n",
       "\n",
       "    .dataframe thead th {\n",
       "        text-align: right;\n",
       "    }\n",
       "</style>\n",
       "<table border=\"1\" class=\"dataframe\">\n",
       "  <thead>\n",
       "    <tr style=\"text-align: right;\">\n",
       "      <th></th>\n",
       "      <th>count</th>\n",
       "      <th>mean</th>\n",
       "      <th>std</th>\n",
       "      <th>min</th>\n",
       "      <th>25%</th>\n",
       "      <th>50%</th>\n",
       "      <th>75%</th>\n",
       "      <th>max</th>\n",
       "    </tr>\n",
       "  </thead>\n",
       "  <tbody>\n",
       "    <tr>\n",
       "      <th>fraude</th>\n",
       "      <td>101613.0</td>\n",
       "      <td>1.141586e-03</td>\n",
       "      <td>3.376824e-02</td>\n",
       "      <td>0.00</td>\n",
       "      <td>0.00</td>\n",
       "      <td>0.00</td>\n",
       "      <td>0.00</td>\n",
       "      <td>1.00</td>\n",
       "    </tr>\n",
       "    <tr>\n",
       "      <th>super_fraude</th>\n",
       "      <td>101613.0</td>\n",
       "      <td>0.000000e+00</td>\n",
       "      <td>0.000000e+00</td>\n",
       "      <td>0.00</td>\n",
       "      <td>0.00</td>\n",
       "      <td>0.00</td>\n",
       "      <td>0.00</td>\n",
       "      <td>0.00</td>\n",
       "    </tr>\n",
       "    <tr>\n",
       "      <th>tempo</th>\n",
       "      <td>101613.0</td>\n",
       "      <td>8.523457e+00</td>\n",
       "      <td>1.820681e+00</td>\n",
       "      <td>1.00</td>\n",
       "      <td>8.00</td>\n",
       "      <td>9.00</td>\n",
       "      <td>10.00</td>\n",
       "      <td>10.00</td>\n",
       "    </tr>\n",
       "    <tr>\n",
       "      <th>valor</th>\n",
       "      <td>101613.0</td>\n",
       "      <td>1.740901e+05</td>\n",
       "      <td>3.450199e+05</td>\n",
       "      <td>0.32</td>\n",
       "      <td>10016.59</td>\n",
       "      <td>53385.41</td>\n",
       "      <td>212498.40</td>\n",
       "      <td>10000000.00</td>\n",
       "    </tr>\n",
       "    <tr>\n",
       "      <th>saldo_inicial_c1</th>\n",
       "      <td>101613.0</td>\n",
       "      <td>9.071753e+05</td>\n",
       "      <td>2.829575e+06</td>\n",
       "      <td>0.00</td>\n",
       "      <td>0.00</td>\n",
       "      <td>20190.47</td>\n",
       "      <td>194715.00</td>\n",
       "      <td>38939424.03</td>\n",
       "    </tr>\n",
       "    <tr>\n",
       "      <th>novo_saldo_c1</th>\n",
       "      <td>101613.0</td>\n",
       "      <td>9.234992e+05</td>\n",
       "      <td>2.867319e+06</td>\n",
       "      <td>0.00</td>\n",
       "      <td>0.00</td>\n",
       "      <td>0.00</td>\n",
       "      <td>219217.76</td>\n",
       "      <td>38946233.02</td>\n",
       "    </tr>\n",
       "    <tr>\n",
       "      <th>saldo_inicial_c2</th>\n",
       "      <td>101613.0</td>\n",
       "      <td>8.810428e+05</td>\n",
       "      <td>2.399949e+06</td>\n",
       "      <td>0.00</td>\n",
       "      <td>0.00</td>\n",
       "      <td>21058.00</td>\n",
       "      <td>591921.70</td>\n",
       "      <td>34008736.98</td>\n",
       "    </tr>\n",
       "    <tr>\n",
       "      <th>novo_saldo_c2</th>\n",
       "      <td>101613.0</td>\n",
       "      <td>1.183998e+06</td>\n",
       "      <td>2.797761e+06</td>\n",
       "      <td>0.00</td>\n",
       "      <td>0.00</td>\n",
       "      <td>51783.43</td>\n",
       "      <td>1063121.64</td>\n",
       "      <td>38946233.02</td>\n",
       "    </tr>\n",
       "  </tbody>\n",
       "</table>\n",
       "</div>"
      ],
      "text/plain": [
       "                     count          mean           std   min       25%  \\\n",
       "fraude            101613.0  1.141586e-03  3.376824e-02  0.00      0.00   \n",
       "super_fraude      101613.0  0.000000e+00  0.000000e+00  0.00      0.00   \n",
       "tempo             101613.0  8.523457e+00  1.820681e+00  1.00      8.00   \n",
       "valor             101613.0  1.740901e+05  3.450199e+05  0.32  10016.59   \n",
       "saldo_inicial_c1  101613.0  9.071753e+05  2.829575e+06  0.00      0.00   \n",
       "novo_saldo_c1     101613.0  9.234992e+05  2.867319e+06  0.00      0.00   \n",
       "saldo_inicial_c2  101613.0  8.810428e+05  2.399949e+06  0.00      0.00   \n",
       "novo_saldo_c2     101613.0  1.183998e+06  2.797761e+06  0.00      0.00   \n",
       "\n",
       "                       50%         75%          max  \n",
       "fraude                0.00        0.00         1.00  \n",
       "super_fraude          0.00        0.00         0.00  \n",
       "tempo                 9.00       10.00        10.00  \n",
       "valor             53385.41   212498.40  10000000.00  \n",
       "saldo_inicial_c1  20190.47   194715.00  38939424.03  \n",
       "novo_saldo_c1         0.00   219217.76  38946233.02  \n",
       "saldo_inicial_c2  21058.00   591921.70  34008736.98  \n",
       "novo_saldo_c2     51783.43  1063121.64  38946233.02  "
      ]
     },
     "execution_count": 81,
     "metadata": {},
     "output_type": "execute_result"
    }
   ],
   "source": [
    "df.describe().T"
   ]
  },
  {
   "cell_type": "code",
   "execution_count": 82,
   "id": "d8e2d89a-05c3-4833-a0cc-269d0da820f0",
   "metadata": {},
   "outputs": [
    {
     "name": "stdout",
     "output_type": "stream",
     "text": [
      "<class 'pandas.core.frame.DataFrame'>\n",
      "RangeIndex: 101613 entries, 0 to 101612\n",
      "Data columns (total 11 columns):\n",
      " #   Column            Non-Null Count   Dtype  \n",
      "---  ------            --------------   -----  \n",
      " 0   fraude            101613 non-null  int64  \n",
      " 1   super_fraude      101613 non-null  int64  \n",
      " 2   tempo             101613 non-null  int64  \n",
      " 3   tipo              101613 non-null  object \n",
      " 4   valor             101613 non-null  float64\n",
      " 5   cliente1          101613 non-null  object \n",
      " 6   saldo_inicial_c1  101613 non-null  float64\n",
      " 7   novo_saldo_c1     101613 non-null  float64\n",
      " 8   cliente2          101613 non-null  object \n",
      " 9   saldo_inicial_c2  101613 non-null  float64\n",
      " 10  novo_saldo_c2     101613 non-null  float64\n",
      "dtypes: float64(5), int64(3), object(3)\n",
      "memory usage: 8.5+ MB\n"
     ]
    }
   ],
   "source": [
    "df.info()"
   ]
  },
  {
   "cell_type": "markdown",
   "id": "5257e458-860d-438e-a1a3-f96b73c8f03a",
   "metadata": {},
   "source": [
    "### Entendendo melhor a coluna `fraude`"
   ]
  },
  {
   "cell_type": "code",
   "execution_count": 83,
   "id": "416c9e35-0db0-486e-97f9-a19bb2898b31",
   "metadata": {},
   "outputs": [
    {
     "data": {
      "text/plain": [
       "fraude\n",
       "0    101497\n",
       "1       116\n",
       "Name: tempo, dtype: int64"
      ]
     },
     "execution_count": 83,
     "metadata": {},
     "output_type": "execute_result"
    }
   ],
   "source": [
    "df.groupby('fraude')['tempo'].count()"
   ]
  },
  {
   "cell_type": "markdown",
   "id": "cc777b0a-d2d3-4fab-b04a-4311f4e1d7b5",
   "metadata": {},
   "source": [
    "### Pandas Profiling"
   ]
  },
  {
   "cell_type": "code",
   "execution_count": 84,
   "id": "ca15cb4a-7c67-46a0-b3b9-415324042772",
   "metadata": {},
   "outputs": [],
   "source": [
    "# !pip install -U pandas-profiling"
   ]
  },
  {
   "cell_type": "code",
   "execution_count": 85,
   "id": "26a8a905-fb35-4f04-b0cf-e70a54428968",
   "metadata": {},
   "outputs": [],
   "source": [
    "# import pandas_profiling\n",
    "\n",
    "# pandas_profiling.ProfileReport(df)"
   ]
  },
  {
   "cell_type": "markdown",
   "id": "7fcd90a2-b9de-48ec-b0f6-aefff1720cf2",
   "metadata": {},
   "source": [
    "### Encoding\n",
    "\n",
    "#### Transformar variáveis categóricas em variáveis numéricas.\n",
    "\n",
    "#### **Tipos de encoding**\n",
    "\n",
    "**Label Encoding** - Renomea as classes com valores numéricos de 1 a **n**, sendo n o número de classes. Pode existir hierarquia entre as classes.\n",
    "\n",
    "**One-Hot Encoding** - Transforma as variáveis em **n** colunas binárias, sendo n o número de classes. Todas as classes são analisadas de forma igual, quando tiver a ocorrência dela a coluna terá o valor 1 e quando não o valor 0, isso acontece para as demais colunas criadas. Sem hierarquia. Ex.: Get_Dummies.\n",
    "\n"
   ]
  },
  {
   "cell_type": "markdown",
   "id": "151d4a13-f9cf-4408-93c3-3da98dc49798",
   "metadata": {},
   "source": [
    "***\n",
    "### Utilizando o One-Hot Encoding: dummy"
   ]
  },
  {
   "cell_type": "code",
   "execution_count": 86,
   "id": "b3720e9c-2bdb-4792-b791-617137c39ff5",
   "metadata": {},
   "outputs": [
    {
     "data": {
      "text/html": [
       "<div>\n",
       "<style scoped>\n",
       "    .dataframe tbody tr th:only-of-type {\n",
       "        vertical-align: middle;\n",
       "    }\n",
       "\n",
       "    .dataframe tbody tr th {\n",
       "        vertical-align: top;\n",
       "    }\n",
       "\n",
       "    .dataframe thead th {\n",
       "        text-align: right;\n",
       "    }\n",
       "</style>\n",
       "<table border=\"1\" class=\"dataframe\">\n",
       "  <thead>\n",
       "    <tr style=\"text-align: right;\">\n",
       "      <th></th>\n",
       "      <th>fraude</th>\n",
       "      <th>super_fraude</th>\n",
       "      <th>tempo</th>\n",
       "      <th>valor</th>\n",
       "      <th>cliente1</th>\n",
       "      <th>saldo_inicial_c1</th>\n",
       "      <th>novo_saldo_c1</th>\n",
       "      <th>cliente2</th>\n",
       "      <th>saldo_inicial_c2</th>\n",
       "      <th>novo_saldo_c2</th>\n",
       "      <th>tipo_CASH_IN</th>\n",
       "      <th>tipo_CASH_OUT</th>\n",
       "      <th>tipo_DEBIT</th>\n",
       "      <th>tipo_PAYMENT</th>\n",
       "      <th>tipo_TRANSFER</th>\n",
       "    </tr>\n",
       "  </thead>\n",
       "  <tbody>\n",
       "    <tr>\n",
       "      <th>0</th>\n",
       "      <td>0</td>\n",
       "      <td>0</td>\n",
       "      <td>1</td>\n",
       "      <td>9839.64</td>\n",
       "      <td>C1231006815</td>\n",
       "      <td>170136.0</td>\n",
       "      <td>160296.36</td>\n",
       "      <td>M1979787155</td>\n",
       "      <td>0.0</td>\n",
       "      <td>0.0</td>\n",
       "      <td>0</td>\n",
       "      <td>0</td>\n",
       "      <td>0</td>\n",
       "      <td>1</td>\n",
       "      <td>0</td>\n",
       "    </tr>\n",
       "    <tr>\n",
       "      <th>1</th>\n",
       "      <td>0</td>\n",
       "      <td>0</td>\n",
       "      <td>1</td>\n",
       "      <td>1864.28</td>\n",
       "      <td>C1666544295</td>\n",
       "      <td>21249.0</td>\n",
       "      <td>19384.72</td>\n",
       "      <td>M2044282225</td>\n",
       "      <td>0.0</td>\n",
       "      <td>0.0</td>\n",
       "      <td>0</td>\n",
       "      <td>0</td>\n",
       "      <td>0</td>\n",
       "      <td>1</td>\n",
       "      <td>0</td>\n",
       "    </tr>\n",
       "    <tr>\n",
       "      <th>2</th>\n",
       "      <td>1</td>\n",
       "      <td>0</td>\n",
       "      <td>1</td>\n",
       "      <td>181.00</td>\n",
       "      <td>C1305486145</td>\n",
       "      <td>181.0</td>\n",
       "      <td>0.00</td>\n",
       "      <td>C553264065</td>\n",
       "      <td>0.0</td>\n",
       "      <td>0.0</td>\n",
       "      <td>0</td>\n",
       "      <td>0</td>\n",
       "      <td>0</td>\n",
       "      <td>0</td>\n",
       "      <td>1</td>\n",
       "    </tr>\n",
       "    <tr>\n",
       "      <th>3</th>\n",
       "      <td>1</td>\n",
       "      <td>0</td>\n",
       "      <td>1</td>\n",
       "      <td>181.00</td>\n",
       "      <td>C840083671</td>\n",
       "      <td>181.0</td>\n",
       "      <td>0.00</td>\n",
       "      <td>C38997010</td>\n",
       "      <td>21182.0</td>\n",
       "      <td>0.0</td>\n",
       "      <td>0</td>\n",
       "      <td>1</td>\n",
       "      <td>0</td>\n",
       "      <td>0</td>\n",
       "      <td>0</td>\n",
       "    </tr>\n",
       "    <tr>\n",
       "      <th>4</th>\n",
       "      <td>0</td>\n",
       "      <td>0</td>\n",
       "      <td>1</td>\n",
       "      <td>11668.14</td>\n",
       "      <td>C2048537720</td>\n",
       "      <td>41554.0</td>\n",
       "      <td>29885.86</td>\n",
       "      <td>M1230701703</td>\n",
       "      <td>0.0</td>\n",
       "      <td>0.0</td>\n",
       "      <td>0</td>\n",
       "      <td>0</td>\n",
       "      <td>0</td>\n",
       "      <td>1</td>\n",
       "      <td>0</td>\n",
       "    </tr>\n",
       "  </tbody>\n",
       "</table>\n",
       "</div>"
      ],
      "text/plain": [
       "   fraude  super_fraude  tempo     valor     cliente1  saldo_inicial_c1  \\\n",
       "0       0             0      1   9839.64  C1231006815          170136.0   \n",
       "1       0             0      1   1864.28  C1666544295           21249.0   \n",
       "2       1             0      1    181.00  C1305486145             181.0   \n",
       "3       1             0      1    181.00   C840083671             181.0   \n",
       "4       0             0      1  11668.14  C2048537720           41554.0   \n",
       "\n",
       "   novo_saldo_c1     cliente2  saldo_inicial_c2  novo_saldo_c2  tipo_CASH_IN  \\\n",
       "0      160296.36  M1979787155               0.0            0.0             0   \n",
       "1       19384.72  M2044282225               0.0            0.0             0   \n",
       "2           0.00   C553264065               0.0            0.0             0   \n",
       "3           0.00    C38997010           21182.0            0.0             0   \n",
       "4       29885.86  M1230701703               0.0            0.0             0   \n",
       "\n",
       "   tipo_CASH_OUT  tipo_DEBIT  tipo_PAYMENT  tipo_TRANSFER  \n",
       "0              0           0             1              0  \n",
       "1              0           0             1              0  \n",
       "2              0           0             0              1  \n",
       "3              1           0             0              0  \n",
       "4              0           0             1              0  "
      ]
     },
     "execution_count": 86,
     "metadata": {},
     "output_type": "execute_result"
    }
   ],
   "source": [
    "df = pd.get_dummies(data = df, columns = ['tipo'])\n",
    "df.head()"
   ]
  },
  {
   "cell_type": "markdown",
   "id": "40966884-fef7-41eb-8ca1-da1ee0894a0e",
   "metadata": {},
   "source": [
    "### Removendo os nomes dos clientes e a coluna super fraude, já que não existem registros nessa coluna"
   ]
  },
  {
   "cell_type": "code",
   "execution_count": 87,
   "id": "75dabc5d-4a4d-45f0-b064-020ebf4a956c",
   "metadata": {},
   "outputs": [],
   "source": [
    "df.drop(['cliente1', 'cliente2', 'super_fraude'], axis = 1, inplace = True)"
   ]
  },
  {
   "cell_type": "markdown",
   "id": "8fadb508-037f-44f2-8130-e150b270078d",
   "metadata": {},
   "source": [
    "***\n",
    "### Modelo de Regressão Logística"
   ]
  },
  {
   "cell_type": "markdown",
   "id": "7446391f-50c6-4894-bef8-9e2017884421",
   "metadata": {},
   "source": [
    "#### Separando os dados em X e Y"
   ]
  },
  {
   "cell_type": "code",
   "execution_count": 88,
   "id": "85c66ce7-82c5-44b9-ad8a-aa42d30ea04a",
   "metadata": {},
   "outputs": [],
   "source": [
    "X = df.drop('fraude', axis = 1)\n",
    "Y = df['fraude']"
   ]
  },
  {
   "cell_type": "code",
   "execution_count": 89,
   "id": "56272d53-4fca-4c43-ad49-d825b8a62278",
   "metadata": {},
   "outputs": [],
   "source": [
    "from sklearn.model_selection import train_test_split\n",
    "\n",
    "SEED = 42\n",
    "\n",
    "x_train, x_test, y_train, y_test = train_test_split(X,Y, test_size = 0.25, random_state = SEED)"
   ]
  },
  {
   "cell_type": "code",
   "execution_count": 90,
   "id": "992be589-5c5d-44b6-aabd-48a595d8c0a4",
   "metadata": {},
   "outputs": [],
   "source": [
    "from sklearn.linear_model import LogisticRegression\n",
    "\n",
    "lr = LogisticRegression(max_iter=1000, random_state=SEED)"
   ]
  },
  {
   "cell_type": "code",
   "execution_count": 91,
   "id": "af2b6ea8-dac3-47f2-b8c2-daaa3b274d11",
   "metadata": {},
   "outputs": [
    {
     "data": {
      "text/html": [
       "<style>#sk-container-id-3 {color: black;background-color: white;}#sk-container-id-3 pre{padding: 0;}#sk-container-id-3 div.sk-toggleable {background-color: white;}#sk-container-id-3 label.sk-toggleable__label {cursor: pointer;display: block;width: 100%;margin-bottom: 0;padding: 0.3em;box-sizing: border-box;text-align: center;}#sk-container-id-3 label.sk-toggleable__label-arrow:before {content: \"▸\";float: left;margin-right: 0.25em;color: #696969;}#sk-container-id-3 label.sk-toggleable__label-arrow:hover:before {color: black;}#sk-container-id-3 div.sk-estimator:hover label.sk-toggleable__label-arrow:before {color: black;}#sk-container-id-3 div.sk-toggleable__content {max-height: 0;max-width: 0;overflow: hidden;text-align: left;background-color: #f0f8ff;}#sk-container-id-3 div.sk-toggleable__content pre {margin: 0.2em;color: black;border-radius: 0.25em;background-color: #f0f8ff;}#sk-container-id-3 input.sk-toggleable__control:checked~div.sk-toggleable__content {max-height: 200px;max-width: 100%;overflow: auto;}#sk-container-id-3 input.sk-toggleable__control:checked~label.sk-toggleable__label-arrow:before {content: \"▾\";}#sk-container-id-3 div.sk-estimator input.sk-toggleable__control:checked~label.sk-toggleable__label {background-color: #d4ebff;}#sk-container-id-3 div.sk-label input.sk-toggleable__control:checked~label.sk-toggleable__label {background-color: #d4ebff;}#sk-container-id-3 input.sk-hidden--visually {border: 0;clip: rect(1px 1px 1px 1px);clip: rect(1px, 1px, 1px, 1px);height: 1px;margin: -1px;overflow: hidden;padding: 0;position: absolute;width: 1px;}#sk-container-id-3 div.sk-estimator {font-family: monospace;background-color: #f0f8ff;border: 1px dotted black;border-radius: 0.25em;box-sizing: border-box;margin-bottom: 0.5em;}#sk-container-id-3 div.sk-estimator:hover {background-color: #d4ebff;}#sk-container-id-3 div.sk-parallel-item::after {content: \"\";width: 100%;border-bottom: 1px solid gray;flex-grow: 1;}#sk-container-id-3 div.sk-label:hover label.sk-toggleable__label {background-color: #d4ebff;}#sk-container-id-3 div.sk-serial::before {content: \"\";position: absolute;border-left: 1px solid gray;box-sizing: border-box;top: 0;bottom: 0;left: 50%;z-index: 0;}#sk-container-id-3 div.sk-serial {display: flex;flex-direction: column;align-items: center;background-color: white;padding-right: 0.2em;padding-left: 0.2em;position: relative;}#sk-container-id-3 div.sk-item {position: relative;z-index: 1;}#sk-container-id-3 div.sk-parallel {display: flex;align-items: stretch;justify-content: center;background-color: white;position: relative;}#sk-container-id-3 div.sk-item::before, #sk-container-id-3 div.sk-parallel-item::before {content: \"\";position: absolute;border-left: 1px solid gray;box-sizing: border-box;top: 0;bottom: 0;left: 50%;z-index: -1;}#sk-container-id-3 div.sk-parallel-item {display: flex;flex-direction: column;z-index: 1;position: relative;background-color: white;}#sk-container-id-3 div.sk-parallel-item:first-child::after {align-self: flex-end;width: 50%;}#sk-container-id-3 div.sk-parallel-item:last-child::after {align-self: flex-start;width: 50%;}#sk-container-id-3 div.sk-parallel-item:only-child::after {width: 0;}#sk-container-id-3 div.sk-dashed-wrapped {border: 1px dashed gray;margin: 0 0.4em 0.5em 0.4em;box-sizing: border-box;padding-bottom: 0.4em;background-color: white;}#sk-container-id-3 div.sk-label label {font-family: monospace;font-weight: bold;display: inline-block;line-height: 1.2em;}#sk-container-id-3 div.sk-label-container {text-align: center;}#sk-container-id-3 div.sk-container {/* jupyter's `normalize.less` sets `[hidden] { display: none; }` but bootstrap.min.css set `[hidden] { display: none !important; }` so we also need the `!important` here to be able to override the default hidden behavior on the sphinx rendered scikit-learn.org. See: https://github.com/scikit-learn/scikit-learn/issues/21755 */display: inline-block !important;position: relative;}#sk-container-id-3 div.sk-text-repr-fallback {display: none;}</style><div id=\"sk-container-id-3\" class=\"sk-top-container\"><div class=\"sk-text-repr-fallback\"><pre>LogisticRegression(max_iter=1000, random_state=42)</pre><b>In a Jupyter environment, please rerun this cell to show the HTML representation or trust the notebook. <br />On GitHub, the HTML representation is unable to render, please try loading this page with nbviewer.org.</b></div><div class=\"sk-container\" hidden><div class=\"sk-item\"><div class=\"sk-estimator sk-toggleable\"><input class=\"sk-toggleable__control sk-hidden--visually\" id=\"sk-estimator-id-3\" type=\"checkbox\" checked><label for=\"sk-estimator-id-3\" class=\"sk-toggleable__label sk-toggleable__label-arrow\">LogisticRegression</label><div class=\"sk-toggleable__content\"><pre>LogisticRegression(max_iter=1000, random_state=42)</pre></div></div></div></div></div>"
      ],
      "text/plain": [
       "LogisticRegression(max_iter=1000, random_state=42)"
      ]
     },
     "execution_count": 91,
     "metadata": {},
     "output_type": "execute_result"
    }
   ],
   "source": [
    "lr.fit(x_train, y_train)"
   ]
  },
  {
   "cell_type": "code",
   "execution_count": 92,
   "id": "d402f3ab-70db-43ed-ba6a-3ad040a1c8e9",
   "metadata": {},
   "outputs": [],
   "source": [
    "y_pred = lr.predict(x_test)"
   ]
  },
  {
   "cell_type": "code",
   "execution_count": 93,
   "id": "86f8f01e-ae91-4344-841e-ad50bf52e80f",
   "metadata": {},
   "outputs": [
    {
     "name": "stdout",
     "output_type": "stream",
     "text": [
      "Acurácia: 0.9989765391276965\n",
      "Precisão: 0.2\n",
      "Recall: 0.043478260869565216\n",
      "F1: 0.07142857142857142\n"
     ]
    }
   ],
   "source": [
    "from sklearn import metrics\n",
    "\n",
    "print(\"Acurácia:\", metrics.accuracy_score(y_test, y_pred))\n",
    "print(\"Precisão:\", metrics.precision_score(y_test, y_pred))\n",
    "print(\"Recall:\", metrics.recall_score(y_test, y_pred))\n",
    "print(\"F1:\", metrics.f1_score(y_test, y_pred))"
   ]
  },
  {
   "cell_type": "markdown",
   "id": "cffd9a65-7f0f-4dc8-a74c-ac9138352bc7",
   "metadata": {},
   "source": [
    "### Note que a acurácia está bastante elevda, poré, a precisão está baixa e a sensibilidade também. Lembrando que nossos dados estão desbalanceados, isso significa que o modelo pode ter boa acurácia porque a maior parte dos dados não é fraude.\n",
    "\n",
    "### F1 é a média harmônica entre a precisão e o recall. Geralmente, quando nossa acurácia é muito alta e o F1 muito baixo, o que acontece nesse caso, a acurácia pode não ser confiável."
   ]
  },
  {
   "cell_type": "markdown",
   "id": "705a916c-00be-49a3-8580-1cbdbf4c6a11",
   "metadata": {},
   "source": [
    "***\n",
    "### Matriz de Confusão"
   ]
  },
  {
   "cell_type": "code",
   "execution_count": 94,
   "id": "cb116ae7-6ce9-4449-85cb-42e7e459afe5",
   "metadata": {},
   "outputs": [
    {
     "data": {
      "text/plain": [
       "<sklearn.metrics._plot.confusion_matrix.ConfusionMatrixDisplay at 0x7f25b9ece550>"
      ]
     },
     "execution_count": 94,
     "metadata": {},
     "output_type": "execute_result"
    },
    {
     "data": {
      "image/png": "[encoded data removed]",
      "text/plain": [
       "<Figure size 864x576 with 2 Axes>"
      ]
     },
     "metadata": {
      "needs_background": "light"
     },
     "output_type": "display_data"
    }
   ],
   "source": [
    "import matplotlib.pyplot as plt\n",
    "from sklearn.metrics import confusion_matrix\n",
    "from sklearn.datasets import make_classification\n",
    "from sklearn.metrics import ConfusionMatrixDisplay\n",
    "\n",
    "cm = confusion_matrix(y_test, y_pred)\n",
    "display = ConfusionMatrixDisplay(confusion_matrix=cm)\n",
    "display.plot()"
   ]
  },
  {
   "cell_type": "markdown",
   "id": "a139f60b-b46c-41d9-bba7-80d0ce237e99",
   "metadata": {},
   "source": [
    "### Curva ROC e AUC"
   ]
  },
  {
   "cell_type": "code",
   "execution_count": 95,
   "id": "4e481d6f-3967-41f6-99e1-4a42e4205df2",
   "metadata": {},
   "outputs": [
    {
     "data": {
      "text/plain": [
       "<matplotlib.legend.Legend at 0x7f25b821c430>"
      ]
     },
     "execution_count": 95,
     "metadata": {},
     "output_type": "execute_result"
    },
    {
     "data": {
      "image/png": "[encoded data removed]",
      "text/plain": [
       "<Figure size 864x576 with 1 Axes>"
      ]
     },
     "metadata": {
      "needs_background": "light"
     },
     "output_type": "display_data"
    }
   ],
   "source": [
    "y_pred_proba = lr.predict_proba(x_test)[::,1]\n",
    "fpr, tpr, _ = metrics.roc_curve(y_test, y_pred_proba)\n",
    "auc = metrics.roc_auc_score(y_test,y_pred_proba)\n",
    "\n",
    "plt.rcParams['figure.figsize'] = (12.,8.)\n",
    "plt.plot(fpr, tpr, label = 'LR, auc='+str(auc))\n",
    "plt.plot([0,1],[0,1], color = 'red', lw = 2, linestyle='--')\n",
    "plt.legend(loc=4)"
   ]
  },
  {
   "cell_type": "markdown",
   "id": "a05f73da-cae9-42a8-99c9-bd4105ef28d8",
   "metadata": {},
   "source": [
    "Para avaliarmos modelos de classificação, além das métricas que são retiradas da matriz de confusão, podemos utilizar curvas que consideram a performance do modelo em diferentes pontos de corte, conhecidos como “thresholds”. Vamos entender o que são esses pontos de corte.\n",
    "\n",
    "Na construção de um modelo de classificação, a predição de uma classe está atrelada a uma probabilidade. Imagine que temos uma variável alvo com duas possibilidades (0 ou 1, não fraude e fraude, respectivamente). Se um modelo classifica uma observação como 1, significa que há uma probabilidade de x% de que aquela observação seja da classe 1.\n",
    "\n",
    "O ponto de corte é um valor de probabilidade no qual: se a probabilidade de predição for maior que esse valor atribui-se a observação à classe 1; se for menor, atribuímos a observação à classe 0. À medida que o ponto de corte varia, os resultados obtidos na classificação se tornam diferentes, fazendo com que o modelo acerte mais de uma classe em detrimento de errar mais outra.\n",
    "\n",
    "Vamos verificar através de um exemplo. No caso abaixo, estão representados a precisão e o recall. Na imagem são definidos três pontos de corte em 25%, 50% e 75%, representados pelas setas verticais. Os zeros e uns são os valores reais das classes e a classificação será feita através dos pontos de corte. Os valores à esquerda da seta serão classificados pelo modelo como 0 e os valores à direita serão classificados como 1."
   ]
  },
  {
   "cell_type": "markdown",
   "id": "c3eb31c9-d6be-40f4-8471-dafe6d3feb67",
   "metadata": {},
   "source": [
    "<img src = 'assets/1.png'>"
   ]
  },
  {
   "cell_type": "markdown",
   "id": "1afd9593-ffa5-4e95-85ab-eda21c2f09fc",
   "metadata": {},
   "source": [
    "No primeiro ponto de corte, temos 3 valores à esquerda classificados como 0 e 9 valores à direita classificados como 1. A precisão é dada por 5/(5+4) = 55,5% indicando que 5 valores foram classificados corretamente como 1, dentre 9 valores totais classificados como 1. O recall é dado por 5/(5+1) = 83% mostrando que 5 valores foram classificados corretamente como 1, dentre 6 valores reais 1 no conjunto de dados.\n",
    "\n",
    "No segundo ponto de corte, temos 6 valores à esquerda classificados como 0 e 6 valores à direita classificados como 1. A precisão é dada por 4/(4+2) = 66,6% mostrando que 4 valores foram classificados corretamente como 1, dentre 6 valores totais classificados como 1. O recall é dado por 4/(4+2) = 66,6% indicando que 4 valores foram classificados corretamente como 1, dentre 6 valores reais 1 no conjunto de dados. O mesmo raciocínio pode ser aplicado para o último ponto de corte, resultando em valores diferentes para as métricas.\n",
    "\n",
    "Para cada ponto de corte, uma matriz de confusão pode ser criada e as métricas podem ser extraídas em uma tabela, na qual cada linha representa um ponto de corte com suas respectivas métricas. Desta tabela, podem ser construídos gráficos para análise do modelo."
   ]
  },
  {
   "cell_type": "markdown",
   "id": "089a85b6-2b63-488b-a515-ce0f91f35725",
   "metadata": {},
   "source": [
    "***\n",
    "### Balanceamento de dados"
   ]
  },
  {
   "cell_type": "markdown",
   "id": "77da74a3-888f-4c43-aac0-4b524e03e1c1",
   "metadata": {},
   "source": [
    "### Tipos:\n",
    "\n",
    "* Undersampling: Reduzir dados majoritários (não fraude) para 116\n",
    "* Oversampling: Duplicar, triplicar dados da classe minoritária até chegar no valor da classe majoritária\n",
    "\n",
    "> Oversampling: Quando trabalha-se com dados reais, este procedimento pode ser prejudicial. Para efeitos de nossa análise, como já trabalhamos com dados sintéticos, o prejuízo pode não ser tão grande.\n",
    "\n",
    "> Técnica SMOTE: Utiliza o algoritmo KNN (k nearest neighbor) dentro dela. Precisaremos da biblioteca imbalanced-learn."
   ]
  },
  {
   "cell_type": "markdown",
   "id": "d75b9230-0bdf-4519-8272-45e29cf30ed2",
   "metadata": {},
   "source": [
    "### Undersampling:\n",
    "\n",
    "Undersampling\n",
    "É uma técnica que consiste em manter todos os dados da classe com menor frequência e diminuir a quantidade de dados da classe de maior frequência, fazendo com que as observações no conjunto de dados possuam dados com a variável alvo equilibrada.\n",
    "\n",
    "Pode ser uma vantagem utilizar o undersampling para reduzir o armazenamento dos dados e tempo de execução de códigos, visto que a quantidade de dados será bem menor. Em contrapartida, ao remover grande parte dos dados muita informação que poderia ser útil para a construção dos modelos será perdida. Além disso, a amostragem realizada para manter os dados com a classe de maior frequência pode não ser representativa da população, gerando uma imprecisão de previsão de novos dados.\n",
    "\n"
   ]
  },
  {
   "cell_type": "markdown",
   "id": "f4226bab-fc54-4fb9-8ebf-02d1036d8dbe",
   "metadata": {},
   "source": [
    "### Oversampling:\n",
    "\n",
    "É uma técnica que consiste em aumentar a quantidade de registros da classe com menor frequência até que a base de dados possua uma quantidade equilibrada entre as classes da variável alvo. Para aumentar a quantidade de registros, podemos duplicar aleatoriamente registros da classe com menor frequência, mas isso fará com que muitas informações fiquem idênticas, o que pode impactar no modelo.\n",
    "\n",
    "Uma vantagem dessa técnica é que nenhuma informação dos registros que possuíam a classe com maior frequência é perdida, fazendo com que o conjunto de dados possua muitos registros para alimentar os algoritmos de machine learning. Por sua vez, o armazenamento e o tempo de processamento crescem bastante e há a possibilidade de ocorrer um sobreajuste nos dados que foram duplicados.\n",
    "\n",
    "Este sobreajuste acontece quando o modelo se torna muito bom em prever os resultados para os dados de treinamento, mas não generaliza bem para novos dados. Para evitar que existam muitos dados idênticos, pode ser utilizada a técnica SMOTE, que consiste em sintetizar novas informações com base nas já existentes. Esses dados “sintéticos” são relativamente próximos aos dados reais, mas não são idênticos.\n",
    "\n",
    "[Mais sobre o SMOTE](https://arxiv.org/abs/1106.1813)"
   ]
  },
  {
   "cell_type": "code",
   "execution_count": 96,
   "id": "8f11a8b6-8327-48f2-93ca-1a3a8d2e0ee2",
   "metadata": {},
   "outputs": [],
   "source": [
    "# -U garante que a última versão seja instalada.\n",
    "\n",
    "#!pip install -U imbalanced-learn"
   ]
  },
  {
   "cell_type": "code",
   "execution_count": 97,
   "id": "403864c2-1e1e-4d97-a8c9-58b51010d21e",
   "metadata": {},
   "outputs": [],
   "source": [
    "from imblearn.over_sampling import SMOTE\n",
    "import numpy as np\n",
    "\n",
    "smote = SMOTE(random_state = SEED)"
   ]
  },
  {
   "cell_type": "code",
   "execution_count": 98,
   "id": "0319a3b8-5325-4197-88e6-365377f17013",
   "metadata": {},
   "outputs": [],
   "source": [
    "# conda install -c conda-forge imbalanced-learn"
   ]
  },
  {
   "cell_type": "code",
   "execution_count": 99,
   "id": "c845cb70-591d-4148-bffd-4123bc108914",
   "metadata": {},
   "outputs": [],
   "source": [
    "X_resampled, Y_resampled = smote.fit_resample(X,Y)"
   ]
  },
  {
   "cell_type": "code",
   "execution_count": 100,
   "id": "a7a3deb0-3ece-4e5e-9742-1add2fe12bfe",
   "metadata": {},
   "outputs": [
    {
     "data": {
      "text/html": [
       "<div>\n",
       "<style scoped>\n",
       "    .dataframe tbody tr th:only-of-type {\n",
       "        vertical-align: middle;\n",
       "    }\n",
       "\n",
       "    .dataframe tbody tr th {\n",
       "        vertical-align: top;\n",
       "    }\n",
       "\n",
       "    .dataframe thead th {\n",
       "        text-align: right;\n",
       "    }\n",
       "</style>\n",
       "<table border=\"1\" class=\"dataframe\">\n",
       "  <thead>\n",
       "    <tr style=\"text-align: right;\">\n",
       "      <th></th>\n",
       "      <th>fraude</th>\n",
       "      <th>tempo</th>\n",
       "      <th>valor</th>\n",
       "      <th>saldo_inicial_c1</th>\n",
       "      <th>novo_saldo_c1</th>\n",
       "      <th>saldo_inicial_c2</th>\n",
       "      <th>novo_saldo_c2</th>\n",
       "      <th>tipo_CASH_IN</th>\n",
       "      <th>tipo_CASH_OUT</th>\n",
       "      <th>tipo_DEBIT</th>\n",
       "      <th>tipo_PAYMENT</th>\n",
       "      <th>tipo_TRANSFER</th>\n",
       "    </tr>\n",
       "  </thead>\n",
       "  <tbody>\n",
       "    <tr>\n",
       "      <th>0</th>\n",
       "      <td>0</td>\n",
       "      <td>1</td>\n",
       "      <td>9839.64</td>\n",
       "      <td>170136.0</td>\n",
       "      <td>160296.36</td>\n",
       "      <td>0.0</td>\n",
       "      <td>0.0</td>\n",
       "      <td>0</td>\n",
       "      <td>0</td>\n",
       "      <td>0</td>\n",
       "      <td>1</td>\n",
       "      <td>0</td>\n",
       "    </tr>\n",
       "    <tr>\n",
       "      <th>1</th>\n",
       "      <td>0</td>\n",
       "      <td>1</td>\n",
       "      <td>1864.28</td>\n",
       "      <td>21249.0</td>\n",
       "      <td>19384.72</td>\n",
       "      <td>0.0</td>\n",
       "      <td>0.0</td>\n",
       "      <td>0</td>\n",
       "      <td>0</td>\n",
       "      <td>0</td>\n",
       "      <td>1</td>\n",
       "      <td>0</td>\n",
       "    </tr>\n",
       "    <tr>\n",
       "      <th>2</th>\n",
       "      <td>1</td>\n",
       "      <td>1</td>\n",
       "      <td>181.00</td>\n",
       "      <td>181.0</td>\n",
       "      <td>0.00</td>\n",
       "      <td>0.0</td>\n",
       "      <td>0.0</td>\n",
       "      <td>0</td>\n",
       "      <td>0</td>\n",
       "      <td>0</td>\n",
       "      <td>0</td>\n",
       "      <td>1</td>\n",
       "    </tr>\n",
       "    <tr>\n",
       "      <th>3</th>\n",
       "      <td>1</td>\n",
       "      <td>1</td>\n",
       "      <td>181.00</td>\n",
       "      <td>181.0</td>\n",
       "      <td>0.00</td>\n",
       "      <td>21182.0</td>\n",
       "      <td>0.0</td>\n",
       "      <td>0</td>\n",
       "      <td>1</td>\n",
       "      <td>0</td>\n",
       "      <td>0</td>\n",
       "      <td>0</td>\n",
       "    </tr>\n",
       "    <tr>\n",
       "      <th>4</th>\n",
       "      <td>0</td>\n",
       "      <td>1</td>\n",
       "      <td>11668.14</td>\n",
       "      <td>41554.0</td>\n",
       "      <td>29885.86</td>\n",
       "      <td>0.0</td>\n",
       "      <td>0.0</td>\n",
       "      <td>0</td>\n",
       "      <td>0</td>\n",
       "      <td>0</td>\n",
       "      <td>1</td>\n",
       "      <td>0</td>\n",
       "    </tr>\n",
       "  </tbody>\n",
       "</table>\n",
       "</div>"
      ],
      "text/plain": [
       "   fraude  tempo     valor  saldo_inicial_c1  novo_saldo_c1  saldo_inicial_c2  \\\n",
       "0       0      1   9839.64          170136.0      160296.36               0.0   \n",
       "1       0      1   1864.28           21249.0       19384.72               0.0   \n",
       "2       1      1    181.00             181.0           0.00               0.0   \n",
       "3       1      1    181.00             181.0           0.00           21182.0   \n",
       "4       0      1  11668.14           41554.0       29885.86               0.0   \n",
       "\n",
       "   novo_saldo_c2  tipo_CASH_IN  tipo_CASH_OUT  tipo_DEBIT  tipo_PAYMENT  \\\n",
       "0            0.0             0              0           0             1   \n",
       "1            0.0             0              0           0             1   \n",
       "2            0.0             0              0           0             0   \n",
       "3            0.0             0              1           0             0   \n",
       "4            0.0             0              0           0             1   \n",
       "\n",
       "   tipo_TRANSFER  \n",
       "0              0  \n",
       "1              0  \n",
       "2              1  \n",
       "3              0  \n",
       "4              0  "
      ]
     },
     "execution_count": 100,
     "metadata": {},
     "output_type": "execute_result"
    }
   ],
   "source": [
    "df_balanceado = pd.concat([Y_resampled, X_resampled], axis = 1)\n",
    "df_balanceado.head()"
   ]
  },
  {
   "cell_type": "markdown",
   "id": "98e6822a-5711-4487-a599-b64998c74cb2",
   "metadata": {},
   "source": [
    "### Verificando se o dataset está balanceado agora"
   ]
  },
  {
   "cell_type": "code",
   "execution_count": 101,
   "id": "3e92e6c0-b394-4285-a16f-ca9ca542c330",
   "metadata": {},
   "outputs": [
    {
     "data": {
      "text/plain": [
       "fraude\n",
       "0    101497\n",
       "1    101497\n",
       "Name: tempo, dtype: int64"
      ]
     },
     "execution_count": 101,
     "metadata": {},
     "output_type": "execute_result"
    }
   ],
   "source": [
    "df_balanceado.groupby('fraude')['tempo'].count()"
   ]
  },
  {
   "cell_type": "markdown",
   "id": "de5278ab-03d3-4554-a5fe-6ed05213bda0",
   "metadata": {},
   "source": [
    "### Novo teste do modelo de LR para verificarmos se os resultados melhoram"
   ]
  },
  {
   "cell_type": "code",
   "execution_count": 102,
   "id": "e686bfa5-b1f8-4451-a117-61dd23660768",
   "metadata": {},
   "outputs": [],
   "source": [
    "X_b = df_balanceado.drop('fraude', axis = 1)\n",
    "Y_b = df_balanceado['fraude']"
   ]
  },
  {
   "cell_type": "code",
   "execution_count": 103,
   "id": "f3724fe8-a929-4824-907a-c9f502f552d0",
   "metadata": {},
   "outputs": [],
   "source": [
    "from sklearn.model_selection import train_test_split\n",
    "\n",
    "SEED = 42\n",
    "\n",
    "x_train_b, x_test_b, y_train_b, y_test_b = train_test_split(X_b,Y_b, test_size = 0.25, random_state = SEED)"
   ]
  },
  {
   "cell_type": "code",
   "execution_count": 104,
   "id": "8104fa9e-dbb0-4b76-b1c3-afe060f0682d",
   "metadata": {},
   "outputs": [],
   "source": [
    "from sklearn.linear_model import LogisticRegression\n",
    "\n",
    "lr = LogisticRegression(max_iter=1000, random_state=SEED)"
   ]
  },
  {
   "cell_type": "code",
   "execution_count": 105,
   "id": "42ca176a-a3f6-48d6-90c5-510eca9b3065",
   "metadata": {},
   "outputs": [
    {
     "data": {
      "text/html": [
       "<style>#sk-container-id-4 {color: black;background-color: white;}#sk-container-id-4 pre{padding: 0;}#sk-container-id-4 div.sk-toggleable {background-color: white;}#sk-container-id-4 label.sk-toggleable__label {cursor: pointer;display: block;width: 100%;margin-bottom: 0;padding: 0.3em;box-sizing: border-box;text-align: center;}#sk-container-id-4 label.sk-toggleable__label-arrow:before {content: \"▸\";float: left;margin-right: 0.25em;color: #696969;}#sk-container-id-4 label.sk-toggleable__label-arrow:hover:before {color: black;}#sk-container-id-4 div.sk-estimator:hover label.sk-toggleable__label-arrow:before {color: black;}#sk-container-id-4 div.sk-toggleable__content {max-height: 0;max-width: 0;overflow: hidden;text-align: left;background-color: #f0f8ff;}#sk-container-id-4 div.sk-toggleable__content pre {margin: 0.2em;color: black;border-radius: 0.25em;background-color: #f0f8ff;}#sk-container-id-4 input.sk-toggleable__control:checked~div.sk-toggleable__content {max-height: 200px;max-width: 100%;overflow: auto;}#sk-container-id-4 input.sk-toggleable__control:checked~label.sk-toggleable__label-arrow:before {content: \"▾\";}#sk-container-id-4 div.sk-estimator input.sk-toggleable__control:checked~label.sk-toggleable__label {background-color: #d4ebff;}#sk-container-id-4 div.sk-label input.sk-toggleable__control:checked~label.sk-toggleable__label {background-color: #d4ebff;}#sk-container-id-4 input.sk-hidden--visually {border: 0;clip: rect(1px 1px 1px 1px);clip: rect(1px, 1px, 1px, 1px);height: 1px;margin: -1px;overflow: hidden;padding: 0;position: absolute;width: 1px;}#sk-container-id-4 div.sk-estimator {font-family: monospace;background-color: #f0f8ff;border: 1px dotted black;border-radius: 0.25em;box-sizing: border-box;margin-bottom: 0.5em;}#sk-container-id-4 div.sk-estimator:hover {background-color: #d4ebff;}#sk-container-id-4 div.sk-parallel-item::after {content: \"\";width: 100%;border-bottom: 1px solid gray;flex-grow: 1;}#sk-container-id-4 div.sk-label:hover label.sk-toggleable__label {background-color: #d4ebff;}#sk-container-id-4 div.sk-serial::before {content: \"\";position: absolute;border-left: 1px solid gray;box-sizing: border-box;top: 0;bottom: 0;left: 50%;z-index: 0;}#sk-container-id-4 div.sk-serial {display: flex;flex-direction: column;align-items: center;background-color: white;padding-right: 0.2em;padding-left: 0.2em;position: relative;}#sk-container-id-4 div.sk-item {position: relative;z-index: 1;}#sk-container-id-4 div.sk-parallel {display: flex;align-items: stretch;justify-content: center;background-color: white;position: relative;}#sk-container-id-4 div.sk-item::before, #sk-container-id-4 div.sk-parallel-item::before {content: \"\";position: absolute;border-left: 1px solid gray;box-sizing: border-box;top: 0;bottom: 0;left: 50%;z-index: -1;}#sk-container-id-4 div.sk-parallel-item {display: flex;flex-direction: column;z-index: 1;position: relative;background-color: white;}#sk-container-id-4 div.sk-parallel-item:first-child::after {align-self: flex-end;width: 50%;}#sk-container-id-4 div.sk-parallel-item:last-child::after {align-self: flex-start;width: 50%;}#sk-container-id-4 div.sk-parallel-item:only-child::after {width: 0;}#sk-container-id-4 div.sk-dashed-wrapped {border: 1px dashed gray;margin: 0 0.4em 0.5em 0.4em;box-sizing: border-box;padding-bottom: 0.4em;background-color: white;}#sk-container-id-4 div.sk-label label {font-family: monospace;font-weight: bold;display: inline-block;line-height: 1.2em;}#sk-container-id-4 div.sk-label-container {text-align: center;}#sk-container-id-4 div.sk-container {/* jupyter's `normalize.less` sets `[hidden] { display: none; }` but bootstrap.min.css set `[hidden] { display: none !important; }` so we also need the `!important` here to be able to override the default hidden behavior on the sphinx rendered scikit-learn.org. See: https://github.com/scikit-learn/scikit-learn/issues/21755 */display: inline-block !important;position: relative;}#sk-container-id-4 div.sk-text-repr-fallback {display: none;}</style><div id=\"sk-container-id-4\" class=\"sk-top-container\"><div class=\"sk-text-repr-fallback\"><pre>LogisticRegression(max_iter=1000, random_state=42)</pre><b>In a Jupyter environment, please rerun this cell to show the HTML representation or trust the notebook. <br />On GitHub, the HTML representation is unable to render, please try loading this page with nbviewer.org.</b></div><div class=\"sk-container\" hidden><div class=\"sk-item\"><div class=\"sk-estimator sk-toggleable\"><input class=\"sk-toggleable__control sk-hidden--visually\" id=\"sk-estimator-id-4\" type=\"checkbox\" checked><label for=\"sk-estimator-id-4\" class=\"sk-toggleable__label sk-toggleable__label-arrow\">LogisticRegression</label><div class=\"sk-toggleable__content\"><pre>LogisticRegression(max_iter=1000, random_state=42)</pre></div></div></div></div></div>"
      ],
      "text/plain": [
       "LogisticRegression(max_iter=1000, random_state=42)"
      ]
     },
     "execution_count": 105,
     "metadata": {},
     "output_type": "execute_result"
    }
   ],
   "source": [
    "lr.fit(x_train_b, y_train_b)"
   ]
  },
  {
   "cell_type": "code",
   "execution_count": 106,
   "id": "9401c388-6c77-4220-b6aa-70063fcd7801",
   "metadata": {},
   "outputs": [],
   "source": [
    "y_pred_b= lr.predict(x_test_b)"
   ]
  },
  {
   "cell_type": "code",
   "execution_count": 107,
   "id": "4f2453a0-9d9a-45c4-a56f-8275a76e7562",
   "metadata": {},
   "outputs": [
    {
     "name": "stdout",
     "output_type": "stream",
     "text": [
      "Acurácia: 0.9989765391276965\n",
      "Acurácia - Balanceado: 0.9417722516699837\n",
      "Precisão: 0.2\n",
      "Precisão - Balanceado: 0.9241993556945234\n",
      "Recall: 0.043478260869565216\n",
      "Recall - Balanceado: 0.9623125493291239\n",
      "F1: 0.07142857142857142\n",
      "F1 - Balanceado: 0.9428709521507975\n"
     ]
    }
   ],
   "source": [
    "from sklearn import metrics\n",
    "\n",
    "print(\"Acurácia:\", metrics.accuracy_score(y_test, y_pred))\n",
    "print(\"Acurácia - Balanceado:\", metrics.accuracy_score(y_test_b, y_pred_b))\n",
    "print(\"Precisão:\", metrics.precision_score(y_test, y_pred))\n",
    "print(\"Precisão - Balanceado:\", metrics.precision_score(y_test_b, y_pred_b))\n",
    "print(\"Recall:\", metrics.recall_score(y_test, y_pred))\n",
    "print(\"Recall - Balanceado:\", metrics.recall_score(y_test_b, y_pred_b))\n",
    "print(\"F1:\", metrics.f1_score(y_test, y_pred))\n",
    "print(\"F1 - Balanceado:\", metrics.f1_score(y_test_b, y_pred_b))"
   ]
  },
  {
   "cell_type": "markdown",
   "id": "72e67944-8a8b-436e-8252-ec14eb8af33d",
   "metadata": {},
   "source": [
    "### Claramente o modelo melhorou e, agora,a acurácia é mais confiável."
   ]
  },
  {
   "cell_type": "code",
   "execution_count": 108,
   "id": "f73ccee1-4fb4-47b5-9664-db9d2fd2cc4c",
   "metadata": {},
   "outputs": [
    {
     "data": {
      "text/plain": [
       "<sklearn.metrics._plot.confusion_matrix.ConfusionMatrixDisplay at 0x7f25b81d9f10>"
      ]
     },
     "execution_count": 108,
     "metadata": {},
     "output_type": "execute_result"
    },
    {
     "data": {
      "image/png": "[encoded data removed]",
      "text/plain": [
       "<Figure size 864x576 with 2 Axes>"
      ]
     },
     "metadata": {
      "needs_background": "light"
     },
     "output_type": "display_data"
    }
   ],
   "source": [
    "cm_b = confusion_matrix(y_test_b, y_pred_b)\n",
    "display = ConfusionMatrixDisplay(confusion_matrix=cm_b)\n",
    "display.plot()"
   ]
  },
  {
   "cell_type": "code",
   "execution_count": 109,
   "id": "9d45b2bb-a59e-4ba8-b47e-838cfad633ae",
   "metadata": {},
   "outputs": [
    {
     "data": {
      "text/plain": [
       "<matplotlib.legend.Legend at 0x7f25b8136640>"
      ]
     },
     "execution_count": 109,
     "metadata": {},
     "output_type": "execute_result"
    },
    {
     "data": {
      "image/png": "[encoded data removed]",
      "text/plain": [
       "<Figure size 864x576 with 1 Axes>"
      ]
     },
     "metadata": {
      "needs_background": "light"
     },
     "output_type": "display_data"
    }
   ],
   "source": [
    "y_pred_proba_b = lr.predict_proba(x_test_b)[::,1]\n",
    "fpr, tpr, _ = metrics.roc_curve(y_test_b, y_pred_proba_b)\n",
    "auc = metrics.roc_auc_score(y_test_b,y_pred_proba_b)\n",
    "\n",
    "plt.rcParams['figure.figsize'] = (12.,8.)\n",
    "plt.plot(fpr, tpr, label = 'LR, auc='+str(auc))\n",
    "plt.plot([0,1],[0,1], color = 'red', lw = 2, linestyle='--')\n",
    "plt.legend(loc=4)"
   ]
  },
  {
   "cell_type": "code",
   "execution_count": 110,
   "id": "f39db5c6-0bba-4f8f-bcd3-a40edfa0a54c",
   "metadata": {},
   "outputs": [],
   "source": [
    "# pandas_profiling.ProfileReport(df_balanceado)"
   ]
  },
  {
   "cell_type": "markdown",
   "id": "113b97c7-2e1a-4849-8ab9-fa9e4796916d",
   "metadata": {},
   "source": [
    "### Correlações - Hipóteses\n",
    "\n",
    "* Fraudes ocorrem mais pelo tipo \"TRANSFER\"\n",
    "\n",
    "* Fraude e tempo estão altamente correlacionadas. A Fraude pode ocorrer em horários que não são o padrão do cliente.\n",
    "\n",
    "* O cliente pode realizar transações mais no início do mês e acontecer movimentações fora desse período, sendo estas as fraudes."
   ]
  },
  {
   "cell_type": "markdown",
   "id": "76f8dfc9-7b39-4314-a2c4-f59fe0edebfd",
   "metadata": {},
   "source": [
    "### Árvore de decisão"
   ]
  },
  {
   "cell_type": "code",
   "execution_count": 111,
   "id": "215a4abe-f174-4fb8-a2c1-a0c53a22b51a",
   "metadata": {},
   "outputs": [],
   "source": [
    "from sklearn.tree import DecisionTreeClassifier"
   ]
  },
  {
   "cell_type": "code",
   "execution_count": 112,
   "id": "589ca40c-18fa-437c-b3b6-333846fc0110",
   "metadata": {},
   "outputs": [],
   "source": [
    "# Árvores muito profundas podem resultar em overfitting:\n",
    "\n",
    "ad = DecisionTreeClassifier(max_depth=5, random_state=SEED)"
   ]
  },
  {
   "cell_type": "code",
   "execution_count": 113,
   "id": "6fe6fd59-4f41-4316-a40c-f337461dc104",
   "metadata": {},
   "outputs": [],
   "source": [
    "model_ad = ad.fit(x_train_b, y_train_b)\n",
    "y_pred_ad = ad.predict(x_test_b)"
   ]
  },
  {
   "cell_type": "code",
   "execution_count": 114,
   "id": "f24fb5bc-7003-459e-ac1c-aeecce12f60b",
   "metadata": {},
   "outputs": [
    {
     "name": "stdout",
     "output_type": "stream",
     "text": [
      "Acurácia: 0.9989765391276965\n",
      "Acurácia - Balanceado - Logística: 0.9417722516699837\n",
      "Acurácia - Balanceado - Árvore: 0.9622849711324362\n",
      "Precisão: 0.2\n",
      "Precisão - Balanceado - Logística: 0.9241993556945234\n",
      "Precisão - Balanceado - Árvore: 0.9381639982043992\n",
      "Recall: 0.043478260869565216\n",
      "Recall - Balanceado - Logística: 0.9623125493291239\n",
      "Recall - Balanceado - Árvore: 0.9897000789265983\n",
      "F1: 0.07142857142857142\n",
      "F1 - Balanceado - Logística: 0.9428709521507975\n",
      "F1 - Balanceado - Árvore: 0.9632432017206943\n"
     ]
    }
   ],
   "source": [
    "print(\"Acurácia:\", metrics.accuracy_score(y_test, y_pred))\n",
    "print(\"Acurácia - Balanceado - Logística:\", metrics.accuracy_score(y_test_b, y_pred_b))\n",
    "print(\"Acurácia - Balanceado - Árvore:\", metrics.accuracy_score(y_test_b, y_pred_ad))\n",
    "\n",
    "print(\"Precisão:\", metrics.precision_score(y_test, y_pred))\n",
    "print(\"Precisão - Balanceado - Logística:\", metrics.precision_score(y_test_b, y_pred_b))\n",
    "print(\"Precisão - Balanceado - Árvore:\", metrics.precision_score(y_test_b, y_pred_ad))\n",
    "\n",
    "print(\"Recall:\", metrics.recall_score(y_test, y_pred))\n",
    "print(\"Recall - Balanceado - Logística:\", metrics.recall_score(y_test_b, y_pred_b))\n",
    "print(\"Recall - Balanceado - Árvore:\", metrics.recall_score(y_test_b, y_pred_ad))\n",
    "\n",
    "print(\"F1:\", metrics.f1_score(y_test, y_pred))\n",
    "print(\"F1 - Balanceado - Logística:\", metrics.f1_score(y_test_b, y_pred_b))\n",
    "print(\"F1 - Balanceado - Árvore:\", metrics.f1_score(y_test_b, y_pred_ad))"
   ]
  },
  {
   "cell_type": "code",
   "execution_count": 115,
   "id": "38e4f4f7-a54c-4226-89e7-2dcc14222f22",
   "metadata": {},
   "outputs": [
    {
     "data": {
      "text/plain": [
       "<sklearn.metrics._plot.confusion_matrix.ConfusionMatrixDisplay at 0x7f25b80e6d30>"
      ]
     },
     "execution_count": 115,
     "metadata": {},
     "output_type": "execute_result"
    },
    {
     "data": {
      "image/png": "[encoded data removed]",
      "text/plain": [
       "<Figure size 864x576 with 2 Axes>"
      ]
     },
     "metadata": {
      "needs_background": "light"
     },
     "output_type": "display_data"
    }
   ],
   "source": [
    "cm_ar = confusion_matrix(y_test_b, y_pred_ad)\n",
    "display = ConfusionMatrixDisplay(confusion_matrix=cm_ar)\n",
    "display.plot()"
   ]
  },
  {
   "cell_type": "code",
   "execution_count": 116,
   "id": "80543eda-8a7a-40f5-abdd-515338816f6e",
   "metadata": {},
   "outputs": [
    {
     "data": {
      "text/plain": [
       "<matplotlib.legend.Legend at 0x7f25b803ca30>"
      ]
     },
     "execution_count": 116,
     "metadata": {},
     "output_type": "execute_result"
    },
    {
     "data": {
      "image/png": "[encoded data removed]",
      "text/plain": [
       "<Figure size 864x576 with 1 Axes>"
      ]
     },
     "metadata": {
      "needs_background": "light"
     },
     "output_type": "display_data"
    }
   ],
   "source": [
    "y_pred_proba_ar = ad.predict_proba(x_test_b)[::,1]\n",
    "fpr, tpr, _ = metrics.roc_curve(y_test_b, y_pred_proba_ar)\n",
    "auc = metrics.roc_auc_score(y_test_b,y_pred_proba_ar)\n",
    "\n",
    "plt.rcParams['figure.figsize'] = (12.,8.)\n",
    "plt.plot(fpr, tpr, label = 'LR, auc='+str(auc))\n",
    "plt.plot([0,1],[0,1], color = 'red', lw = 2, linestyle='--')\n",
    "plt.legend(loc=4)"
   ]
  },
  {
   "cell_type": "markdown",
   "id": "173ed0c6-3d25-46df-a465-7ce4864da02c",
   "metadata": {},
   "source": [
    "### Este modelo é ainda melhor do que a regresão logística"
   ]
  },
  {
   "cell_type": "markdown",
   "id": "43871200-4d7d-428a-a474-2d9541ec0791",
   "metadata": {},
   "source": [
    "### Random Forest"
   ]
  },
  {
   "cell_type": "code",
   "execution_count": 117,
   "id": "5e0f8379-7af2-41b3-becf-5a92f8e1a0e6",
   "metadata": {},
   "outputs": [],
   "source": [
    "from sklearn.ensemble import RandomForestClassifier"
   ]
  },
  {
   "cell_type": "code",
   "execution_count": 118,
   "id": "6c037f80-0da6-4579-89d1-f73257efa7b6",
   "metadata": {},
   "outputs": [],
   "source": [
    "rf = RandomForestClassifier(max_depth=5, random_state=SEED)"
   ]
  },
  {
   "cell_type": "code",
   "execution_count": 119,
   "id": "59f1ffbc-0b9d-4e9b-9050-af85d403ddef",
   "metadata": {},
   "outputs": [],
   "source": [
    "model_rf = rf.fit(x_train_b, y_train_b)\n",
    "y_pred_rf = ad.predict(x_test_b)"
   ]
  },
  {
   "cell_type": "code",
   "execution_count": 120,
   "id": "c7439d2d-8a1b-46da-9e7d-6b612660f80b",
   "metadata": {},
   "outputs": [
    {
     "name": "stdout",
     "output_type": "stream",
     "text": [
      "Acurácia: 0.9989765391276965\n",
      "Acurácia - Balanceado - Logística: 0.9417722516699837\n",
      "Acurácia - Balanceado - Árvore: 0.9622849711324362\n",
      "Acurácia - Balanceado - Random Forest: 0.9622849711324362\n",
      "Precisão: 0.2\n",
      "Precisão - Balanceado - Logística: 0.9241993556945234\n",
      "Precisão - Balanceado - Árvore: 0.9381639982043992\n",
      "Precisão - Balanceado - Random Forest: 0.9381639982043992\n",
      "Recall: 0.043478260869565216\n",
      "Recall - Balanceado - Logística: 0.9623125493291239\n",
      "Recall - Balanceado - Árvore: 0.9897000789265983\n",
      "Recall - Balanceado - Random Forest: 0.9897000789265983\n",
      "F1: 0.07142857142857142\n",
      "F1 - Balanceado - Logística: 0.9428709521507975\n",
      "F1 - Balanceado - Árvore: 0.9632432017206943\n",
      "F1 - Balanceado - Random Forest: 0.9632432017206943\n"
     ]
    }
   ],
   "source": [
    "print(\"Acurácia:\", metrics.accuracy_score(y_test, y_pred))\n",
    "print(\"Acurácia - Balanceado - Logística:\", metrics.accuracy_score(y_test_b, y_pred_b))\n",
    "print(\"Acurácia - Balanceado - Árvore:\", metrics.accuracy_score(y_test_b, y_pred_ad))\n",
    "print(\"Acurácia - Balanceado - Random Forest:\", metrics.accuracy_score(y_test_b, y_pred_rf))\n",
    "\n",
    "print(\"Precisão:\", metrics.precision_score(y_test, y_pred))\n",
    "print(\"Precisão - Balanceado - Logística:\", metrics.precision_score(y_test_b, y_pred_b))\n",
    "print(\"Precisão - Balanceado - Árvore:\", metrics.precision_score(y_test_b, y_pred_ad))\n",
    "print(\"Precisão - Balanceado - Random Forest:\", metrics.precision_score(y_test_b, y_pred_rf))\n",
    "\n",
    "print(\"Recall:\", metrics.recall_score(y_test, y_pred))\n",
    "print(\"Recall - Balanceado - Logística:\", metrics.recall_score(y_test_b, y_pred_b))\n",
    "print(\"Recall - Balanceado - Árvore:\", metrics.recall_score(y_test_b, y_pred_ad))\n",
    "print(\"Recall - Balanceado - Random Forest:\", metrics.recall_score(y_test_b, y_pred_rf))\n",
    "\n",
    "print(\"F1:\", metrics.f1_score(y_test, y_pred))\n",
    "print(\"F1 - Balanceado - Logística:\", metrics.f1_score(y_test_b, y_pred_b))\n",
    "print(\"F1 - Balanceado - Árvore:\", metrics.f1_score(y_test_b, y_pred_ad))\n",
    "print(\"F1 - Balanceado - Random Forest:\", metrics.f1_score(y_test_b, y_pred_rf))"
   ]
  },
  {
   "cell_type": "code",
   "execution_count": 121,
   "id": "00a44478-4f35-43b1-84a4-9a11325b446f",
   "metadata": {},
   "outputs": [
    {
     "data": {
      "text/plain": [
       "<sklearn.metrics._plot.confusion_matrix.ConfusionMatrixDisplay at 0x7f25a3ff8e50>"
      ]
     },
     "execution_count": 121,
     "metadata": {},
     "output_type": "execute_result"
    },
    {
     "data": {
      "image/png": "[encoded data removed]",
      "text/plain": [
       "<Figure size 864x576 with 2 Axes>"
      ]
     },
     "metadata": {
      "needs_background": "light"
     },
     "output_type": "display_data"
    }
   ],
   "source": [
    "cm_rf = confusion_matrix(y_test_b, y_pred_rf)\n",
    "display = ConfusionMatrixDisplay(confusion_matrix=cm_rf)\n",
    "display.plot()"
   ]
  },
  {
   "cell_type": "code",
   "execution_count": 122,
   "id": "0f6f2fee-cae2-4132-b9cb-5c56b7a99f46",
   "metadata": {},
   "outputs": [
    {
     "data": {
      "text/plain": [
       "<matplotlib.legend.Legend at 0x7f25a3ed4130>"
      ]
     },
     "execution_count": 122,
     "metadata": {},
     "output_type": "execute_result"
    },
    {
     "data": {
      "image/png": "[encoded data removed]",
      "text/plain": [
       "<Figure size 864x576 with 1 Axes>"
      ]
     },
     "metadata": {
      "needs_background": "light"
     },
     "output_type": "display_data"
    }
   ],
   "source": [
    "y_pred_proba_rf = ad.predict_proba(x_test_b)[::,1]\n",
    "fpr, tpr, _ = metrics.roc_curve(y_test_b, y_pred_proba_rf)\n",
    "auc = metrics.roc_auc_score(y_test_b,y_pred_proba_rf)\n",
    "\n",
    "plt.rcParams['figure.figsize'] = (12.,8.)\n",
    "plt.plot(fpr, tpr, label = 'LR, auc='+str(auc))\n",
    "plt.plot([0,1],[0,1], color = 'red', lw = 2, linestyle='--')\n",
    "plt.legend(loc=4)"
   ]
  },
  {
   "cell_type": "markdown",
   "id": "3923f8e5-baa5-4005-b091-f4202b3a637e",
   "metadata": {},
   "source": [
    "Árvore de decisão é um dos modelos de previsão mais simples, inspirado na forma que os seres humanos tomam decisões. Essas árvores podem ser utilizadas tanto para modelos de regressão, que têm intuito de prever valores numéricos, quanto para modelos de classificação, que têm o objetivo de prever categorias.\n",
    "\n",
    "Ela pode ser representada graficamente, de forma que cada uma das decisões tomadas no processo possam ser visualizadas. Mas, conforme aumentamos a quantidade de variáveis envolvidas na análise, se torna inviável essa visualização.\n",
    "\n",
    "Os elementos principais da árvore de decisão são os nós, ramos e folhas. A estrutura da árvore se inicia com um nó inicial, também chamado de raiz. A partir dela são traçadas ramificações que geram novos nós e o processo se repete para os nós subsequentes até que chegue a uma folha. Essa se trata de um nó especial e tem a informação da resposta, podendo ser uma categoria ou um valor previsto.\n",
    "\n",
    "Cada ramo representa uma tomada de decisão a partir de um valor ou categoria das variáveis explicativas, dividindo o conjunto de dados em nós que apresentam dados com características cada vez mais similares entre si.\n",
    "\n",
    "As árvores de decisão possuem uma característica que as impede de serem consideradas como ferramenta ideal: a imprecisão. Isso quer dizer que elas funcionam muito bem com os dados utilizados para criá-las, mas não tão bem para realizar a classificação de novas amostras. A floresta aleatória (Random Forest) busca resolver esse problema de overfitting (sobreajuste).\n",
    "\n",
    "O algoritmo Random Forest se baseia na utilização de diversas árvores de decisão para encontrar o resultado. Como essa árvore pode ser usada para regressão e classificação, o Random Forest também pode ser utilizado para os dois tipos de problemas. Vamos nos concentrar aqui nos problemas de classificação.\n",
    "\n",
    "Para realizar a previsão, o algoritmo cria diversas árvores de decisão no conjunto de dados e é realizada a predição para cada uma delas. Internamente, é feita uma “votação” para analisar qual predição tem maior ocorrência e, então, essa predição torna-se a resposta final.\n",
    "\n",
    "Se fosse utilizada a mesma base de dados na criação de todas as árvores de decisão do Random Forest, as respostas de cada uma delas seriam iguais e o resultado da votação seria idêntico a realizar um único modelo de árvore de decisão. Para evitar esse problema, é utilizada uma técnica chamada bootstraping.\n",
    "\n",
    "Essa técnica consiste em fazer amostragens com reposição do conjunto de dados original e cada uma delas será usada para uma árvore de decisão diferente. A amostragem com reposição significa que, ao sortearmos um elemento, isso não nos impede que ele mesmo apareça em sorteios futuros. Dessa forma, as árvores terão resultados distintos, uma vez que são treinadas com conjuntos de dados diferentes e, na amostragem com repetição, as observações da tabela poderão ficar de fora e outras estarão duplicadas."
   ]
  },
  {
   "cell_type": "markdown",
   "id": "8ed77156-7f79-4b71-a20f-17c037ef765d",
   "metadata": {},
   "source": [
    "### Visualizando as informações dos 3 modelos testados"
   ]
  },
  {
   "cell_type": "code",
   "execution_count": 123,
   "id": "758032f8-de7b-489d-92ee-cbfa2f039cd6",
   "metadata": {},
   "outputs": [],
   "source": [
    "classifiers = [\n",
    "    LogisticRegression(max_iter=1000, random_state=SEED),\n",
    "    DecisionTreeClassifier(max_depth = 5, random_state=SEED),\n",
    "    RandomForestClassifier(max_depth= 5, random_state = SEED)]"
   ]
  },
  {
   "cell_type": "code",
   "execution_count": 124,
   "id": "399e594b-8e27-4cac-810c-cdb384179f2d",
   "metadata": {},
   "outputs": [
    {
     "name": "stdout",
     "output_type": "stream",
     "text": [
      "==============================\n",
      "LogisticRegression\n",
      "****Resultados****\n",
      "Accuracy: 0.9989765391276965\n",
      "Precision: 0.2\n",
      "Recall: 0.043478260869565216\n",
      "F1: 0.07142857142857142\n",
      "==============================\n",
      "DecisionTreeClassifier\n",
      "****Resultados****\n",
      "Accuracy: 0.9993308140450323\n",
      "Precision: 0.875\n",
      "Recall: 0.30434782608695654\n",
      "F1: 0.4516129032258065\n",
      "==============================\n",
      "RandomForestClassifier\n",
      "****Resultados****\n",
      "Accuracy: 0.9991339946465123\n",
      "Precision: 1.0\n",
      "Recall: 0.043478260869565216\n",
      "F1: 0.08333333333333333\n"
     ]
    },
    {
     "data": {
      "image/png": "[encoded data removed]",
      "text/plain": [
       "<Figure size 864x576 with 2 Axes>"
      ]
     },
     "metadata": {
      "needs_background": "light"
     },
     "output_type": "display_data"
    },
    {
     "data": {
      "image/png": "[encoded data removed]",
      "text/plain": [
       "<Figure size 864x576 with 2 Axes>"
      ]
     },
     "metadata": {
      "needs_background": "light"
     },
     "output_type": "display_data"
    },
    {
     "data": {
      "image/png": "[encoded data removed]",
      "text/plain": [
       "<Figure size 864x576 with 2 Axes>"
      ]
     },
     "metadata": {
      "needs_background": "light"
     },
     "output_type": "display_data"
    }
   ],
   "source": [
    "for clf in classifiers:\n",
    "  clf.fit(x_train, y_train)\n",
    "  name = clf.__class__.__name__\n",
    "  print(\"=\"*30)\n",
    "  print(name)\n",
    "  print('****Resultados****')\n",
    "  y_pred = clf.predict(x_test)\n",
    "  print(\"Accuracy:\", metrics.accuracy_score(y_test, y_pred))\n",
    "  print(\"Precision:\", metrics.precision_score(y_test, y_pred))\n",
    "  print(\"Recall:\", metrics.recall_score(y_test, y_pred))\n",
    "  print(\"F1:\", metrics.f1_score(y_test, y_pred))\n",
    "\n",
    "  cm = confusion_matrix(y_test, y_pred)\n",
    "  disp = ConfusionMatrixDisplay(confusion_matrix=cm)\n",
    "  disp.plot()\n"
   ]
  },
  {
   "cell_type": "markdown",
   "id": "41b8c396-badc-44d9-9168-c428e5d11147",
   "metadata": {},
   "source": [
    "### Melhorando o modelo Random Forest"
   ]
  },
  {
   "cell_type": "markdown",
   "id": "46d4e4be-8fb5-4e0c-a521-5f42d76f532d",
   "metadata": {},
   "source": [
    "***\n",
    "### Hiperparâmetros:\n",
    "\n",
    "Dentre os parâmetros que podem ser modificados no modelo Random Forest, estão o criterion e as max_features. Vamos analisar o que cada um desses parâmetros faz.\n",
    "\n",
    "* Criterion:\n",
    "Tem a função de medir a qualidade das divisões dos nós das árvores de decisão. As opções possíveis para esse parâmetro são ”gini” ou ”entropy”.\n",
    "\n",
    "> Gini:\n",
    "O critério de impureza Gini,ou somente Gini, serve para medir a frequência com que um elemento escolhido aleatoriamente pode ser identificado incorretamente. Isso significa que quanto menor o valor, mais puros são os dados e menor o erro cometido. [Mais aqui](https://en.wikipedia.org/wiki/Decision_tree_learning#Gini_impurity)\n",
    "\n",
    "> Entropia:\n",
    "O critério de entropia (ou entropy) para ganho de informação é o menor número médio de perguntas binárias (sim ou não) necessário para identificar a saída de uma fonte. Esse valor informa quão informativas são as características para serem selecionadas. Desse modo, quanto maior a entropia, maior o conteúdo da informação. [Mais aqui](https://en.wikipedia.org/wiki/Entropy_%28information_theory%29)\n",
    "\n",
    "* max_features:\n",
    "É a quantidade máxima de variáveis que pode ser utilizada para fazer as divisões dos nós das árvores. As opções possíveis para esse parâmetro são ”auto”, ”sqrt” , ”log2” ou valores numéricos.\n",
    "\n",
    "Caso sejam escolhidas as opções “auto” ou “sqrt”, o número máximo de variáveis será a raiz quadrada da quantidade de variáveis de treinamento.\n",
    "Escolhendo a opção “log2”, será extraído o logaritmo na base 2 da quantidade de variáveis de treinamento.\n",
    "E para o caso dos valores numéricos, o número máximo de variáveis que podem ser usadas nas divisões dos nós será igual ao valor utilizado.\n",
    "\n",
    "* [Validação Cruzada](https://www.alura.com.br/artigos/conhecendo-a-validacao-cruzada)"
   ]
  },
  {
   "cell_type": "markdown",
   "id": "f074f79b-75ba-4195-a195-0d271f25b6f8",
   "metadata": {},
   "source": [
    "### Testando hiperparâmetros com o RandomizedSearchCV"
   ]
  },
  {
   "cell_type": "code",
   "execution_count": 125,
   "id": "8adb865c-a258-4abb-98be-da375bac0e73",
   "metadata": {},
   "outputs": [],
   "source": [
    "n_estimators = np.arange(20, 200, step = 20)\n",
    "criterion = ['gini', 'entropy']\n",
    "max_features = ['auto', 'sqrt', 'log2']\n",
    "max_depth = list(np.arange(2,10, step = 1))\n",
    "min_samples_split = np.arange(2,10, step=2)\n",
    "min_samples_leaf = [1,2,4]\n",
    "bootstrap = [True, False]"
   ]
  },
  {
   "cell_type": "code",
   "execution_count": 126,
   "id": "25578c91-5af3-4f13-abf3-812256a8a178",
   "metadata": {},
   "outputs": [],
   "source": [
    "param_grid = { \n",
    "    'n_estimators': n_estimators,\n",
    "    'criterion' : criterion,\n",
    "    'max_features' : max_features,\n",
    "    'max_depth': max_depth,\n",
    "    'min_samples_split' : min_samples_split,\n",
    "    'min_samples_leaf' : min_samples_leaf,\n",
    "    'bootstrap' : bootstrap} \n",
    "    "
   ]
  },
  {
   "cell_type": "code",
   "execution_count": 127,
   "id": "cc7e80f9-646f-4988-a34a-cbc001371ab6",
   "metadata": {},
   "outputs": [],
   "source": [
    "from sklearn.model_selection import RandomizedSearchCV"
   ]
  },
  {
   "cell_type": "code",
   "execution_count": 128,
   "id": "8f026e7d-eb8d-4ac5-ac6c-d76b5716eff0",
   "metadata": {},
   "outputs": [],
   "source": [
    "SEED2 = 70\n",
    "\n",
    "rf = RandomForestClassifier(random_state = SEED2)"
   ]
  },
  {
   "cell_type": "code",
   "execution_count": 129,
   "id": "70748b95-5d72-42c5-b492-dcc937f86ff8",
   "metadata": {},
   "outputs": [],
   "source": [
    "random_cv = RandomizedSearchCV(rf, param_grid, n_iter = 5, cv = 3, scoring = \"recall\", n_jobs=-1, random_state = SEED2)"
   ]
  },
  {
   "cell_type": "code",
   "execution_count": 130,
   "id": "90802717-f656-4615-a1f9-ec163fc0d483",
   "metadata": {},
   "outputs": [
    {
     "name": "stderr",
     "output_type": "stream",
     "text": [
      "/home/silsantos/anaconda3/envs/coamo/lib/python3.9/site-packages/sklearn/ensemble/_forest.py:427: FutureWarning: `max_features='auto'` has been deprecated in 1.1 and will be removed in 1.3. To keep the past behaviour, explicitly set `max_features='sqrt'` or remove this parameter as it is also the default value for RandomForestClassifiers and ExtraTreesClassifiers.\n",
      "  warn(\n",
      "/home/silsantos/anaconda3/envs/coamo/lib/python3.9/site-packages/sklearn/ensemble/_forest.py:427: FutureWarning: `max_features='auto'` has been deprecated in 1.1 and will be removed in 1.3. To keep the past behaviour, explicitly set `max_features='sqrt'` or remove this parameter as it is also the default value for RandomForestClassifiers and ExtraTreesClassifiers.\n",
      "  warn(\n",
      "/home/silsantos/anaconda3/envs/coamo/lib/python3.9/site-packages/sklearn/ensemble/_forest.py:427: FutureWarning: `max_features='auto'` has been deprecated in 1.1 and will be removed in 1.3. To keep the past behaviour, explicitly set `max_features='sqrt'` or remove this parameter as it is also the default value for RandomForestClassifiers and ExtraTreesClassifiers.\n",
      "  warn(\n",
      "/home/silsantos/anaconda3/envs/coamo/lib/python3.9/site-packages/sklearn/ensemble/_forest.py:427: FutureWarning: `max_features='auto'` has been deprecated in 1.1 and will be removed in 1.3. To keep the past behaviour, explicitly set `max_features='sqrt'` or remove this parameter as it is also the default value for RandomForestClassifiers and ExtraTreesClassifiers.\n",
      "  warn(\n",
      "/home/silsantos/anaconda3/envs/coamo/lib/python3.9/site-packages/sklearn/ensemble/_forest.py:427: FutureWarning: `max_features='auto'` has been deprecated in 1.1 and will be removed in 1.3. To keep the past behaviour, explicitly set `max_features='sqrt'` or remove this parameter as it is also the default value for RandomForestClassifiers and ExtraTreesClassifiers.\n",
      "  warn(\n",
      "/home/silsantos/anaconda3/envs/coamo/lib/python3.9/site-packages/sklearn/ensemble/_forest.py:427: FutureWarning: `max_features='auto'` has been deprecated in 1.1 and will be removed in 1.3. To keep the past behaviour, explicitly set `max_features='sqrt'` or remove this parameter as it is also the default value for RandomForestClassifiers and ExtraTreesClassifiers.\n",
      "  warn(\n"
     ]
    },
    {
     "name": "stdout",
     "output_type": "stream",
     "text": [
      "CPU times: user 16.6 s, sys: 143 ms, total: 16.7 s\n",
      "Wall time: 45.8 s\n"
     ]
    }
   ],
   "source": [
    "%%time\n",
    "\n",
    "rcv = random_cv.fit(X_b, Y_b)"
   ]
  },
  {
   "cell_type": "code",
   "execution_count": 131,
   "id": "35c82cd9-9b60-432a-82f5-c39c57594def",
   "metadata": {},
   "outputs": [
    {
     "data": {
      "text/html": [
       "<div>\n",
       "<style scoped>\n",
       "    .dataframe tbody tr th:only-of-type {\n",
       "        vertical-align: middle;\n",
       "    }\n",
       "\n",
       "    .dataframe tbody tr th {\n",
       "        vertical-align: top;\n",
       "    }\n",
       "\n",
       "    .dataframe thead th {\n",
       "        text-align: right;\n",
       "    }\n",
       "</style>\n",
       "<table border=\"1\" class=\"dataframe\">\n",
       "  <thead>\n",
       "    <tr style=\"text-align: right;\">\n",
       "      <th></th>\n",
       "      <th>mean_fit_time</th>\n",
       "      <th>std_fit_time</th>\n",
       "      <th>mean_score_time</th>\n",
       "      <th>std_score_time</th>\n",
       "      <th>param_n_estimators</th>\n",
       "      <th>param_min_samples_split</th>\n",
       "      <th>param_min_samples_leaf</th>\n",
       "      <th>param_max_features</th>\n",
       "      <th>param_max_depth</th>\n",
       "      <th>param_criterion</th>\n",
       "      <th>param_bootstrap</th>\n",
       "      <th>params</th>\n",
       "      <th>split0_test_score</th>\n",
       "      <th>split1_test_score</th>\n",
       "      <th>split2_test_score</th>\n",
       "      <th>mean_test_score</th>\n",
       "      <th>std_test_score</th>\n",
       "      <th>rank_test_score</th>\n",
       "    </tr>\n",
       "  </thead>\n",
       "  <tbody>\n",
       "    <tr>\n",
       "      <th>0</th>\n",
       "      <td>26.652400</td>\n",
       "      <td>0.766238</td>\n",
       "      <td>0.460751</td>\n",
       "      <td>0.018428</td>\n",
       "      <td>120</td>\n",
       "      <td>4</td>\n",
       "      <td>2</td>\n",
       "      <td>auto</td>\n",
       "      <td>9</td>\n",
       "      <td>gini</td>\n",
       "      <td>False</td>\n",
       "      <td>{'n_estimators': 120, 'min_samples_split': 4, ...</td>\n",
       "      <td>0.991665</td>\n",
       "      <td>0.999438</td>\n",
       "      <td>0.992817</td>\n",
       "      <td>0.994640</td>\n",
       "      <td>0.003425</td>\n",
       "      <td>2</td>\n",
       "    </tr>\n",
       "    <tr>\n",
       "      <th>1</th>\n",
       "      <td>11.064922</td>\n",
       "      <td>0.162315</td>\n",
       "      <td>0.684304</td>\n",
       "      <td>0.037753</td>\n",
       "      <td>120</td>\n",
       "      <td>4</td>\n",
       "      <td>2</td>\n",
       "      <td>auto</td>\n",
       "      <td>2</td>\n",
       "      <td>gini</td>\n",
       "      <td>False</td>\n",
       "      <td>{'n_estimators': 120, 'min_samples_split': 4, ...</td>\n",
       "      <td>0.914223</td>\n",
       "      <td>0.936009</td>\n",
       "      <td>0.862704</td>\n",
       "      <td>0.904312</td>\n",
       "      <td>0.030736</td>\n",
       "      <td>5</td>\n",
       "    </tr>\n",
       "    <tr>\n",
       "      <th>2</th>\n",
       "      <td>11.309276</td>\n",
       "      <td>0.400471</td>\n",
       "      <td>0.282470</td>\n",
       "      <td>0.034998</td>\n",
       "      <td>40</td>\n",
       "      <td>8</td>\n",
       "      <td>1</td>\n",
       "      <td>sqrt</td>\n",
       "      <td>7</td>\n",
       "      <td>entropy</td>\n",
       "      <td>False</td>\n",
       "      <td>{'n_estimators': 40, 'min_samples_split': 8, '...</td>\n",
       "      <td>0.980285</td>\n",
       "      <td>1.000000</td>\n",
       "      <td>0.973812</td>\n",
       "      <td>0.984699</td>\n",
       "      <td>0.011138</td>\n",
       "      <td>3</td>\n",
       "    </tr>\n",
       "    <tr>\n",
       "      <th>3</th>\n",
       "      <td>21.235008</td>\n",
       "      <td>2.618653</td>\n",
       "      <td>0.616398</td>\n",
       "      <td>0.149206</td>\n",
       "      <td>100</td>\n",
       "      <td>8</td>\n",
       "      <td>4</td>\n",
       "      <td>log2</td>\n",
       "      <td>9</td>\n",
       "      <td>entropy</td>\n",
       "      <td>True</td>\n",
       "      <td>{'n_estimators': 100, 'min_samples_split': 8, ...</td>\n",
       "      <td>0.993497</td>\n",
       "      <td>0.999025</td>\n",
       "      <td>0.992226</td>\n",
       "      <td>0.994916</td>\n",
       "      <td>0.002951</td>\n",
       "      <td>1</td>\n",
       "    </tr>\n",
       "    <tr>\n",
       "      <th>4</th>\n",
       "      <td>12.669969</td>\n",
       "      <td>1.026514</td>\n",
       "      <td>0.583743</td>\n",
       "      <td>0.085476</td>\n",
       "      <td>160</td>\n",
       "      <td>6</td>\n",
       "      <td>2</td>\n",
       "      <td>log2</td>\n",
       "      <td>2</td>\n",
       "      <td>gini</td>\n",
       "      <td>False</td>\n",
       "      <td>{'n_estimators': 160, 'min_samples_split': 6, ...</td>\n",
       "      <td>0.914223</td>\n",
       "      <td>0.943487</td>\n",
       "      <td>0.876537</td>\n",
       "      <td>0.911416</td>\n",
       "      <td>0.027404</td>\n",
       "      <td>4</td>\n",
       "    </tr>\n",
       "  </tbody>\n",
       "</table>\n",
       "</div>"
      ],
      "text/plain": [
       "   mean_fit_time  std_fit_time  mean_score_time  std_score_time  \\\n",
       "0      26.652400      0.766238         0.460751        0.018428   \n",
       "1      11.064922      0.162315         0.684304        0.037753   \n",
       "2      11.309276      0.400471         0.282470        0.034998   \n",
       "3      21.235008      2.618653         0.616398        0.149206   \n",
       "4      12.669969      1.026514         0.583743        0.085476   \n",
       "\n",
       "  param_n_estimators param_min_samples_split param_min_samples_leaf  \\\n",
       "0                120                       4                      2   \n",
       "1                120                       4                      2   \n",
       "2                 40                       8                      1   \n",
       "3                100                       8                      4   \n",
       "4                160                       6                      2   \n",
       "\n",
       "  param_max_features param_max_depth param_criterion param_bootstrap  \\\n",
       "0               auto               9            gini           False   \n",
       "1               auto               2            gini           False   \n",
       "2               sqrt               7         entropy           False   \n",
       "3               log2               9         entropy            True   \n",
       "4               log2               2            gini           False   \n",
       "\n",
       "                                              params  split0_test_score  \\\n",
       "0  {'n_estimators': 120, 'min_samples_split': 4, ...           0.991665   \n",
       "1  {'n_estimators': 120, 'min_samples_split': 4, ...           0.914223   \n",
       "2  {'n_estimators': 40, 'min_samples_split': 8, '...           0.980285   \n",
       "3  {'n_estimators': 100, 'min_samples_split': 8, ...           0.993497   \n",
       "4  {'n_estimators': 160, 'min_samples_split': 6, ...           0.914223   \n",
       "\n",
       "   split1_test_score  split2_test_score  mean_test_score  std_test_score  \\\n",
       "0           0.999438           0.992817         0.994640        0.003425   \n",
       "1           0.936009           0.862704         0.904312        0.030736   \n",
       "2           1.000000           0.973812         0.984699        0.011138   \n",
       "3           0.999025           0.992226         0.994916        0.002951   \n",
       "4           0.943487           0.876537         0.911416        0.027404   \n",
       "\n",
       "   rank_test_score  \n",
       "0                2  \n",
       "1                5  \n",
       "2                3  \n",
       "3                1  \n",
       "4                4  "
      ]
     },
     "execution_count": 131,
     "metadata": {},
     "output_type": "execute_result"
    }
   ],
   "source": [
    "pd.DataFrame(rcv.cv_results_)"
   ]
  },
  {
   "cell_type": "markdown",
   "id": "5b615d66-cf1d-463e-9568-6b46055225a4",
   "metadata": {},
   "source": [
    "### Verificando os melhores parâmetros"
   ]
  },
  {
   "cell_type": "code",
   "execution_count": 132,
   "id": "0556fff1-deae-4b2e-9036-dca280fdeac0",
   "metadata": {},
   "outputs": [
    {
     "data": {
      "text/plain": [
       "{'n_estimators': 100,\n",
       " 'min_samples_split': 8,\n",
       " 'min_samples_leaf': 4,\n",
       " 'max_features': 'log2',\n",
       " 'max_depth': 9,\n",
       " 'criterion': 'entropy',\n",
       " 'bootstrap': True}"
      ]
     },
     "execution_count": 132,
     "metadata": {},
     "output_type": "execute_result"
    }
   ],
   "source": [
    "rcv.best_params_"
   ]
  },
  {
   "cell_type": "markdown",
   "id": "e78443f4-21da-4d59-97a3-813a405f7a1e",
   "metadata": {},
   "source": [
    "### Utilizando os melhores parâmetros"
   ]
  },
  {
   "cell_type": "code",
   "execution_count": 133,
   "id": "babd4c86-1c09-4793-81b5-56ef3ab749dd",
   "metadata": {},
   "outputs": [],
   "source": [
    "rf_novo = RandomForestClassifier(**rcv.best_params_, random_state=SEED2)\n",
    "\n",
    "modelo = rf_novo.fit(x_train_b, y_train_b)\n",
    "y_pred = rf_novo.predict(x_test_b)"
   ]
  },
  {
   "cell_type": "code",
   "execution_count": 135,
   "id": "d8278b4b-caba-4d61-89f2-8613487c906f",
   "metadata": {},
   "outputs": [
    {
     "name": "stdout",
     "output_type": "stream",
     "text": [
      "Acurácia - Balanceado - Random Forest - Best Params: 0.9915860411042582\n",
      "Precisão - Balanceado - Random Forest - Best Params: 0.9906258615936036\n",
      "Recall - Balanceado - Random Forest - Best Params: 0.9925414364640884\n",
      "F1 - Balanceado - Random Forest - Best Paramns: 0.9915827238857459\n"
     ]
    }
   ],
   "source": [
    "print(\"Acurácia - Balanceado - Random Forest - Best Params:\", metrics.accuracy_score(y_test_b, y_pred))\n",
    "print(\"Precisão - Balanceado - Random Forest - Best Params:\", metrics.precision_score(y_test_b, y_pred))\n",
    "print(\"Recall - Balanceado - Random Forest - Best Params:\", metrics.recall_score(y_test_b, y_pred))\n",
    "print(\"F1 - Balanceado - Random Forest - Best Paramns:\", metrics.f1_score(y_test_b, y_pred))"
   ]
  },
  {
   "cell_type": "code",
   "execution_count": 136,
   "id": "d957b7df-4ae4-47c8-8953-b6b23bb0d6ab",
   "metadata": {},
   "outputs": [
    {
     "data": {
      "text/plain": [
       "<sklearn.metrics._plot.confusion_matrix.ConfusionMatrixDisplay at 0x7f25b8083610>"
      ]
     },
     "execution_count": 136,
     "metadata": {},
     "output_type": "execute_result"
    },
    {
     "data": {
      "image/png": "[encoded data removed]",
      "text/plain": [
       "<Figure size 864x576 with 2 Axes>"
      ]
     },
     "metadata": {
      "needs_background": "light"
     },
     "output_type": "display_data"
    }
   ],
   "source": [
    "cm_rf_novo = confusion_matrix(y_test_b, y_pred)\n",
    "display = ConfusionMatrixDisplay(confusion_matrix=cm_rf_novo)\n",
    "display.plot()"
   ]
  },
  {
   "cell_type": "markdown",
   "id": "d6ba3d31-657d-479d-943b-a3e339ebc728",
   "metadata": {},
   "source": [
    "### Note que os falsos positivos foram para 189 e os falsos negativos estão em 238. Só estão passando 189 fraudes."
   ]
  },
  {
   "cell_type": "code",
   "execution_count": null,
   "id": "d6b1e0da-ea90-48f9-b333-47bc16e28feb",
   "metadata": {},
   "outputs": [],
   "source": []
  }
 ],
 "metadata": {
  "kernelspec": {
   "display_name": "Python 3 (ipykernel)",
   "language": "python",
   "name": "python3"
  },
  "language_info": {
   "codemirror_mode": {
    "name": "ipython",
    "version": 3
   },
   "file_extension": ".py",
   "mimetype": "text/x-python",
   "name": "python",
   "nbconvert_exporter": "python",
   "pygments_lexer": "ipython3",
   "version": "3.9.7"
  }
 },
 "nbformat": 4,
 "nbformat_minor": 5
}
